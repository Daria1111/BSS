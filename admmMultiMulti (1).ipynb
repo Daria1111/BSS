{
  "nbformat": 4,
  "nbformat_minor": 0,
  "metadata": {
    "colab": {
      "name": "admmMultiMulti.ipynb",
      "provenance": [],
      "collapsed_sections": [],
      "machine_shape": "hm"
    },
    "kernelspec": {
      "name": "python3",
      "display_name": "Python 3"
    },
    "accelerator": "GPU"
  },
  "cells": [
    {
      "cell_type": "code",
      "metadata": {
        "id": "8FNmZKhUA9-5",
        "colab_type": "code",
        "colab": {}
      },
      "source": [
        "from google.colab import files\n",
        "import matplotlib.pyplot as plt\n",
        "from scipy.linalg import circulant\n",
        "import numpy as np\n",
        "import time\n",
        "from sklearn.decomposition import FastICA, PCA\n",
        "from google.colab import drive\n",
        "import imageio"
      ],
      "execution_count": 0,
      "outputs": []
    },
    {
      "cell_type": "code",
      "metadata": {
        "id": "Xk_sFCNpBDym",
        "colab_type": "code",
        "outputId": "274a7869-a777-4833-b737-662d616a149c",
        "colab": {
          "base_uri": "https://localhost:8080/",
          "height": 282
        }
      },
      "source": [
        "pic1 = np.zeros((10,10))\n",
        "pic1[2:7,3:9] = 1\n",
        "\n",
        "pic1[5:7, 3:9] = 0.5\n",
        "plt.imshow(pic1,'gray')"
      ],
      "execution_count": 3,
      "outputs": [
        {
          "output_type": "execute_result",
          "data": {
            "text/plain": [
              "<matplotlib.image.AxesImage at 0x7f5b0eb04080>"
            ]
          },
          "metadata": {
            "tags": []
          },
          "execution_count": 3
        },
        {
          "output_type": "display_data",
          "data": {
            "image/png": "[encoded data removed]",
            "text/plain": [
              "<Figure size 432x288 with 1 Axes>"
            ]
          },
          "metadata": {
            "tags": [],
            "needs_background": "light"
          }
        }
      ]
    },
    {
      "cell_type": "code",
      "metadata": {
        "id": "wf1KChrrBPAW",
        "colab_type": "code",
        "outputId": "47341746-aa18-42b0-e865-d5a3634fe77c",
        "colab": {
          "base_uri": "https://localhost:8080/",
          "height": 282
        }
      },
      "source": [
        "\n",
        "pic2 = np.zeros((10,10))\n",
        "pic2[3:9,2:7] = 0.5\n",
        "\n",
        "pic2[3:9, 5:7] = 1\n",
        "plt.imshow(pic2,'gray')"
      ],
      "execution_count": 0,
      "outputs": [
        {
          "output_type": "execute_result",
          "data": {
            "text/plain": [
              "<matplotlib.image.AxesImage at 0x7f49cc2ce320>"
            ]
          },
          "metadata": {
            "tags": []
          },
          "execution_count": 3
        },
        {
          "output_type": "display_data",
          "data": {
            "image/png": "[encoded data removed]",
            "text/plain": [
              "<Figure size 432x288 with 1 Axes>"
            ]
          },
          "metadata": {
            "tags": [],
            "needs_background": "light"
          }
        }
      ]
    },
    {
      "cell_type": "code",
      "metadata": {
        "id": "ybSSFoPuGRdu",
        "colab_type": "code",
        "outputId": "7517be7f-dc56-4638-ee9d-927431a2355b",
        "colab": {
          "base_uri": "https://localhost:8080/",
          "height": 202
        }
      },
      "source": [
        "!wget https://raw.githubusercontent.com/yandexdataschool/Practical_DL/35c067adcc1ab364c8803830cdb34d0d50eea37e/week01_backprop/mnist.py -O mnist.py"
      ],
      "execution_count": 4,
      "outputs": [
        {
          "output_type": "stream",
          "text": [
            "--2020-05-11 09:02:34--  https://raw.githubusercontent.com/yandexdataschool/Practical_DL/35c067adcc1ab364c8803830cdb34d0d50eea37e/week01_backprop/mnist.py\n",
            "Resolving raw.githubusercontent.com (raw.githubusercontent.com)... 151.101.0.133, 151.101.64.133, 151.101.128.133, ...\n",
            "Connecting to raw.githubusercontent.com (raw.githubusercontent.com)|151.101.0.133|:443... connected.\n",
            "HTTP request sent, awaiting response... 200 OK\n",
            "Length: 2697 (2.6K) [text/plain]\n",
            "Saving to: ‘mnist.py’\n",
            "\n",
            "\rmnist.py              0%[                    ]       0  --.-KB/s               \rmnist.py            100%[===================>]   2.63K  --.-KB/s    in 0s      \n",
            "\n",
            "2020-05-11 09:02:34 (38.6 MB/s) - ‘mnist.py’ saved [2697/2697]\n",
            "\n"
          ],
          "name": "stdout"
        }
      ]
    },
    {
      "cell_type": "code",
      "metadata": {
        "id": "BfCwp2FBGXPD",
        "colab_type": "code",
        "colab": {}
      },
      "source": [
        "import mnist\n"
      ],
      "execution_count": 0,
      "outputs": []
    },
    {
      "cell_type": "code",
      "metadata": {
        "id": "qKQ2vtVVGapc",
        "colab_type": "code",
        "outputId": "edfa64aa-65d4-47f4-bcfb-d35179d3f18b",
        "colab": {
          "base_uri": "https://localhost:8080/",
          "height": 84
        }
      },
      "source": [
        "X_train, y_train, X_val, y_val, X_test, y_test = mnist.load_dataset(flatten=True)"
      ],
      "execution_count": 6,
      "outputs": [
        {
          "output_type": "stream",
          "text": [
            "Downloading train-images-idx3-ubyte.gz\n",
            "Downloading train-labels-idx1-ubyte.gz\n",
            "Downloading t10k-images-idx3-ubyte.gz\n",
            "Downloading t10k-labels-idx1-ubyte.gz\n"
          ],
          "name": "stdout"
        }
      ]
    },
    {
      "cell_type": "code",
      "metadata": {
        "id": "8OSJqvT3Gex9",
        "colab_type": "code",
        "outputId": "bfbed4e8-f911-47f0-ed7b-5fd8abe41c97",
        "colab": {
          "base_uri": "https://localhost:8080/",
          "height": 265
        }
      },
      "source": [
        "plt.imshow(X_train[1].reshape([28,28]),cmap='gray');"
      ],
      "execution_count": 0,
      "outputs": [
        {
          "output_type": "display_data",
          "data": {
            "image/png": "[encoded data removed]",
            "text/plain": [
              "<Figure size 432x288 with 1 Axes>"
            ]
          },
          "metadata": {
            "tags": [],
            "needs_background": "light"
          }
        }
      ]
    },
    {
      "cell_type": "code",
      "metadata": {
        "id": "RtBl-digGmPt",
        "colab_type": "code",
        "colab": {}
      },
      "source": [
        "pic1 = X_train[0].reshape([28,28])\n",
        "pic2 = X_train[1].reshape([28,28])"
      ],
      "execution_count": 0,
      "outputs": []
    },
    {
      "cell_type": "code",
      "metadata": {
        "id": "Y0XBGBxgCSru",
        "colab_type": "code",
        "colab": {
          "base_uri": "https://localhost:8080/",
          "height": 121
        },
        "outputId": "4a3f2f2b-9ad9-496b-ff97-72c608ddb65b"
      },
      "source": [
        "drive.mount('/content/drive')"
      ],
      "execution_count": 21,
      "outputs": [
        {
          "output_type": "stream",
          "text": [
            "Go to this URL in a browser: https://accounts.google.com/o/oauth2/auth?client_id=947318989803-6bn6qk8qdgf4n4g3pfee6491hc0brc4i.apps.googleusercontent.com&redirect_uri=urn%3aietf%3awg%3aoauth%3a2.0%3aoob&response_type=code&scope=email%20https%3a%2f%2fwww.googleapis.com%2fauth%2fdocs.test%20https%3a%2f%2fwww.googleapis.com%2fauth%2fdrive%20https%3a%2f%2fwww.googleapis.com%2fauth%2fdrive.photos.readonly%20https%3a%2f%2fwww.googleapis.com%2fauth%2fpeopleapi.readonly\n",
            "\n",
            "Enter your authorization code:\n",
            "··········\n",
            "Mounted at /content/drive\n"
          ],
          "name": "stdout"
        }
      ]
    },
    {
      "cell_type": "code",
      "metadata": {
        "id": "5iVuozk_CDwL",
        "colab_type": "code",
        "colab": {}
      },
      "source": [
        "f = open('/content/drive/My Drive/pim.txt')\n",
        "pim = f.readline()\n",
        "pim = pim.split('\\t')\n",
        "pim = np.array(list(map(lambda x: float(x), pim)))\n",
        "f.close()\n",
        "f = open('/content/drive/My Drive/nf.txt')\n",
        "nf = f.readline()\n",
        "nf = nf.split('\\t')\n",
        "nf = np.array(list(map(lambda x: float(x), nf)))\n",
        "f.close()\n",
        "f = open('/content/drive/My Drive/u1.txt')\n",
        "u1 = f.readline()\n",
        "u1 = u1.split('\\t')\n",
        "u1 = np.array(list(map(lambda x: float(x), u1)))\n",
        "f.close()"
      ],
      "execution_count": 0,
      "outputs": []
    },
    {
      "cell_type": "code",
      "metadata": {
        "id": "49NPlYHlW64A",
        "colab_type": "code",
        "colab": {}
      },
      "source": [
        "K = 10\n",
        "L = 900\n",
        "N = 900"
      ],
      "execution_count": 0,
      "outputs": []
    },
    {
      "cell_type": "code",
      "metadata": {
        "id": "fJvLwCECXYPu",
        "colab_type": "code",
        "colab": {}
      },
      "source": [
        "\n",
        "m1 = pim[:N].reshape((N,1))\n",
        "m2 = u1[:N].reshape((N,1))"
      ],
      "execution_count": 0,
      "outputs": []
    },
    {
      "cell_type": "code",
      "metadata": {
        "id": "bYzmZavCXe7s",
        "colab_type": "code",
        "colab": {}
      },
      "source": [
        "\n",
        "C = np.random.randn(L,N)\n",
        "\n",
        "\n",
        "h1 = np.random.randn(K,1)\n",
        "h2 = np.random.randn(K,1)\n",
        "h3 = np.random.randn(K,1)\n",
        "h4 = np.random.randn(K,1)\n",
        "\n",
        "B = np.random.randn(L,K)\n",
        "#B = np.eye(L,K)\n",
        "#B2 = np.random.randn(L,K)"
      ],
      "execution_count": 0,
      "outputs": []
    },
    {
      "cell_type": "code",
      "metadata": {
        "id": "JxBcdaHqXndK",
        "colab_type": "code",
        "colab": {}
      },
      "source": [
        "A = circulant(C[:,0]) @ B\n",
        "for iter in range(1,N):\n",
        "    elem = circulant(C[:,iter]) @ B\n",
        "    A = np.hstack((A,elem))\n",
        "#    print(iter)"
      ],
      "execution_count": 0,
      "outputs": []
    },
    {
      "cell_type": "code",
      "metadata": {
        "id": "K6Lko_dwfDAf",
        "colab_type": "code",
        "colab": {}
      },
      "source": [
        "\n",
        "X11 = h1 @ m1.reshape((1,N))\n",
        "X12 = h2 @ m1.reshape((1,N))\n",
        "\n",
        "X1 = np.vstack((X11,X12))\n",
        "\n",
        "X21 = h3 @ m2.reshape((1,N))\n",
        "X22 = h4 @ m2.reshape((1,N))\n",
        "\n",
        "X2 = np.vstack((X21,X22))"
      ],
      "execution_count": 0,
      "outputs": []
    },
    {
      "cell_type": "code",
      "metadata": {
        "id": "2Eewj63sQwq6",
        "colab_type": "code",
        "colab": {}
      },
      "source": [
        "X = X1 + X2"
      ],
      "execution_count": 0,
      "outputs": []
    },
    {
      "cell_type": "code",
      "metadata": {
        "id": "1uKgvo8hYlJX",
        "colab_type": "code",
        "colab": {}
      },
      "source": [
        "a, b = A.shape\n",
        "A0 = np.zeros((a,b))\n",
        "A1 = np.hstack((A,A0))\n",
        "A2 = np.hstack((A0,A))\n",
        "A = np.vstack((A1,A2))"
      ],
      "execution_count": 0,
      "outputs": []
    },
    {
      "cell_type": "code",
      "metadata": {
        "id": "qp_LCl99Q2xO",
        "colab_type": "code",
        "colab": {}
      },
      "source": [
        "\n",
        "y =  A @ X.reshape((2*N*K,1)) + nf[:2*N].reshape((2*N,1))"
      ],
      "execution_count": 0,
      "outputs": []
    },
    {
      "cell_type": "code",
      "metadata": {
        "id": "tZZLcv3XfbuF",
        "colab_type": "code",
        "colab": {}
      },
      "source": [
        "\n",
        "def prox_nuclear(A, lambd):\n",
        "    U, S, Vh = np.linalg.svd(A)\n",
        "    svp = np.sum(S > lambd)\n",
        "    if svp >= 1:\n",
        "        S = S[:svp] - lambd\n",
        "        X = U[:,:svp] @ np.diag(S) @ Vh[:svp]\n",
        "        nucnorm = np.sum(S)\n",
        "    else:\n",
        "        X = np.zeros(A.shape)\n",
        "        nucnorm = 0\n",
        "    return X, nucnorm"
      ],
      "execution_count": 0,
      "outputs": []
    },
    {
      "cell_type": "code",
      "metadata": {
        "id": "YcYfdcCQfels",
        "colab_type": "code",
        "colab": {}
      },
      "source": [
        "def prox_l21(A,lambd):\n",
        "    X = np.zeros(A.shape)\n",
        "    for i in range(X.shape[1]):\n",
        "        nxi = np.linalg.norm(A[:,i])\n",
        "        if nxi > lambd:\n",
        "            X[:,i] = (1 - lambd/nxi) * A[:,i]\n",
        "    return X\n",
        "    "
      ],
      "execution_count": 0,
      "outputs": []
    },
    {
      "cell_type": "code",
      "metadata": {
        "id": "c8mlFUA1fhUN",
        "colab_type": "code",
        "colab": {}
      },
      "source": [
        "\n",
        "\n",
        "def lrr(y, A, lambd):\n",
        "    tol = 6e-4\n",
        "    max_iter = 500\n",
        "    ro = 1.1\n",
        "    mu = 1e-4\n",
        "    max_mu = 1e10\n",
        "\n",
        "    d, na = y.shape\n",
        "    a, nb = A.shape\n",
        "    #X = np.zeros((nb, na))\n",
        "    X = np.zeros((2*K,N))\n",
        "    E = np.zeros((d, na))\n",
        "    J = X\n",
        "\n",
        "    Y1 = E\n",
        "    Y2 = X\n",
        "   \n",
        "    Ablock = A[:int(a/2),:int(nb/2)]\n",
        "\n",
        "    AtA = Ablock.T @ Ablock\n",
        "    Aty = A.T @ y\n",
        "    I = np.eye(int(nb/2))\n",
        "    invAtAIblock = np.linalg.inv(AtA + I)\n",
        "    zeros = np.zeros((int(nb/2),int(nb/2)))\n",
        "   # print(invAtAIblock.shape, zeros.shape)\n",
        "    invAtAI = np.vstack((np.hstack((invAtAIblock,zeros)), np.hstack((zeros,invAtAIblock))))\n",
        "  \n",
        "    errs = []\n",
        "    times = []\n",
        "    start = time.time()\n",
        "\n",
        "    for iter in range(max_iter):\n",
        "      \n",
        "\n",
        "        J, nuclearnormJ = prox_nuclear(X+Y2/mu, 1/mu)\n",
        "        E = prox_l21(y - A @ X.reshape((2*K*N,1)) + Y1/mu, lambd/mu)\n",
        "\n",
        "        X = (invAtAI @ ((A.T @ (Y1/mu -E) + Aty).reshape((2*K,N)) - Y2/mu + J).reshape((2*K*N,1))).reshape((2*K,N))\n",
        "        dY1 = y - A @ X.reshape((2*K*N,1)) - E\n",
        "        dY2 = X - J\n",
        "\n",
        "        Y1 += mu * dY1\n",
        "        Y2 += mu * dY2\n",
        "        mu = min(ro*mu, max_mu)\n",
        "        times.append(time.time() - start)\n",
        "       \n",
        "        metric = np.linalg.norm(y - A @ X.reshape((2*K*N,1)))\n",
        "        #print(metric)\n",
        "        errs.append(metric)\n",
        "        if metric < tol:\n",
        "            break\n",
        "    return J, E, errs, iter, times"
      ],
      "execution_count": 0,
      "outputs": []
    },
    {
      "cell_type": "code",
      "metadata": {
        "id": "QqY4NmJNfj5D",
        "colab_type": "code",
        "colab": {}
      },
      "source": [
        "Xk, E, errs, iters, times = lrr(y, A, 0.01)"
      ],
      "execution_count": 0,
      "outputs": []
    },
    {
      "cell_type": "code",
      "metadata": {
        "id": "KWWQcIb2fmTu",
        "colab_type": "code",
        "colab": {}
      },
      "source": [
        "u, s, v = np.linalg.svd(Xk)"
      ],
      "execution_count": 0,
      "outputs": []
    },
    {
      "cell_type": "code",
      "metadata": {
        "id": "guXj07O-vUoq",
        "colab_type": "code",
        "outputId": "f73e9d02-6a54-4e71-8b13-5e6dae3dc122",
        "colab": {
          "base_uri": "https://localhost:8080/",
          "height": 101
        }
      },
      "source": [
        "\n",
        "s"
      ],
      "execution_count": 50,
      "outputs": [
        {
          "output_type": "execute_result",
          "data": {
            "text/plain": [
              "array([9.97031321e-01, 7.39375484e-02, 5.14659024e-02, 4.23796933e-02,\n",
              "       3.80431081e-02, 3.33582319e-02, 2.61801382e-02, 2.33177090e-02,\n",
              "       1.69738357e-02, 1.47959592e-02, 9.05706229e-03, 6.10475541e-03,\n",
              "       2.79039418e-03, 3.24568297e-05, 2.49778638e-05, 9.82655417e-06,\n",
              "       6.77941152e-06, 4.49061223e-06, 3.50343428e-06, 2.98857303e-06])"
            ]
          },
          "metadata": {
            "tags": []
          },
          "execution_count": 50
        }
      ]
    },
    {
      "cell_type": "code",
      "metadata": {
        "id": "0ckpSuZyEY-h",
        "colab_type": "code",
        "colab": {}
      },
      "source": [
        "signal1 = v[0,:]"
      ],
      "execution_count": 0,
      "outputs": []
    },
    {
      "cell_type": "code",
      "metadata": {
        "id": "CaMGyQCzEeNR",
        "colab_type": "code",
        "colab": {
          "base_uri": "https://localhost:8080/",
          "height": 282
        },
        "outputId": "6f402b40-fe64-402f-bb17-68e1c6e4091a"
      },
      "source": [
        "plt.plot(signal1)"
      ],
      "execution_count": 53,
      "outputs": [
        {
          "output_type": "execute_result",
          "data": {
            "text/plain": [
              "[<matplotlib.lines.Line2D at 0x7f5b09c2be80>]"
            ]
          },
          "metadata": {
            "tags": []
          },
          "execution_count": 53
        },
        {
          "output_type": "display_data",
          "data": {
            "image/png": "[encoded data removed]",
            "text/plain": [
              "<Figure size 432x288 with 1 Axes>"
            ]
          },
          "metadata": {
            "tags": [],
            "needs_background": "light"
          }
        }
      ]
    },
    {
      "cell_type": "code",
      "metadata": {
        "id": "M9a4nc1oHZiD",
        "colab_type": "code",
        "colab": {
          "base_uri": "https://localhost:8080/",
          "height": 284
        },
        "outputId": "ce2ac0f0-780c-437e-8f4d-350aefc6d5cb"
      },
      "source": [
        "plt.plot(pim[:900])"
      ],
      "execution_count": 64,
      "outputs": [
        {
          "output_type": "execute_result",
          "data": {
            "text/plain": [
              "[<matplotlib.lines.Line2D at 0x7f5b098d3c18>]"
            ]
          },
          "metadata": {
            "tags": []
          },
          "execution_count": 64
        },
        {
          "output_type": "display_data",
          "data": {
            "image/png": "[encoded data removed]",
            "text/plain": [
              "<Figure size 432x288 with 1 Axes>"
            ]
          },
          "metadata": {
            "tags": [],
            "needs_background": "light"
          }
        }
      ]
    },
    {
      "cell_type": "code",
      "metadata": {
        "id": "_c-sIlPiEhoR",
        "colab_type": "code",
        "colab": {}
      },
      "source": [
        "signal2 = v[1,:]"
      ],
      "execution_count": 0,
      "outputs": []
    },
    {
      "cell_type": "code",
      "metadata": {
        "id": "mhJK_bvHEknB",
        "colab_type": "code",
        "colab": {
          "base_uri": "https://localhost:8080/",
          "height": 282
        },
        "outputId": "ff808530-61f8-4cc5-c677-73c6774048a7"
      },
      "source": [
        "plt.plot(signal2)"
      ],
      "execution_count": 55,
      "outputs": [
        {
          "output_type": "execute_result",
          "data": {
            "text/plain": [
              "[<matplotlib.lines.Line2D at 0x7f5b09c06d30>]"
            ]
          },
          "metadata": {
            "tags": []
          },
          "execution_count": 55
        },
        {
          "output_type": "display_data",
          "data": {
            "image/png": "[encoded data removed]",
            "text/plain": [
              "<Figure size 432x288 with 1 Axes>"
            ]
          },
          "metadata": {
            "tags": [],
            "needs_background": "light"
          }
        }
      ]
    },
    {
      "cell_type": "code",
      "metadata": {
        "id": "zmL-7BwBEngp",
        "colab_type": "code",
        "colab": {
          "base_uri": "https://localhost:8080/",
          "height": 34
        },
        "outputId": "9b544a6f-91b6-4b85-a4dd-0ba9a1969f99"
      },
      "source": [
        "times[-1]"
      ],
      "execution_count": 56,
      "outputs": [
        {
          "output_type": "execute_result",
          "data": {
            "text/plain": [
              "79.70885944366455"
            ]
          },
          "metadata": {
            "tags": []
          },
          "execution_count": 56
        }
      ]
    },
    {
      "cell_type": "code",
      "metadata": {
        "id": "Zfj6FzKUEuBR",
        "colab_type": "code",
        "colab": {}
      },
      "source": [
        "def sae(s1, s2):\n",
        "    return np.arccos((s1 @ s2) / (np.linalg.norm(s1) * np.linalg.norm(s2))) ** 2"
      ],
      "execution_count": 0,
      "outputs": []
    },
    {
      "cell_type": "code",
      "metadata": {
        "id": "9bVDNMAJEyLC",
        "colab_type": "code",
        "colab": {
          "base_uri": "https://localhost:8080/",
          "height": 34
        },
        "outputId": "e849b134-0871-49ae-ce5e-e29486bd580d"
      },
      "source": [
        "sae(u1[:900], -v[1,:])"
      ],
      "execution_count": 60,
      "outputs": [
        {
          "output_type": "execute_result",
          "data": {
            "text/plain": [
              "1.0393673182876328"
            ]
          },
          "metadata": {
            "tags": []
          },
          "execution_count": 60
        }
      ]
    },
    {
      "cell_type": "code",
      "metadata": {
        "id": "UAI0dIKKE4nx",
        "colab_type": "code",
        "colab": {
          "base_uri": "https://localhost:8080/",
          "height": 34
        },
        "outputId": "0a5855c0-3519-4a0e-cdb5-84b866fed857"
      },
      "source": [
        "sae(pim[:900], v[0,:])"
      ],
      "execution_count": 63,
      "outputs": [
        {
          "output_type": "execute_result",
          "data": {
            "text/plain": [
              "0.05172403967252702"
            ]
          },
          "metadata": {
            "tags": []
          },
          "execution_count": 63
        }
      ]
    },
    {
      "cell_type": "code",
      "metadata": {
        "id": "ZJjC4LIirJQU",
        "colab_type": "code",
        "outputId": "e174ed1c-72d1-46c5-e115-d6e1609a67ac",
        "colab": {
          "base_uri": "https://localhost:8080/",
          "height": 195
        }
      },
      "source": [
        "\n",
        "im1 = (v[0,:]).reshape((28,28))\n",
        "plt.imshow(im1,'gray')"
      ],
      "execution_count": 51,
      "outputs": [
        {
          "output_type": "error",
          "ename": "ValueError",
          "evalue": "ignored",
          "traceback": [
            "\u001b[0;31m---------------------------------------------------------------------------\u001b[0m",
            "\u001b[0;31mValueError\u001b[0m                                Traceback (most recent call last)",
            "\u001b[0;32m<ipython-input-51-13be49d5d21b>\u001b[0m in \u001b[0;36m<module>\u001b[0;34m()\u001b[0m\n\u001b[1;32m      1\u001b[0m \u001b[0;34m\u001b[0m\u001b[0m\n\u001b[0;32m----> 2\u001b[0;31m \u001b[0mim1\u001b[0m \u001b[0;34m=\u001b[0m \u001b[0;34m(\u001b[0m\u001b[0mv\u001b[0m\u001b[0;34m[\u001b[0m\u001b[0;36m0\u001b[0m\u001b[0;34m,\u001b[0m\u001b[0;34m:\u001b[0m\u001b[0;34m]\u001b[0m\u001b[0;34m)\u001b[0m\u001b[0;34m.\u001b[0m\u001b[0mreshape\u001b[0m\u001b[0;34m(\u001b[0m\u001b[0;34m(\u001b[0m\u001b[0;36m28\u001b[0m\u001b[0;34m,\u001b[0m\u001b[0;36m28\u001b[0m\u001b[0;34m)\u001b[0m\u001b[0;34m)\u001b[0m\u001b[0;34m\u001b[0m\u001b[0;34m\u001b[0m\u001b[0m\n\u001b[0m\u001b[1;32m      3\u001b[0m \u001b[0mplt\u001b[0m\u001b[0;34m.\u001b[0m\u001b[0mimshow\u001b[0m\u001b[0;34m(\u001b[0m\u001b[0mim1\u001b[0m\u001b[0;34m,\u001b[0m\u001b[0;34m'gray'\u001b[0m\u001b[0;34m)\u001b[0m\u001b[0;34m\u001b[0m\u001b[0;34m\u001b[0m\u001b[0m\n",
            "\u001b[0;31mValueError\u001b[0m: cannot reshape array of size 900 into shape (28,28)"
          ]
        }
      ]
    },
    {
      "cell_type": "code",
      "metadata": {
        "id": "5CZT7zm9IQtT",
        "colab_type": "code",
        "outputId": "3786ae80-d3cc-4281-fa1c-f4d76589c759",
        "colab": {
          "base_uri": "https://localhost:8080/",
          "height": 282
        }
      },
      "source": [
        "im2 = (v[1,:]).reshape((28,28))\n",
        "plt.imshow(im2,'gray')"
      ],
      "execution_count": 0,
      "outputs": [
        {
          "output_type": "execute_result",
          "data": {
            "text/plain": [
              "<matplotlib.image.AxesImage at 0x7f30168f9470>"
            ]
          },
          "metadata": {
            "tags": []
          },
          "execution_count": 35
        },
        {
          "output_type": "display_data",
          "data": {
            "image/png": "[encoded data removed]",
            "text/plain": [
              "<Figure size 432x288 with 1 Axes>"
            ]
          },
          "metadata": {
            "tags": [],
            "needs_background": "light"
          }
        }
      ]
    },
    {
      "cell_type": "code",
      "metadata": {
        "id": "Xuulw7BTvCR4",
        "colab_type": "code",
        "colab": {}
      },
      "source": [
        "obs = np.v[0,:]"
      ],
      "execution_count": 0,
      "outputs": []
    },
    {
      "cell_type": "code",
      "metadata": {
        "id": "3MgSVpUwz65C",
        "colab_type": "code",
        "outputId": "30ba3f88-3885-44ca-b133-614af8e55c25",
        "colab": {
          "base_uri": "https://localhost:8080/",
          "height": 283
        }
      },
      "source": [
        "plt.plot(np.vstack((h3,h4)))"
      ],
      "execution_count": 0,
      "outputs": [
        {
          "output_type": "execute_result",
          "data": {
            "text/plain": [
              "[<matplotlib.lines.Line2D at 0x7f52e7d7a4a8>]"
            ]
          },
          "metadata": {
            "tags": []
          },
          "execution_count": 54
        },
        {
          "output_type": "display_data",
          "data": {
            "image/png": "[encoded data removed]",
            "text/plain": [
              "<Figure size 432x288 with 1 Axes>"
            ]
          },
          "metadata": {
            "tags": []
          }
        }
      ]
    },
    {
      "cell_type": "code",
      "metadata": {
        "id": "BLEFOATccZBG",
        "colab_type": "code",
        "outputId": "f22dfb04-46d5-4344-f5b3-9bf4de8e2b1b",
        "colab": {
          "base_uri": "https://localhost:8080/",
          "height": 283
        }
      },
      "source": [
        "plt.plot(np.vstack((h1,h2)))"
      ],
      "execution_count": 0,
      "outputs": [
        {
          "output_type": "execute_result",
          "data": {
            "text/plain": [
              "[<matplotlib.lines.Line2D at 0x7f52e784d908>]"
            ]
          },
          "metadata": {
            "tags": []
          },
          "execution_count": 58
        },
        {
          "output_type": "display_data",
          "data": {
            "image/png": "[encoded data removed]",
            "text/plain": [
              "<Figure size 432x288 with 1 Axes>"
            ]
          },
          "metadata": {
            "tags": []
          }
        }
      ]
    },
    {
      "cell_type": "code",
      "metadata": {
        "id": "9QpAFePvt8_w",
        "colab_type": "code",
        "outputId": "7e194955-79ec-4740-cad0-b9390425b324",
        "colab": {
          "base_uri": "https://localhost:8080/",
          "height": 283
        }
      },
      "source": [
        "\n",
        "plt.plot(-u[:,0]-0.5*u[:,1])"
      ],
      "execution_count": 0,
      "outputs": [
        {
          "output_type": "execute_result",
          "data": {
            "text/plain": [
              "[<matplotlib.lines.Line2D at 0x7f52e7866cf8>]"
            ]
          },
          "metadata": {
            "tags": []
          },
          "execution_count": 57
        },
        {
          "output_type": "display_data",
          "data": {
            "image/png": "[encoded data removed]",
            "text/plain": [
              "<Figure size 432x288 with 1 Axes>"
            ]
          },
          "metadata": {
            "tags": []
          }
        }
      ]
    },
    {
      "cell_type": "code",
      "metadata": {
        "id": "tTkQNAvqtHe-",
        "colab_type": "code",
        "outputId": "cf17b8a4-cc4d-4dfe-d1a1-ac94bbd1bb76",
        "colab": {
          "base_uri": "https://localhost:8080/",
          "height": 1000
        }
      },
      "source": [
        "times"
      ],
      "execution_count": 0,
      "outputs": [
        {
          "output_type": "execute_result",
          "data": {
            "text/plain": [
              "[0.12782621383666992,\n",
              " 0.276932954788208,\n",
              " 0.4265773296356201,\n",
              " 0.5752325057983398,\n",
              " 0.7291343212127686,\n",
              " 0.8801007270812988,\n",
              " 1.0306179523468018,\n",
              " 1.1796741485595703,\n",
              " 1.331618070602417,\n",
              " 1.4806787967681885,\n",
              " 1.6314032077789307,\n",
              " 1.7826859951019287,\n",
              " 1.9374704360961914,\n",
              " 2.0882761478424072,\n",
              " 2.2403011322021484,\n",
              " 2.395017147064209,\n",
              " 2.559659004211426,\n",
              " 2.708204984664917,\n",
              " 2.867178201675415,\n",
              " 3.0213403701782227,\n",
              " 3.170931100845337,\n",
              " 3.319551706314087,\n",
              " 3.4697701930999756,\n",
              " 3.6184487342834473,\n",
              " 3.770854949951172,\n",
              " 3.9279837608337402,\n",
              " 4.0805628299713135,\n",
              " 4.229298830032349,\n",
              " 4.38348650932312,\n",
              " 4.534837484359741,\n",
              " 4.68865704536438,\n",
              " 4.8418052196502686,\n",
              " 4.994008541107178,\n",
              " 5.143083810806274,\n",
              " 5.292176246643066,\n",
              " 5.4406578540802,\n",
              " 5.593298435211182,\n",
              " 5.742007493972778,\n",
              " 5.897908687591553,\n",
              " 6.056574583053589,\n",
              " 6.209810256958008,\n",
              " 6.358985185623169,\n",
              " 6.510350227355957,\n",
              " 6.660319566726685,\n",
              " 6.81524920463562,\n",
              " 6.968506336212158,\n",
              " 7.130388021469116,\n",
              " 7.280163049697876,\n",
              " 7.4324116706848145,\n",
              " 7.582292795181274,\n",
              " 7.733648300170898,\n",
              " 7.882693767547607,\n",
              " 8.039631843566895,\n",
              " 8.189293384552002,\n",
              " 8.344250679016113,\n",
              " 8.492664098739624,\n",
              " 8.643125057220459,\n",
              " 8.790512084960938,\n",
              " 8.945921182632446,\n",
              " 9.100979804992676,\n",
              " 9.251577615737915,\n",
              " 9.400936841964722,\n",
              " 9.55260705947876,\n",
              " 9.702682971954346,\n",
              " 9.854891061782837,\n",
              " 10.010334253311157,\n",
              " 10.17145824432373,\n",
              " 10.319952249526978,\n",
              " 10.47150182723999,\n",
              " 10.624835729598999,\n",
              " 10.781608819961548,\n",
              " 10.934833526611328,\n",
              " 11.09106731414795,\n",
              " 11.246033430099487,\n",
              " 11.400032997131348,\n",
              " 11.54993462562561,\n",
              " 11.702466487884521,\n",
              " 11.853628635406494,\n",
              " 12.004509925842285,\n",
              " 12.16389012336731,\n",
              " 12.318469524383545,\n",
              " 12.46776294708252,\n",
              " 12.62056827545166,\n",
              " 12.794341564178467,\n",
              " 12.95139741897583,\n",
              " 13.103568077087402,\n",
              " 13.258461236953735,\n",
              " 13.407249689102173,\n",
              " 13.559695482254028,\n",
              " 13.709972381591797,\n",
              " 13.861153364181519,\n",
              " 14.010107040405273,\n",
              " 14.168049573898315,\n",
              " 14.327366590499878,\n",
              " 14.480329036712646,\n",
              " 14.630666494369507,\n",
              " 14.784554719924927,\n",
              " 14.93641710281372,\n",
              " 15.08903956413269,\n",
              " 15.251211404800415,\n",
              " 15.405402898788452,\n",
              " 15.55530834197998,\n",
              " 15.71035647392273,\n",
              " 15.860829591751099,\n",
              " 16.01339077949524,\n",
              " 16.169177055358887,\n",
              " 16.323251008987427,\n",
              " 16.47318458557129,\n",
              " 16.627667903900146,\n",
              " 16.78014302253723,\n",
              " 16.932092666625977,\n",
              " 17.08155083656311,\n",
              " 17.235469579696655,\n",
              " 17.393278121948242,\n",
              " 17.546661376953125,\n",
              " 17.6977641582489,\n",
              " 17.850743055343628,\n",
              " 18.002561807632446,\n",
              " 18.156339406967163,\n",
              " 18.310384511947632,\n",
              " 18.466761112213135,\n",
              " 18.617783546447754,\n",
              " 18.77006983757019,\n",
              " 18.91932439804077,\n",
              " 19.0749831199646,\n",
              " 19.22526788711548,\n",
              " 19.386661767959595,\n",
              " 19.536413431167603,\n",
              " 19.69064974784851,\n",
              " 19.84216332435608,\n",
              " 19.995826721191406,\n",
              " 20.145324230194092,\n",
              " 20.30082106590271,\n",
              " 20.453044891357422,\n",
              " 20.611115217208862,\n",
              " 20.761240482330322,\n",
              " 20.91255760192871,\n",
              " 21.06399631500244,\n",
              " 21.21691393852234,\n",
              " 21.369971752166748,\n",
              " 21.52736186981201,\n",
              " 21.676609754562378,\n",
              " 21.828612327575684,\n",
              " 21.977978706359863,\n",
              " 22.13245677947998,\n",
              " 22.28107261657715,\n",
              " 22.437215328216553,\n",
              " 22.592226266860962,\n",
              " 22.74416422843933,\n",
              " 22.893457889556885,\n",
              " 23.04946756362915,\n",
              " 23.222482204437256,\n",
              " 23.38523006439209,\n",
              " 23.540045499801636,\n",
              " 23.692671298980713,\n",
              " 23.843135833740234,\n",
              " 23.994293212890625,\n",
              " 24.143802642822266,\n",
              " 24.298895835876465,\n",
              " 24.453760385513306,\n",
              " 24.610979557037354,\n",
              " 24.760722875595093,\n",
              " 24.918581008911133,\n",
              " 25.069464921951294,\n",
              " 25.221617698669434,\n",
              " 25.37218403816223,\n",
              " 25.526883602142334,\n",
              " 25.683220863342285,\n",
              " 25.83515167236328,\n",
              " 25.98315167427063,\n",
              " 26.137763738632202,\n",
              " 26.28762984275818,\n",
              " 26.442327737808228,\n",
              " 26.601085662841797,\n",
              " 26.756632089614868,\n",
              " 26.905810117721558,\n",
              " 27.05606484413147,\n",
              " 27.2041974067688,\n",
              " 27.35714292526245,\n",
              " 27.50804328918457,\n",
              " 27.663541555404663,\n",
              " 27.813495874404907,\n",
              " 27.96535015106201,\n",
              " 28.114668369293213,\n",
              " 28.268460988998413,\n",
              " 28.41740393638611,\n",
              " 28.572173595428467,\n",
              " 28.726744890213013,\n",
              " 28.878575801849365,\n",
              " 29.02686619758606,\n",
              " 29.17984914779663,\n",
              " 29.32989811897278,\n",
              " 29.482457876205444,\n",
              " 29.63401436805725,\n",
              " 29.799909591674805,\n",
              " 29.94925332069397,\n",
              " 30.10039520263672,\n",
              " 30.249776601791382,\n",
              " 30.40371537208557,\n",
              " 30.55522131919861,\n",
              " 30.7182035446167,\n",
              " 30.868449449539185,\n",
              " 31.020012617111206,\n",
              " 31.16866374015808,\n",
              " 31.32205057144165,\n",
              " 31.47147011756897,\n",
              " 31.628891229629517,\n",
              " 31.781289100646973,\n",
              " 31.93542790412903,\n",
              " 32.08611726760864,\n",
              " 32.238908767700195,\n",
              " 32.39101481437683,\n",
              " 32.543540477752686,\n",
              " 32.70262336730957,\n",
              " 32.86444449424744,\n",
              " 33.016358613967896,\n",
              " 33.17086839675903,\n",
              " 33.32036066055298,\n",
              " 33.47937297821045,\n",
              " 33.64152979850769,\n",
              " 33.80927801132202,\n",
              " 33.96019387245178,\n",
              " 34.11508250236511,\n",
              " 34.265485763549805,\n",
              " 34.41832971572876,\n",
              " 34.569199085235596,\n",
              " 34.72339725494385,\n",
              " 34.87507128715515,\n",
              " 35.025346755981445,\n",
              " 35.175506591796875,\n",
              " 35.326183557510376,\n",
              " 35.47476625442505,\n",
              " 35.627476930618286,\n",
              " 35.78017210960388,\n",
              " 35.93514919281006,\n",
              " 36.08556890487671,\n",
              " 36.23628234863281,\n",
              " 36.386154651641846,\n",
              " 36.537208557128906,\n",
              " 36.68712282180786,\n",
              " 36.84689140319824,\n",
              " 37.00816559791565,\n",
              " 37.16639065742493,\n",
              " 37.31759595870972,\n",
              " 37.46869468688965,\n",
              " 37.617573499679565,\n",
              " 37.76937961578369,\n",
              " 37.925655364990234,\n",
              " 38.08015322685242,\n",
              " 38.22988677024841,\n",
              " 38.38175129890442,\n",
              " 38.53078746795654,\n",
              " 38.688857555389404,\n",
              " 38.84367489814758,\n",
              " 38.9954628944397,\n",
              " 39.14537525177002,\n",
              " 39.29723596572876,\n",
              " 39.44719219207764,\n",
              " 39.597280740737915,\n",
              " 39.74752974510193,\n",
              " 39.899982213974,\n",
              " 40.05630350112915,\n",
              " 40.208375453948975,\n",
              " 40.357863664627075,\n",
              " 40.508589029312134,\n",
              " 40.657811641693115,\n",
              " 40.80856490135193,\n",
              " 40.96037006378174,\n",
              " 41.127113342285156,\n",
              " 41.27669072151184,\n",
              " 41.428194999694824,\n",
              " 41.57828617095947,\n",
              " 41.72981858253479,\n",
              " 41.87924599647522,\n",
              " 42.04500603675842,\n",
              " 42.19360423088074,\n",
              " 42.34409213066101,\n",
              " 42.492459774017334,\n",
              " 42.64563822746277,\n",
              " 42.79479908943176,\n",
              " 42.94999980926514,\n",
              " 43.10093283653259,\n",
              " 43.25263452529907,\n",
              " 43.40162706375122,\n",
              " 43.55440664291382,\n",
              " 43.7038414478302,\n",
              " 43.8623206615448,\n",
              " 44.02545619010925,\n",
              " 44.18147611618042,\n",
              " 44.32990837097168,\n",
              " 44.482354402542114,\n",
              " 44.631819009780884,\n",
              " 44.78552722930908,\n",
              " 44.93496632575989,\n",
              " 45.09038066864014,\n",
              " 45.24796795845032,\n",
              " 45.4004430770874,\n",
              " 45.549575090408325,\n",
              " 45.70198059082031,\n",
              " 45.850518465042114,\n",
              " 46.000507831573486,\n",
              " 46.158631563186646,\n",
              " 46.311612367630005,\n",
              " 46.46136260032654,\n",
              " 46.613601207733154,\n",
              " 46.76478695869446,\n",
              " 46.9159209728241,\n",
              " 47.066651582717896,\n",
              " 47.219911098480225,\n",
              " 47.368000745773315,\n",
              " 47.5199179649353,\n",
              " 47.670390367507935,\n",
              " 47.822481632232666,\n",
              " 47.97059178352356,\n",
              " 48.1238796710968,\n",
              " 48.27520990371704,\n",
              " 48.424379110336304,\n",
              " 48.57315731048584,\n",
              " 48.72468447685242,\n",
              " 48.87366604804993,\n",
              " 49.023645639419556,\n",
              " 49.176132678985596,\n",
              " 49.33104920387268,\n",
              " 49.484002113342285,\n",
              " 49.63523030281067,\n",
              " 49.784353733062744,\n",
              " 49.93655800819397,\n",
              " 50.08630609512329,\n",
              " 50.2433545589447,\n",
              " 50.40076160430908,\n",
              " 50.552852392196655,\n",
              " 50.701772689819336,\n",
              " 50.85191988945007,\n",
              " 51.001250982284546,\n",
              " 51.15596389770508,\n",
              " 51.3168671131134,\n",
              " 51.47129440307617,\n",
              " 51.6202290058136,\n",
              " 51.77264356613159,\n",
              " 51.920642614364624,\n",
              " 52.07219195365906,\n",
              " 52.22317361831665,\n",
              " 52.37594151496887,\n",
              " 52.5261492729187,\n",
              " 52.677780866622925,\n",
              " 52.826589822769165,\n",
              " 52.984675884246826,\n",
              " 53.13508987426758,\n",
              " 53.292768716812134,\n",
              " 53.44434142112732,\n",
              " 53.59705305099487,\n",
              " 53.74788475036621,\n",
              " 53.90043616294861,\n",
              " 54.04910707473755,\n",
              " 54.20876741409302,\n",
              " 54.377291679382324,\n",
              " 54.535956144332886,\n",
              " 54.684940338134766,\n",
              " 54.842867612838745,\n",
              " 54.992724657058716,\n",
              " 55.14408469200134,\n",
              " 55.294355392456055,\n",
              " 55.44956064224243,\n",
              " 55.59773325920105,\n",
              " 55.74843239784241,\n",
              " 55.89740252494812,\n",
              " 56.04898476600647,\n",
              " 56.19998121261597,\n",
              " 56.356995582580566,\n",
              " 56.50941848754883,\n",
              " 56.663249015808105,\n",
              " 56.81538987159729,\n",
              " 56.967010736465454,\n",
              " 57.11648178100586,\n",
              " 57.26828384399414,\n",
              " 57.419904470443726,\n",
              " 57.57453894615173,\n",
              " 57.724498987197876,\n",
              " 57.87538743019104,\n",
              " 58.025124073028564,\n",
              " 58.17767667770386,\n",
              " 58.327245235443115,\n",
              " 58.490973472595215,\n",
              " 58.65007734298706,\n",
              " 58.80254793167114,\n",
              " 58.95207905769348,\n",
              " 59.10495591163635,\n",
              " 59.25354981422424,\n",
              " 59.40571856498718,\n",
              " 59.5672345161438,\n",
              " 59.72162938117981,\n",
              " 59.86916422843933,\n",
              " 60.02115511894226,\n",
              " 60.1688551902771,\n",
              " 60.31985116004944,\n",
              " 60.47375798225403,\n",
              " 60.62747597694397,\n",
              " 60.77752089500427,\n",
              " 60.92847275733948,\n",
              " 61.078245878219604,\n",
              " 61.232351779937744,\n",
              " 61.381263256073,\n",
              " 61.53532147407532,\n",
              " 61.68607211112976,\n",
              " 61.83796691894531,\n",
              " 61.98750567436218,\n",
              " 62.140175104141235,\n",
              " 62.29011011123657,\n",
              " 62.44161033630371,\n",
              " 62.593308210372925,\n",
              " 62.75199055671692,\n",
              " 62.899696350097656,\n",
              " 63.05106067657471,\n",
              " 63.19893264770508,\n",
              " 63.34974932670593,\n",
              " 63.49874782562256,\n",
              " 63.65381360054016,\n",
              " 63.810688734054565,\n",
              " 63.96209692955017,\n",
              " 64.11080503463745,\n",
              " 64.26234745979309,\n",
              " 64.41282081604004,\n",
              " 64.57871198654175,\n",
              " 64.73332786560059,\n",
              " 64.8820972442627,\n",
              " 65.02775573730469,\n",
              " 65.17905688285828,\n",
              " 65.32744479179382,\n",
              " 65.47975873947144,\n",
              " 65.6327497959137,\n",
              " 65.79217600822449,\n",
              " 65.94149804115295,\n",
              " 66.09570670127869,\n",
              " 66.2439751625061,\n",
              " 66.39291596412659,\n",
              " 66.54145646095276,\n",
              " 66.69433856010437,\n",
              " 66.85275745391846,\n",
              " 67.00320506095886,\n",
              " 67.15023016929626,\n",
              " 67.30378413200378,\n",
              " 67.45318460464478,\n",
              " 67.6043610572815,\n",
              " 67.75593495368958,\n",
              " 67.92039823532104,\n",
              " 68.06936621665955,\n",
              " 68.21843361854553,\n",
              " 68.36650037765503,\n",
              " 68.51651859283447,\n",
              " 68.66669249534607,\n",
              " 68.82610869407654,\n",
              " 68.97778248786926,\n",
              " 69.1288149356842,\n",
              " 69.27650308609009,\n",
              " 69.42731213569641,\n",
              " 69.57575750350952,\n",
              " 69.72679305076599,\n",
              " 69.88450241088867,\n",
              " 70.03586912155151,\n",
              " 70.18575716018677,\n",
              " 70.33858489990234,\n",
              " 70.48708391189575,\n",
              " 70.63908648490906,\n",
              " 70.79104685783386,\n",
              " 70.9465651512146,\n",
              " 71.09630012512207,\n",
              " 71.24683117866516,\n",
              " 71.3948712348938,\n",
              " 71.54559183120728,\n",
              " 71.69307017326355,\n",
              " 71.84813523292542,\n",
              " 71.99896502494812,\n",
              " 72.15009999275208,\n",
              " 72.29846048355103,\n",
              " 72.44920635223389,\n",
              " 72.59876680374146,\n",
              " 72.75186777114868,\n",
              " 72.90416383743286,\n",
              " 73.0598669052124,\n",
              " 73.20839858055115,\n",
              " 73.36152362823486,\n",
              " 73.510080575943,\n",
              " 73.66319251060486,\n",
              " 73.81227588653564,\n",
              " 73.96595430374146,\n",
              " 74.12277460098267,\n",
              " 74.274493932724,\n",
              " 74.42408847808838,\n",
              " 74.57777523994446,\n",
              " 74.72614884376526,\n",
              " 74.88614892959595,\n",
              " 75.04571604728699,\n",
              " 75.19652152061462,\n",
              " 75.34536528587341,\n",
              " 75.49651169776917,\n",
              " 75.64635944366455,\n",
              " 75.79713082313538,\n",
              " 75.94807147979736,\n",
              " 76.10842752456665,\n",
              " 76.2578296661377]"
            ]
          },
          "metadata": {
            "tags": []
          },
          "execution_count": 59
        }
      ]
    },
    {
      "cell_type": "code",
      "metadata": {
        "id": "cJXlAeuCUpfx",
        "colab_type": "code",
        "colab": {}
      },
      "source": [
        "def So(tau,X):\n",
        "    r = np.multiply(np.sign(X) , np.max(np.abs(X) - tau, 0))\n",
        "\n",
        "    return r\n",
        "\n",
        "def Do(tau, X):\n",
        "    U, S, Vh = np.linalg.svd(X)\n",
        "    add = Vh.shape[1] - len(S)\n",
        "  \n",
        "    S_trunc = So(tau, np.diag(S))\n",
        "    if add > 0:\n",
        "        zeros = np.zeros((len(S), add))\n",
        "        S_trunc = np.hstack((S_trunc, zeros))\n",
        "    r = U @ S_trunc @ Vh\n",
        "    return r\n",
        "\n"
      ],
      "execution_count": 0,
      "outputs": []
    },
    {
      "cell_type": "code",
      "metadata": {
        "id": "srMaBJMYfnlQ",
        "colab_type": "code",
        "colab": {}
      },
      "source": [
        "#https://github.com/dlaptev/RobustPCA/blob/master/RobustPCA.m\n",
        "\n",
        "def robustPCA(X):\n",
        "\n",
        "    M, N = X.shape\n",
        "    normX = np.linalg.norm(X, 'fro')\n",
        "\n",
        "    lambd = 0.1\n",
        "    \n",
        "    #1 / np.sqrt(max(M,N))\n",
        "  \n",
        "    mu = 85 * lambd\n",
        "    tol = 0.0003\n",
        "    max_iter = 1000\n",
        "\n",
        "    L = np.zeros((M,N))\n",
        "    S = np.zeros((M,N))\n",
        "    Y = np.zeros((M,N))\n",
        "\n",
        "    for iter in range(max_iter):\n",
        "        L = Do(1/mu, X - S + (1/mu)*Y)\n",
        "        S = So(lambd/mu, X - L + (1/mu)*Y)\n",
        "        Z = X - L - S\n",
        "        Y = Y + mu*Z\n",
        "        err = np.linalg.norm(Z, 'fro') / normX\n",
        "        if err < tol:\n",
        "            break\n",
        "        print(err)\n",
        "    return L, S"
      ],
      "execution_count": 0,
      "outputs": []
    },
    {
      "cell_type": "code",
      "metadata": {
        "id": "IrYO27jtqGWn",
        "colab_type": "code",
        "outputId": "fa86dcf2-cb6e-4259-c78c-c36574fdbd91",
        "colab": {
          "base_uri": "https://localhost:8080/",
          "height": 1000
        }
      },
      "source": [
        "\n",
        "\n",
        "Xk1, Xk2 = robustPCA(Xk)"
      ],
      "execution_count": 0,
      "outputs": [
        {
          "output_type": "stream",
          "text": [
            "0.01867740236891487\n",
            "0.025022808750223\n",
            "0.04251385328686047\n",
            "0.03745235519485222\n",
            "0.03447842061265658\n",
            "0.03961028226753843\n",
            "0.037517096138261194\n",
            "0.03645154699798413\n",
            "0.038103264106916286\n",
            "0.03832699142103393\n",
            "0.0368630277944677\n",
            "0.03731346603000945\n",
            "0.03839585616352855\n",
            "0.03772913536342712\n",
            "0.03749679242414469\n",
            "0.038594128829848265\n",
            "0.03828251101477132\n",
            "0.037523474233158924\n",
            "0.03825917993268238\n",
            "0.03841449181085047\n",
            "0.03779495015173205\n",
            "0.037981414595135383\n",
            "0.038721809187609126\n",
            "0.03845376262118561\n",
            "0.03821513675076373\n",
            "0.03895085439792646\n",
            "0.038726407759362085\n",
            "0.03805081530604502\n",
            "0.0385042218320391\n",
            "0.03896591934693014\n",
            "0.038408497261881024\n",
            "0.03841250131993124\n",
            "0.0386287367504797\n",
            "0.038289090751554636\n",
            "0.03856803167610069\n",
            "0.03904662299746165\n",
            "0.038551854641439384\n",
            "0.03821123062692408\n",
            "0.039038990536105274\n",
            "0.038642605218466325\n",
            "0.0383154474656847\n",
            "0.039589726243132894\n",
            "0.03913886322903032\n",
            "0.03756275642984023\n",
            "0.03892192895809874\n",
            "0.04008481870528229\n",
            "0.037968390995368424\n",
            "0.037818702970868326\n",
            "0.04073779488968171\n",
            "0.03929441040292203\n",
            "0.03694273817720061\n",
            "0.039807300277483484\n",
            "0.04097667810748679\n",
            "0.03755501710876411\n",
            "0.03818477835780064\n",
            "0.04133125154942254\n",
            "0.0384232778636515\n",
            "0.036899736077142156\n",
            "0.04119532952367965\n",
            "0.04004614474254403\n",
            "0.03665184437320135\n",
            "0.03945366591458402\n",
            "0.041107644607811716\n",
            "0.037668404694921984\n",
            "0.03805209904270584\n",
            "0.041107007890424936\n",
            "0.03849287566883793\n",
            "0.03686221523735601\n",
            "0.04055142046309395\n",
            "0.03979581283779808\n",
            "0.03689554442863984\n",
            "0.039644418132838234\n",
            "0.04101059975198289\n",
            "0.0372681349213914\n",
            "0.037923563866046645\n",
            "0.04139858470379049\n",
            "0.038602201787334776\n",
            "0.036915166801950325\n",
            "0.040924304190903156\n",
            "0.03996420449397406\n",
            "0.037121191319502055\n",
            "0.039604935896630805\n",
            "0.040824772697893585\n",
            "0.038103760087220565\n",
            "0.03857438086519187\n",
            "0.040819522039517844\n",
            "0.038939968352986215\n",
            "0.03811834868749243\n",
            "0.040472939958329436\n",
            "0.03955414137338716\n",
            "0.0376475114259165\n",
            "0.0401044411009621\n",
            "0.04064609966241211\n",
            "0.03730485841585048\n",
            "0.03879461288868148\n",
            "0.041804801430959174\n",
            "0.038231833707015064\n",
            "0.036538194727351925\n",
            "0.041417671129756986\n",
            "0.039955824291649185\n",
            "0.03622712765659836\n",
            "0.04010643995104319\n",
            "0.04122194576682187\n",
            "0.03674460188398141\n",
            "0.03828079152076102\n",
            "0.04202605847460226\n",
            "0.038271423831986895\n",
            "0.03659647258205048\n",
            "0.041178753247430686\n",
            "0.039691608907282204\n",
            "0.03622470348688922\n",
            "0.04008648387817706\n",
            "0.04127939318247569\n",
            "0.03689039059130691\n",
            "0.03828110168856779\n",
            "0.04184759466496622\n",
            "0.03844158874078929\n",
            "0.03698282432667234\n",
            "0.041248817841235436\n",
            "0.03962535773951975\n",
            "0.036528288742663194\n",
            "0.0401907882557689\n",
            "0.040716030280780365\n",
            "0.036896047834103524\n",
            "0.039111294111747304\n",
            "0.04147303772054267\n",
            "0.03765567660463407\n",
            "0.03765376793847981\n",
            "0.04155449747984244\n",
            "0.03894964136060248\n",
            "0.036776684302428864\n",
            "0.040906746220887955\n",
            "0.04038957960155565\n",
            "0.03673523739469417\n",
            "0.03922473929793229\n",
            "0.041362161054499615\n",
            "0.037965557494712844\n",
            "0.03772894983207708\n",
            "0.04138522756882796\n",
            "0.03937404604332669\n",
            "0.03693837187363579\n",
            "0.04035245463628139\n",
            "0.04076044199527521\n",
            "0.03759307019610477\n",
            "0.03963899419541121\n",
            "0.04165076236100435\n",
            "0.038502442999830334\n",
            "0.03851252067728665\n",
            "0.04152898683349053\n",
            "0.03948981007819007\n",
            "0.037776259472765424\n",
            "0.04100376453273093\n",
            "0.04046712721437384\n",
            "0.03760137305454799\n",
            "0.04009712373063324\n",
            "0.041451528970379965\n",
            "0.037975115091497126\n",
            "0.038823460631615576\n",
            "0.04196637560049029\n",
            "0.03902364931782563\n",
            "0.0376128248204581\n",
            "0.04149974556604201\n",
            "0.04027511849007938\n",
            "0.036984417260582464\n",
            "0.04035045260141637\n",
            "0.04168743367264397\n",
            "0.03764614080455255\n",
            "0.03885760955252146\n",
            "0.04211288186695262\n",
            "0.03855040037463905\n",
            "0.03728406845555955\n",
            "0.04200244411546366\n",
            "0.03991518007807549\n",
            "0.0360581066109452\n",
            "0.04051688242360251\n",
            "0.041682913489670806\n",
            "0.03724376126524462\n",
            "0.03856789202896783\n",
            "0.04199980255438891\n",
            "0.03861030261617475\n",
            "0.037636453660214154\n",
            "0.04183400060792749\n",
            "0.04007642483189685\n",
            "0.03707637358782832\n",
            "0.04052266520247151\n",
            "0.04135423193513952\n",
            "0.03772300551100996\n",
            "0.03909709254311934\n",
            "0.041973643102003515\n",
            "0.038800512001181627\n",
            "0.038088196440682516\n",
            "0.04169868474906569\n",
            "0.03995436656566145\n",
            "0.03729127311530885\n",
            "0.04048283019771129\n",
            "0.041332724297667316\n",
            "0.03793757015283862\n",
            "0.03879621103395215\n",
            "0.0417970041995573\n",
            "0.03927507087401291\n",
            "0.03771928003495758\n",
            "0.0412853094878192\n",
            "0.04036578795391124\n",
            "0.0372291438169413\n",
            "0.04027344967682107\n",
            "0.04157314070466651\n",
            "0.03763399883095503\n",
            "0.03856296476389394\n",
            "0.04201397559706969\n",
            "0.038999388501197614\n",
            "0.037993933831183296\n",
            "0.04168365578681633\n",
            "0.0397906648030656\n",
            "0.03707791911748355\n",
            "0.041089199670697935\n",
            "0.04145181838440139\n",
            "0.03727284921299186\n",
            "0.039445601398251304\n",
            "0.04221571491854875\n",
            "0.03815766374520196\n",
            "0.03802320060263298\n",
            "0.04232174675554278\n",
            "0.03956444982524236\n",
            "0.03710095889217641\n",
            "0.04142090707562102\n",
            "0.04121961897320816\n",
            "0.03754972317989435\n",
            "0.039872621479878155\n",
            "0.04203248343662096\n",
            "0.038465148613560055\n",
            "0.03845535290427386\n",
            "0.0424336615513661\n",
            "0.039942633218301\n",
            "0.03720792053577814\n",
            "0.0411298477056511\n",
            "0.04147788231841443\n",
            "0.03805647082011604\n",
            "0.03982160164781002\n",
            "0.0417812142096593\n",
            "0.03858776058518294\n",
            "0.03896409453825629\n",
            "0.04266725127901728\n",
            "0.03976192947181252\n",
            "0.03754429884755291\n",
            "0.041592076507987547\n",
            "0.04094324874534146\n",
            "0.03790817911668961\n",
            "0.040614601251187696\n",
            "0.04171404386756503\n",
            "0.03862595159974435\n",
            "0.03958434513582456\n",
            "0.04242110961438864\n",
            "0.03959543865190153\n",
            "0.03831802833576051\n",
            "0.042064095762845734\n",
            "0.04106294461967768\n",
            "0.03810208749792372\n",
            "0.04086684475547359\n",
            "0.041891574799124566\n",
            "0.03837110226828638\n",
            "0.039677836547247\n",
            "0.04244429251016884\n",
            "0.039169448203821705\n",
            "0.03877038583026838\n",
            "0.04233560968762521\n",
            "0.04035865294855799\n",
            "0.03827398336127988\n",
            "0.041248943801613445\n",
            "0.041445571071330636\n",
            "0.038911187351446296\n",
            "0.04085088943866957\n",
            "0.042529165201490714\n",
            "0.039566531764363186\n",
            "0.03965941490360119\n",
            "0.0423555310258077\n",
            "0.04043698419388638\n",
            "0.03922743564799423\n",
            "0.04208233712366024\n",
            "0.04147114504059141\n",
            "0.0393028968989608\n",
            "0.04117494641618106\n",
            "0.042140182870804614\n",
            "0.039489165769646756\n",
            "0.04061958454349224\n",
            "0.04279895086467359\n",
            "0.03989073895327442\n",
            "0.03921919758170349\n",
            "0.04279476188549682\n",
            "0.04118885490005525\n",
            "0.03849982153651863\n",
            "0.04161270680700237\n",
            "0.04210944736719048\n",
            "0.03869104847021115\n",
            "0.04032825373735357\n",
            "0.04264730286994339\n",
            "0.03974346737207222\n",
            "0.03929774795021842\n",
            "0.04238846045349148\n",
            "0.04069496981021324\n",
            "0.03891656145673661\n",
            "0.04185387165008811\n",
            "0.041391627567853646\n",
            "0.03896118111666082\n",
            "0.04114362208146548\n",
            "0.04207856278608831\n",
            "0.03914611243476821\n",
            "0.04001139717728732\n",
            "0.04245725252973065\n",
            "0.040172185992012936\n",
            "0.03943932772238532\n",
            "0.042124281760777475\n",
            "0.040871634615237046\n",
            "0.039455829324237565\n",
            "0.0414572547555212\n",
            "0.04161368553407153\n",
            "0.03976636110835525\n",
            "0.04061028354618848\n",
            "0.04175664421790574\n",
            "0.04060613659888073\n",
            "0.04047853185367765\n",
            "0.04166013938146977\n",
            "0.041303668829743165\n",
            "0.04086581851837271\n",
            "0.041573863186078364\n",
            "0.041240601674746746\n",
            "0.04095570942016793\n",
            "0.04108639046499709\n",
            "0.04162136291515443\n",
            "0.04144636308382858\n",
            "0.04111084347383023\n",
            "0.041206584916540334\n",
            "0.04152200711464165\n",
            "0.041556020191761245\n",
            "0.0411774453902403\n",
            "0.041086061985816734\n",
            "0.041905080877841436\n",
            "0.041803006178424806\n",
            "0.041126000176307416\n",
            "0.04177647162529359\n",
            "0.04181832519638264\n",
            "0.04141346413968623\n",
            "0.041739972295035586\n",
            "0.04197613625556209\n",
            "0.04175472676312779\n",
            "0.04197354730403238\n",
            "0.04200214834094018\n",
            "0.04162371565169774\n",
            "0.04177763320381961\n",
            "0.042284562549408905\n",
            "0.0419417274609034\n",
            "0.041754138952319574\n",
            "0.04218114750410713\n",
            "0.042321514805981404\n",
            "0.04200850924166375\n",
            "0.042055527525549384\n",
            "0.04209467830767679\n",
            "0.04159271115583046\n",
            "0.04174276334681546\n",
            "0.0422251612620701\n",
            "0.04207153570132128\n",
            "0.04168361933305739\n",
            "0.04183892268702297\n",
            "0.04221690851946714\n",
            "0.041944651307286474\n",
            "0.041861667736505105\n",
            "0.04213880281194422\n",
            "0.04216333285650434\n",
            "0.042084957621854616\n",
            "0.04220297850641701\n",
            "0.04213682362100755\n",
            "0.04197177261762422\n",
            "0.04197288814957485\n",
            "0.04232953683048096\n",
            "0.04253955966033754\n",
            "0.04218440103036938\n",
            "0.04157024143882034\n",
            "0.04217991108933469\n",
            "0.042655207502815255\n",
            "0.04201417329127681\n",
            "0.041419943453274634\n",
            "0.042513848716088834\n",
            "0.04257446760932669\n",
            "0.04123272163705127\n",
            "0.04164487360055571\n",
            "0.042985357269151335\n",
            "0.04202038188958125\n",
            "0.04162180349955038\n",
            "0.042473061633800484\n",
            "0.042730486519859716\n",
            "0.04229991529562413\n",
            "0.04187453519411715\n",
            "0.04154214757357346\n",
            "0.042363085178596445\n",
            "0.04217223103599351\n",
            "0.04182793643248471\n",
            "0.04205650855328655\n",
            "0.04231451184182305\n",
            "0.04199332539954438\n",
            "0.0420871966987128\n",
            "0.04247081820513708\n",
            "0.042178903133389505\n",
            "0.041974774495977585\n",
            "0.04219505046923692\n",
            "0.0421547344044488\n",
            "0.04194997921223298\n",
            "0.04221986375510007\n",
            "0.04248029472689366\n",
            "0.04184953131038559\n",
            "0.04170362221936831\n",
            "0.04253166689331447\n",
            "0.04237886878052319\n",
            "0.041570670150301456\n",
            "0.04184411483453992\n",
            "0.042481767472208706\n",
            "0.0420789268774123\n",
            "0.04185970606849332\n",
            "0.04239416294203392\n",
            "0.042390703862210395\n",
            "0.041744142496640914\n",
            "0.04201297798601165\n",
            "0.04216587510939137\n",
            "0.04174232985004559\n",
            "0.0420989720426858\n",
            "0.042531035825649044\n",
            "0.04181350125884488\n",
            "0.042203101943770506\n",
            "0.04264275208583362\n",
            "0.04202537899325939\n",
            "0.042107331494236205\n",
            "0.0427175871920389\n",
            "0.04202360618238414\n",
            "0.041953979965288546\n",
            "0.04244251497791755\n",
            "0.04199867957149425\n",
            "0.04244444113262315\n",
            "0.042614233827027184\n",
            "0.042054110643517384\n",
            "0.04256419092426641\n",
            "0.04276116458794058\n",
            "0.04226369597153142\n",
            "0.04238213090751677\n",
            "0.04279635761241982\n",
            "0.04254019665068217\n",
            "0.04231913535186859\n",
            "0.042746141091284356\n",
            "0.04280179995311643\n",
            "0.04228532142271831\n",
            "0.0423251690000163\n",
            "0.042790726496670276\n",
            "0.04265507665603569\n",
            "0.04253041278580585\n",
            "0.042668598493275076\n",
            "0.04259452003890298\n",
            "0.04282509705924244\n",
            "0.042431597132108596\n",
            "0.04240360712060549\n",
            "0.04310127718673171\n",
            "0.04312327476632384\n",
            "0.04265379874325724\n",
            "0.0426388973471186\n",
            "0.043072558854723574\n",
            "0.042733554492937406\n",
            "0.0422818880650805\n",
            "0.04311128951226127\n",
            "0.04315685088533858\n",
            "0.042624064562357525\n",
            "0.04288959809713579\n",
            "0.04313926212747293\n",
            "0.04268890239227234\n",
            "0.04213502521488986\n",
            "0.04290429558184503\n",
            "0.043045416632022354\n",
            "0.04238648849200269\n",
            "0.04269699456095075\n",
            "0.04344284451088261\n",
            "0.042772710850240515\n",
            "0.04227828596824807\n",
            "0.042423282297250856\n",
            "0.04330277959055795\n",
            "0.042971586049361694\n",
            "0.042138953762748455\n",
            "0.042521373401424395\n",
            "0.04350075513394025\n",
            "0.04291050677696726\n",
            "0.04264137256338173\n",
            "0.0430732617751141\n",
            "0.043071021954401274\n",
            "0.04288210723999779\n",
            "0.04311271825030644\n",
            "0.042876608973694524\n",
            "0.043031321166838575\n",
            "0.043659790018685446\n",
            "0.04369808596423529\n",
            "0.04290937648286154\n",
            "0.043735733463612876\n",
            "0.04385547860973162\n",
            "0.04281513090102114\n",
            "0.043270092299276336\n",
            "0.043601917767493545\n",
            "0.04352283419702977\n",
            "0.043553271287998956\n",
            "0.043178320426439536\n",
            "0.04340217563577837\n",
            "0.04366724374812376\n",
            "0.043359091964672004\n",
            "0.0432395543188094\n",
            "0.04364475264981408\n",
            "0.0435075432230025\n",
            "0.04384821264251821\n",
            "0.04385542335864877\n",
            "0.04335812957177332\n",
            "0.0438785071859938\n",
            "0.04385133287663361\n",
            "0.04324731880405154\n",
            "0.04353934212847904\n",
            "0.04391436090427186\n",
            "0.043877470122078106\n",
            "0.04357615837157581\n",
            "0.04389664365170167\n",
            "0.043748511574098335\n",
            "0.043652605761368785\n",
            "0.04383788797560967\n",
            "0.04320269674466574\n",
            "0.043632136812767036\n",
            "0.04425163098366454\n",
            "0.04367905663234275\n",
            "0.043674984345800846\n",
            "0.04430185324638235\n",
            "0.04351757713613475\n",
            "0.04331304841610422\n",
            "0.04402325904543944\n",
            "0.04413930661680495\n",
            "0.04400364104194418\n",
            "0.0438413458342142\n",
            "0.04366202574442813\n",
            "0.044129995718936284\n",
            "0.044060710901748665\n",
            "0.04365146381355906\n",
            "0.04398452792399254\n",
            "0.0444548847671064\n",
            "0.0441338834466907\n",
            "0.04373155221905192\n",
            "0.04453720106618413\n",
            "0.04424149315035297\n",
            "0.04420206211744108\n",
            "0.044761461205143606\n",
            "0.04460661748770658\n",
            "0.044155179051767066\n",
            "0.04421191981885713\n",
            "0.044620329142647214\n",
            "0.045122391227076564\n",
            "0.044655412771996535\n",
            "0.044793313884553786\n",
            "0.04528760608821033\n",
            "0.0450033849997925\n",
            "0.04513561360448911\n",
            "0.045087212771981584\n",
            "0.04479351204593616\n",
            "0.04511739456022578\n",
            "0.045427946286811155\n",
            "0.044736038843668134\n",
            "0.0446235634438496\n",
            "0.04483341631507856\n",
            "0.045196965301305105\n",
            "0.04516951902984623\n",
            "0.045062281937840426\n",
            "0.044796460318586744\n",
            "0.04513452784774558\n",
            "0.045178500882082466\n",
            "0.0453130475440204\n",
            "0.04508083214605861\n",
            "0.04486262021708818\n",
            "0.04478784621148196\n",
            "0.045059633605286156\n",
            "0.045140414493810815\n",
            "0.04506807810385767\n",
            "0.04544475239458417\n",
            "0.045432755741619625\n",
            "0.04497669176159975\n",
            "0.045555102650865945\n",
            "0.0453840949281644\n",
            "0.044859694404349185\n",
            "0.04538745063357064\n",
            "0.04571272244014326\n",
            "0.045473773845486024\n",
            "0.04547187202408478\n",
            "0.045541376595586346\n",
            "0.045766049682552976\n",
            "0.045742791687168154\n",
            "0.04557909471419002\n",
            "0.04565148411232041\n",
            "0.045758060297666076\n",
            "0.04577328855603543\n",
            "0.04601951946189878\n",
            "0.04601565833685131\n",
            "0.046153129952311994\n",
            "0.046048160033698396\n",
            "0.04600862301044625\n",
            "0.04655530718904889\n",
            "0.04649243112217104\n",
            "0.04662960689918384\n",
            "0.04681960952618326\n",
            "0.04620884424743086\n",
            "0.046993340979296964\n",
            "0.047074011530842626\n",
            "0.04679481805143486\n",
            "0.04664251176178202\n",
            "0.047457099612869834\n",
            "0.04693917774496848\n",
            "0.0469737256549514\n",
            "0.047155249777578345\n",
            "0.04715990258454073\n",
            "0.04714037630116099\n",
            "0.047372482035262585\n",
            "0.04687947621748195\n",
            "0.04739511312759465\n",
            "0.04713951499631731\n",
            "0.0470714422553988\n",
            "0.04730353759005767\n",
            "0.047681222059349465\n",
            "0.047293646862232586\n",
            "0.047463280584331934\n",
            "0.04744333197025134\n",
            "0.04764074226420172\n",
            "0.04748007040183987\n",
            "0.04770686021195793\n",
            "0.047531386514034456\n",
            "0.04794108127430601\n",
            "0.047600501536481425\n",
            "0.04748058124724477\n",
            "0.047612489628640745\n",
            "0.04808999262874605\n",
            "0.048143186420094054\n",
            "0.04803288404553382\n",
            "0.04807647046084396\n",
            "0.04788981225378158\n",
            "0.04808112465539529\n",
            "0.048115662048302775\n",
            "0.04790220845371949\n",
            "0.04837561376963576\n",
            "0.04855896585153101\n",
            "0.04835483788987345\n",
            "0.04868273730839917\n",
            "0.04891248568067229\n",
            "0.04871304896218195\n",
            "0.04889750846167009\n",
            "0.04917104521223833\n",
            "0.0490829330329628\n",
            "0.04909649324929259\n",
            "0.04923106470830221\n",
            "0.04891847294117263\n",
            "0.049315980367203374\n",
            "0.049332441562283134\n",
            "0.04913746847757436\n",
            "0.04941900481786387\n",
            "0.04939045337694432\n",
            "0.04953483257465216\n",
            "0.04957633200607013\n",
            "0.04954297344330754\n",
            "0.04956454622284856\n",
            "0.04954084940848976\n",
            "0.04968748561142541\n",
            "0.04979684095477703\n",
            "0.0498429075624357\n",
            "0.05028629269490993\n",
            "0.04993891799690665\n",
            "0.050191658127014205\n",
            "0.050461852396610475\n",
            "0.050031089322799656\n",
            "0.050395931299707146\n",
            "0.05036433776695701\n",
            "0.05007294631156244\n",
            "0.050349195974184704\n",
            "0.05038468568600374\n",
            "0.05031058119636172\n",
            "0.05025406446732624\n",
            "0.05028616049971235\n",
            "0.050166771109320024\n",
            "0.05031460698174107\n",
            "0.0503279064356124\n",
            "0.05040841124388499\n",
            "0.05046502701926042\n",
            "0.05049554999889521\n",
            "0.050626693405785586\n",
            "0.05061249875063214\n",
            "0.050760362353082705\n",
            "0.05051070040549608\n",
            "0.05042695342604441\n",
            "0.05085727995474529\n",
            "0.05054427097640987\n",
            "0.050898737832642496\n",
            "0.0508457031030167\n",
            "0.05073344650543204\n",
            "0.05070027885265343\n",
            "0.05095553839297489\n",
            "0.05073210913468789\n",
            "0.0509372093486598\n",
            "0.05115284444713164\n",
            "0.050870662395120135\n",
            "0.0508910710813452\n",
            "0.051093756562515406\n",
            "0.051006235040417604\n",
            "0.05115722742977727\n",
            "0.05136121907118125\n",
            "0.05101636360782693\n",
            "0.05124365860497842\n",
            "0.05118413380846093\n",
            "0.05102109851356298\n",
            "0.05130198186053787\n",
            "0.05119150813451256\n",
            "0.051053804073412694\n",
            "0.051332853286431834\n",
            "0.05107144419715373\n",
            "0.05138808902915003\n",
            "0.05134030650767705\n",
            "0.05137897801675904\n",
            "0.051371365528567026\n",
            "0.051603737322039975\n",
            "0.0518962537770334\n",
            "0.05161083106493519\n",
            "0.051631688378488305\n",
            "0.05161632844304129\n",
            "0.05159661576151552\n",
            "0.051603644483995965\n",
            "0.05189552377331846\n",
            "0.05182267515538966\n",
            "0.05171403542963457\n",
            "0.05162193557202286\n",
            "0.05143417001573777\n",
            "0.05146518259353493\n",
            "0.05184670144220735\n",
            "0.05168829281704385\n",
            "0.05198473944036906\n",
            "0.0518179058382166\n",
            "0.05168385560103144\n",
            "0.05185172012889224\n",
            "0.051726181448181564\n",
            "0.05169025827157152\n",
            "0.05169213707806916\n",
            "0.05173658224687155\n",
            "0.0516609596250145\n",
            "0.0521112884021147\n",
            "0.05201897632951005\n",
            "0.0521854912324505\n",
            "0.05207233039908763\n",
            "0.05226045559437788\n",
            "0.05189059552422504\n",
            "0.05212374954681028\n",
            "0.05193861195453181\n",
            "0.05222558634555658\n",
            "0.05213084359656664\n",
            "0.05231309693557383\n",
            "0.05207761726568603\n",
            "0.05204019210898803\n",
            "0.052062138980437114\n",
            "0.05216743816045511\n",
            "0.052185893289881526\n",
            "0.05238848050593263\n",
            "0.0521355659214034\n",
            "0.05236580724519096\n",
            "0.0522060552819955\n",
            "0.052463810198786445\n",
            "0.052159676571577995\n",
            "0.052517384485411246\n",
            "0.052344645583773164\n",
            "0.05256794310210248\n",
            "0.052507319287393245\n",
            "0.05247328573113902\n",
            "0.05259655613641952\n",
            "0.052686925068125855\n",
            "0.052349539394064754\n",
            "0.0525439710559732\n",
            "0.05260542199642017\n",
            "0.052603690374953806\n",
            "0.05257004205167057\n",
            "0.052771733947494376\n",
            "0.05263016487625583\n",
            "0.052656131096419714\n",
            "0.05277045063219271\n",
            "0.0526454869698267\n",
            "0.052412745798883095\n",
            "0.05265700203500142\n",
            "0.0525023220606444\n",
            "0.052529250160536035\n",
            "0.05241704109936354\n",
            "0.052645287374110054\n",
            "0.052467949956273546\n",
            "0.052695905775009586\n",
            "0.052648428491964556\n",
            "0.052728098270743734\n",
            "0.05291239126668541\n",
            "0.05281569279462732\n",
            "0.05273530809339184\n",
            "0.05273856521278527\n",
            "0.05276665670979773\n",
            "0.05282600385462081\n",
            "0.05269635037141879\n",
            "0.052848941921400897\n",
            "0.05293009872151577\n",
            "0.05283086355693751\n",
            "0.05277173792745193\n",
            "0.05302609511724723\n",
            "0.0528074150316301\n",
            "0.05296717750648622\n",
            "0.05282065816791139\n",
            "0.05275500851614\n",
            "0.05292260444277842\n",
            "0.05294653216340938\n",
            "0.05279980916302544\n",
            "0.05323588513044419\n",
            "0.053029728702634\n",
            "0.053106822354653395\n",
            "0.053392240845583874\n",
            "0.05301154855240923\n",
            "0.0533685971558455\n",
            "0.05329057370187402\n",
            "0.05315070153072628\n",
            "0.0533987541945033\n",
            "0.05336280608206643\n",
            "0.05329562982557399\n",
            "0.053184375343291984\n",
            "0.053336034279546446\n",
            "0.053446491176538304\n",
            "0.053496082556975334\n",
            "0.053452134389887364\n",
            "0.05351485802478804\n",
            "0.053724498286609905\n",
            "0.05348153229845499\n",
            "0.053692230454441325\n",
            "0.05343182479991428\n",
            "0.053483152489222696\n",
            "0.05361778257144058\n",
            "0.05346716890149473\n",
            "0.05363703813437009\n",
            "0.05358218736420955\n",
            "0.053473464342741875\n",
            "0.05358080541385677\n",
            "0.05362257656816447\n",
            "0.05379002083301052\n",
            "0.05384994157459132\n",
            "0.054014873586189116\n",
            "0.05379564476584797\n",
            "0.05376613821617827\n",
            "0.05374483552050513\n",
            "0.05388729171762142\n",
            "0.05391637250736675\n",
            "0.053831600092301\n",
            "0.05384434818844846\n",
            "0.05401862647029868\n",
            "0.05405536780413303\n",
            "0.054016031268926484\n",
            "0.05426843805573258\n",
            "0.05408462692470827\n",
            "0.05412000148180818\n",
            "0.05427977936722904\n",
            "0.05400025335578224\n",
            "0.054108406224078226\n",
            "0.05418879091122389\n",
            "0.053992729447282235\n",
            "0.054100819058661445\n",
            "0.054251122217074566\n",
            "0.05402185792911989\n",
            "0.05406063688322402\n",
            "0.05427092667460929\n",
            "0.05427982430664591\n",
            "0.0541998842615096\n",
            "0.054322791754433455\n",
            "0.054176094791033774\n",
            "0.05433726158707751\n",
            "0.05422922940039827\n",
            "0.0541685890330219\n",
            "0.05421460233450741\n",
            "0.05412978059882343\n",
            "0.05421420018205403\n",
            "0.054303859756633904\n",
            "0.05422538796238178\n",
            "0.05415535399973411\n",
            "0.05407692713463068\n",
            "0.054459543380055486\n",
            "0.054243305882357026\n",
            "0.054297941988598775\n",
            "0.05442682311566095\n",
            "0.05437947051267699\n",
            "0.05429703804673337\n",
            "0.05439627197134903\n",
            "0.05438036436826415\n",
            "0.054658916216184746\n",
            "0.05442424977381033\n",
            "0.05448911311625385\n",
            "0.05450365808025878\n",
            "0.054486267129942284\n",
            "0.0543794222387918\n",
            "0.05469246528294323\n",
            "0.054767534788888274\n",
            "0.05455407308271502\n",
            "0.05452560078221563\n",
            "0.054569144121795754\n",
            "0.054354280854519106\n",
            "0.054796597658362665\n",
            "0.05471500212393059\n",
            "0.05472766117268579\n",
            "0.05474895462956992\n",
            "0.05475223976961285\n",
            "0.054594028912763264\n",
            "0.054979160651642114\n",
            "0.054866926692313085\n",
            "0.054757458258879586\n",
            "0.0549141644862655\n",
            "0.054936407452683744\n",
            "0.05478329811985639\n",
            "0.05500994662771387\n",
            "0.05479275433190652\n",
            "0.05479581887884836\n",
            "0.054917245359733455\n",
            "0.05482162911871625\n",
            "0.05476933920244557\n",
            "0.054849304772626506\n",
            "0.0549053715929037\n",
            "0.05481095360542117\n",
            "0.05492560503131707\n",
            "0.05499841998206077\n",
            "0.05492555118920398\n",
            "0.054962741704560815\n",
            "0.05495882792577705\n",
            "0.05478649622876903\n",
            "0.05494133211133248\n",
            "0.05499291194962971\n",
            "0.05471723270869156\n",
            "0.055086088822470604\n",
            "0.05488482230244128\n",
            "0.05465952763140819\n",
            "0.05516126212413053\n",
            "0.05487596873107968\n",
            "0.05483681589206085\n",
            "0.05508632728538919\n",
            "0.05480577574992221\n",
            "0.05509541347243178\n",
            "0.05494657605255454\n",
            "0.055001139499767426\n",
            "0.054851274234901146\n",
            "0.05507795273342332\n",
            "0.05504259488992577\n",
            "0.055029993501746345\n",
            "0.05523216204980615\n",
            "0.05520058928210316\n",
            "0.05494999836786556\n",
            "0.055152097932616294\n",
            "0.055077924790322676\n",
            "0.055141838338046485\n",
            "0.05523340584646624\n",
            "0.055272789896521\n",
            "0.05515164904433232\n",
            "0.055163202118592825\n",
            "0.05516694288578442\n",
            "0.05517329864894323\n",
            "0.05497313542273575\n",
            "0.05524408068673104\n",
            "0.055004046672388\n",
            "0.055301173584094775\n",
            "0.05522342354113359\n",
            "0.05531294999464343\n",
            "0.055289735055485977\n",
            "0.055238639719841345\n",
            "0.05513575289708747\n",
            "0.05547911582196366\n",
            "0.055147307259228784\n",
            "0.05529577481947824\n",
            "0.05523600488994351\n",
            "0.05529577067297098\n",
            "0.055228596225183585\n",
            "0.05530537913704647\n",
            "0.05527929538714287\n",
            "0.055194295477527876\n",
            "0.055231174726044475\n",
            "0.05523827795551679\n",
            "0.05520448071586098\n",
            "0.05539342321546162\n",
            "0.055373663718457256\n",
            "0.05536660634999857\n",
            "0.055447480185721224\n",
            "0.05544670922439721\n",
            "0.05514767258352125\n",
            "0.05549048366233697\n",
            "0.055286689480808636\n",
            "0.055198054909624907\n",
            "0.05541523235016324\n",
            "0.055409409340178226\n",
            "0.05510023889688687\n",
            "0.055429139004623776\n",
            "0.05523062369747581\n",
            "0.055338116011060624\n",
            "0.055347970140214434\n",
            "0.05531586353739935\n",
            "0.0552648925020545\n",
            "0.055533802709751535\n",
            "0.055375597947010115\n",
            "0.05539209915376017\n",
            "0.0554182611233136\n",
            "0.0554221482442829\n",
            "0.05546895874947752\n"
          ],
          "name": "stdout"
        }
      ]
    },
    {
      "cell_type": "code",
      "metadata": {
        "id": "YVZh4FHCvOGV",
        "colab_type": "code",
        "colab": {}
      },
      "source": [
        "ica = FastICA(10)"
      ],
      "execution_count": 0,
      "outputs": []
    },
    {
      "cell_type": "code",
      "metadata": {
        "id": "KJc1gsNZx3Sa",
        "colab_type": "code",
        "colab": {}
      },
      "source": [
        "S_ = ica.fit_transform(X_train[:10].T) "
      ],
      "execution_count": 0,
      "outputs": []
    },
    {
      "cell_type": "code",
      "metadata": {
        "id": "SuLAmPd2zYWe",
        "colab_type": "code",
        "outputId": "39876aaf-c8fd-442c-851b-004afd36f13b",
        "colab": {
          "base_uri": "https://localhost:8080/",
          "height": 34
        }
      },
      "source": [
        "X_train[:2].shape"
      ],
      "execution_count": 0,
      "outputs": [
        {
          "output_type": "execute_result",
          "data": {
            "text/plain": [
              "(2, 784)"
            ]
          },
          "metadata": {
            "tags": []
          },
          "execution_count": 42
        }
      ]
    },
    {
      "cell_type": "code",
      "metadata": {
        "id": "2YfrWNhSyW0c",
        "colab_type": "code",
        "outputId": "d6063ee6-7f39-48cb-96d5-5ba757cc3af0",
        "colab": {
          "base_uri": "https://localhost:8080/",
          "height": 34
        }
      },
      "source": [
        "S_.shape"
      ],
      "execution_count": 0,
      "outputs": [
        {
          "output_type": "execute_result",
          "data": {
            "text/plain": [
              "(784, 10)"
            ]
          },
          "metadata": {
            "tags": []
          },
          "execution_count": 56
        }
      ]
    },
    {
      "cell_type": "code",
      "metadata": {
        "id": "1GWOMYLcyX3e",
        "colab_type": "code",
        "outputId": "80a0be72-2ce1-4bc2-8153-abd867002180",
        "colab": {
          "base_uri": "https://localhost:8080/",
          "height": 282
        }
      },
      "source": [
        "plt.imshow(S_[:,1].reshape(28,28), 'gray')"
      ],
      "execution_count": 0,
      "outputs": [
        {
          "output_type": "execute_result",
          "data": {
            "text/plain": [
              "<matplotlib.image.AxesImage at 0x7f49c7b91550>"
            ]
          },
          "metadata": {
            "tags": []
          },
          "execution_count": 57
        },
        {
          "output_type": "display_data",
          "data": {
            "image/png": "[encoded data removed]",
            "text/plain": [
              "<Figure size 432x288 with 1 Axes>"
            ]
          },
          "metadata": {
            "tags": [],
            "needs_background": "light"
          }
        }
      ]
    },
    {
      "cell_type": "code",
      "metadata": {
        "id": "t-jdqazfyuSy",
        "colab_type": "code",
        "colab": {}
      },
      "source": [
        ""
      ],
      "execution_count": 0,
      "outputs": []
    }
  ]
}