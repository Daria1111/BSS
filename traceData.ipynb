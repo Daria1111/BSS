{
  "nbformat": 4,
  "nbformat_minor": 0,
  "metadata": {
    "colab": {
      "name": "traceData.ipynb",
      "provenance": []
    },
    "kernelspec": {
      "name": "python3",
      "display_name": "Python 3"
    }
  },
  "cells": [
    {
      "cell_type": "code",
      "metadata": {
        "id": "-m0Mm2GTJcV2",
        "colab_type": "code",
        "colab": {}
      },
      "source": [
        "from google.colab import drive\n",
        "import numpy as np\n",
        "from scipy.linalg import circulant\n",
        "import time\n",
        "import matplotlib.pyplot as plt\n",
        "%matplotlib inline\n",
        "import cvxpy as cvx"
      ],
      "execution_count": 0,
      "outputs": []
    },
    {
      "cell_type": "code",
      "metadata": {
        "id": "58guGwExJn_K",
        "colab_type": "code",
        "outputId": "49cfc8ac-de25-44a1-c868-df268dfa0119",
        "colab": {
          "base_uri": "https://localhost:8080/",
          "height": 121
        }
      },
      "source": [
        "drive.mount('/content/drive')"
      ],
      "execution_count": 0,
      "outputs": [
        {
          "output_type": "stream",
          "text": [
            "Go to this URL in a browser: https://accounts.google.com/o/oauth2/auth?client_id=947318989803-6bn6qk8qdgf4n4g3pfee6491hc0brc4i.apps.googleusercontent.com&redirect_uri=urn%3aietf%3awg%3aoauth%3a2.0%3aoob&response_type=code&scope=email%20https%3a%2f%2fwww.googleapis.com%2fauth%2fdocs.test%20https%3a%2f%2fwww.googleapis.com%2fauth%2fdrive%20https%3a%2f%2fwww.googleapis.com%2fauth%2fdrive.photos.readonly%20https%3a%2f%2fwww.googleapis.com%2fauth%2fpeopleapi.readonly\n",
            "\n",
            "Enter your authorization code:\n",
            "··········\n",
            "Mounted at /content/drive\n"
          ],
          "name": "stdout"
        }
      ]
    },
    {
      "cell_type": "code",
      "metadata": {
        "id": "T0Fc6tXLJrrx",
        "colab_type": "code",
        "colab": {}
      },
      "source": [
        "f = open('/content/drive/My Drive/pim.txt')\n",
        "pim = f.readline()\n",
        "pim = pim.split('\\t')\n",
        "pim = np.array(list(map(lambda x: float(x), pim)))\n",
        "f.close()"
      ],
      "execution_count": 0,
      "outputs": []
    },
    {
      "cell_type": "code",
      "metadata": {
        "id": "exYbhJLEJ05J",
        "colab_type": "code",
        "colab": {}
      },
      "source": [
        "f = open('/content/drive/My Drive/nf.txt')\n",
        "nf = f.readline()\n",
        "nf = nf.split('\\t')\n",
        "nf = np.array(list(map(lambda x: float(x), nf)))\n",
        "f.close()"
      ],
      "execution_count": 0,
      "outputs": []
    },
    {
      "cell_type": "code",
      "metadata": {
        "id": "d6JiFlrXJ3Nq",
        "colab_type": "code",
        "colab": {}
      },
      "source": [
        "f = open('/content/drive/My Drive/u1.txt')\n",
        "u1 = f.readline()\n",
        "u1 = u1.split('\\t')\n",
        "u1 = np.array(list(map(lambda x: float(x), u1)))\n",
        "f.close()"
      ],
      "execution_count": 0,
      "outputs": []
    },
    {
      "cell_type": "code",
      "metadata": {
        "id": "rAqZkjStJ6JJ",
        "colab_type": "code",
        "colab": {}
      },
      "source": [
        "K = 10\n",
        "L = 900\n",
        "N = 900"
      ],
      "execution_count": 0,
      "outputs": []
    },
    {
      "cell_type": "code",
      "metadata": {
        "id": "2DOfScusKD4J",
        "colab_type": "code",
        "colab": {}
      },
      "source": [
        "m = pim[:N].reshape((N,1))\n",
        "m1 = u1[:N].reshape((N,1))\n",
        "nf1 = nf[:N].reshape((N,1))"
      ],
      "execution_count": 0,
      "outputs": []
    },
    {
      "cell_type": "code",
      "metadata": {
        "id": "o-je_hq5KINQ",
        "colab_type": "code",
        "colab": {}
      },
      "source": [
        "\n",
        "C = np.random.randn(L,N)\n",
        "\n",
        "h11 = np.random.randn(K,1)\n",
        "h12 = np.random.randn(K,1)\n",
        "h21 = np.random.randn(K,1)\n",
        "h22 = np.random.randn(K,1)\n",
        "\n",
        "B = np.random.randn(L,K)"
      ],
      "execution_count": 0,
      "outputs": []
    },
    {
      "cell_type": "code",
      "metadata": {
        "id": "XsY5BZ3xKK7P",
        "colab_type": "code",
        "colab": {}
      },
      "source": [
        "\n",
        "A = circulant(C[:,0]) @ B\n",
        "for iter in range(1,N):\n",
        "    elem = circulant(C[:,iter]) @ B\n",
        "    A = np.hstack((A,elem))"
      ],
      "execution_count": 0,
      "outputs": []
    },
    {
      "cell_type": "code",
      "metadata": {
        "id": "QIC9w8e4KNO9",
        "colab_type": "code",
        "colab": {}
      },
      "source": [
        "X0 = h11 @ m.reshape((1,N))\n",
        "X1 = h12 @ m1.reshape((1,N))\n",
        "X00 = h21 @ m.reshape((1,N))\n",
        "X2 = h22 @ m1.reshape((1,N))\n",
        "\n",
        "Xu = np.vstack((X1,X2))\n",
        "Xpim = np.vstack((X0,X00))\n",
        "X = Xu + Xpim"
      ],
      "execution_count": 0,
      "outputs": []
    },
    {
      "cell_type": "code",
      "metadata": {
        "id": "9-IrNvMOKURv",
        "colab_type": "code",
        "colab": {}
      },
      "source": [
        "\n",
        "a, b = A.shape\n",
        "A0 = np.zeros((a,b))\n",
        "A1 = np.hstack((A,A0))\n",
        "A2 = np.hstack((A0,A))\n",
        "A = np.vstack((A1,A2))"
      ],
      "execution_count": 0,
      "outputs": []
    },
    {
      "cell_type": "code",
      "metadata": {
        "id": "hiyMJh0qKWaA",
        "colab_type": "code",
        "colab": {}
      },
      "source": [
        "y =  A @ cvx.vec(X) + nf[:2*N]"
      ],
      "execution_count": 0,
      "outputs": []
    },
    {
      "cell_type": "code",
      "metadata": {
        "id": "icnOa_d7KYsy",
        "colab_type": "code",
        "outputId": "bd1702fd-cab2-4277-9700-d92d418ed34b",
        "colab": {
          "base_uri": "https://localhost:8080/",
          "height": 34
        }
      },
      "source": [
        "\n",
        "start = time.time()\n",
        "W1 = cvx.Variable((2*K,2*K), symmetric=True)\n",
        "W2 = cvx.Variable((N,N),  symmetric=True)\n",
        "Z = cvx.Variable((2*K,N))\n",
        "\n",
        "constraints = [cvx.bmat([[W1,Z],[Z.T,W2]]) >> 0,\n",
        "               y == A @ cvx.vec(Z)]\n",
        "obj = cvx.Minimize(1/2 * (cvx.trace(W1) + cvx.trace(W2)))\n",
        "problem = cvx.Problem(obj, constraints)\n",
        "problem.solve()\n",
        "print(-start + time.time())"
      ],
      "execution_count": 0,
      "outputs": [
        {
          "output_type": "stream",
          "text": [
            "315.3007242679596\n"
          ],
          "name": "stdout"
        }
      ]
    },
    {
      "cell_type": "code",
      "metadata": {
        "id": "hGcClweDKv3p",
        "colab_type": "code",
        "colab": {}
      },
      "source": [
        "Xk = Z.value"
      ],
      "execution_count": 0,
      "outputs": []
    },
    {
      "cell_type": "code",
      "metadata": {
        "id": "eDL54E85Nkjj",
        "colab_type": "code",
        "colab": {}
      },
      "source": [
        "u, s, v = np.linalg.svd(Xk)"
      ],
      "execution_count": 0,
      "outputs": []
    },
    {
      "cell_type": "code",
      "metadata": {
        "id": "ZAzyGHb-Nm_x",
        "colab_type": "code",
        "outputId": "7c5eb9d5-1c0e-41a6-9c24-57de57a15696",
        "colab": {
          "base_uri": "https://localhost:8080/",
          "height": 101
        }
      },
      "source": [
        "s"
      ],
      "execution_count": 0,
      "outputs": [
        {
          "output_type": "execute_result",
          "data": {
            "text/plain": [
              "array([1.43290342e+00, 1.59273775e-01, 9.44003669e-02, 7.30245379e-02,\n",
              "       6.71439453e-02, 4.92370433e-02, 4.65115017e-02, 4.46345392e-02,\n",
              "       3.76501517e-02, 2.69937480e-02, 1.86688875e-02, 1.42276623e-02,\n",
              "       9.96738020e-03, 5.79534866e-03, 3.93090479e-03, 3.69064669e-04,\n",
              "       3.62800454e-04, 3.49253286e-04, 3.43052747e-04, 3.26083964e-04])"
            ]
          },
          "metadata": {
            "tags": []
          },
          "execution_count": 16
        }
      ]
    },
    {
      "cell_type": "code",
      "metadata": {
        "id": "HlTTE3f1NngS",
        "colab_type": "code",
        "colab": {}
      },
      "source": [
        "signal1 = v[0,:]"
      ],
      "execution_count": 0,
      "outputs": []
    },
    {
      "cell_type": "code",
      "metadata": {
        "id": "xfcueRSyNqmO",
        "colab_type": "code",
        "outputId": "90d40581-e426-4657-e79d-e4f99edd35fd",
        "colab": {
          "base_uri": "https://localhost:8080/",
          "height": 282
        }
      },
      "source": [
        "plt.plot(signal1)"
      ],
      "execution_count": 0,
      "outputs": [
        {
          "output_type": "execute_result",
          "data": {
            "text/plain": [
              "[<matplotlib.lines.Line2D at 0x7f3a8582ffd0>]"
            ]
          },
          "metadata": {
            "tags": []
          },
          "execution_count": 18
        },
        {
          "output_type": "display_data",
          "data": {
            "image/png": "[encoded data removed]",
            "text/plain": [
              "<Figure size 432x288 with 1 Axes>"
            ]
          },
          "metadata": {
            "tags": [],
            "needs_background": "light"
          }
        }
      ]
    },
    {
      "cell_type": "code",
      "metadata": {
        "id": "_t6CNFCSNtrQ",
        "colab_type": "code",
        "colab": {}
      },
      "source": [
        "signal2 = v[1,:]"
      ],
      "execution_count": 0,
      "outputs": []
    },
    {
      "cell_type": "code",
      "metadata": {
        "id": "jc7aF_c1NwZr",
        "colab_type": "code",
        "outputId": "423f5e11-e425-4afc-a4f7-fc3a96f6c9bb",
        "colab": {
          "base_uri": "https://localhost:8080/",
          "height": 282
        }
      },
      "source": [
        "plt.plot(signal2)"
      ],
      "execution_count": 0,
      "outputs": [
        {
          "output_type": "execute_result",
          "data": {
            "text/plain": [
              "[<matplotlib.lines.Line2D at 0x7f3a86287a90>]"
            ]
          },
          "metadata": {
            "tags": []
          },
          "execution_count": 20
        },
        {
          "output_type": "display_data",
          "data": {
            "image/png": "[encoded data removed]",
            "text/plain": [
              "<Figure size 432x288 with 1 Axes>"
            ]
          },
          "metadata": {
            "tags": [],
            "needs_background": "light"
          }
        }
      ]
    },
    {
      "cell_type": "code",
      "metadata": {
        "id": "Tfhb63QINyrM",
        "colab_type": "code",
        "colab": {}
      },
      "source": [
        "def sae(s1, s2):\n",
        "    return np.arccos((s1 @ s2) / (np.linalg.norm(s1) * np.linalg.norm(s2))) ** 2"
      ],
      "execution_count": 0,
      "outputs": []
    },
    {
      "cell_type": "code",
      "metadata": {
        "id": "8FPaPTRdN3LR",
        "colab_type": "code",
        "outputId": "3a8dcc7c-5be0-412c-b66e-002f507e1e83",
        "colab": {
          "base_uri": "https://localhost:8080/",
          "height": 34
        }
      },
      "source": [
        "sae(u1[:900], v[1,:])"
      ],
      "execution_count": 0,
      "outputs": [
        {
          "output_type": "execute_result",
          "data": {
            "text/plain": [
              "0.9220555051429528"
            ]
          },
          "metadata": {
            "tags": []
          },
          "execution_count": 24
        }
      ]
    },
    {
      "cell_type": "code",
      "metadata": {
        "id": "frGhs2yAN5v6",
        "colab_type": "code",
        "outputId": "1d901b3b-c717-4f3c-ca1f-8229821e0a7f",
        "colab": {
          "base_uri": "https://localhost:8080/",
          "height": 34
        }
      },
      "source": [
        "sae(pim[:900], v[0,:])"
      ],
      "execution_count": 0,
      "outputs": [
        {
          "output_type": "execute_result",
          "data": {
            "text/plain": [
              "0.09852786145185563"
            ]
          },
          "metadata": {
            "tags": []
          },
          "execution_count": 26
        }
      ]
    },
    {
      "cell_type": "code",
      "metadata": {
        "id": "dG6vWFsXN_Ij",
        "colab_type": "code",
        "colab": {}
      },
      "source": [
        ""
      ],
      "execution_count": 0,
      "outputs": []
    }
  ]
}