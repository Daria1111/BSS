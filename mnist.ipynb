{
  "nbformat": 4,
  "nbformat_minor": 0,
  "metadata": {
    "colab": {
      "name": "mnist.ipynb",
      "provenance": [],
      "machine_shape": "hm"
    },
    "kernelspec": {
      "name": "python3",
      "display_name": "Python 3"
    },
    "accelerator": "GPU"
  },
  "cells": [
    {
      "cell_type": "code",
      "metadata": {
        "id": "yIsHUFKVpzDY",
        "colab_type": "code",
        "colab": {}
      },
      "source": [
        "import matplotlib.pyplot as plt\n",
        "import numpy as np\n",
        "from scipy.linalg import circulant, block_diag\n",
        "import time\n",
        "import cvxpy as cvx"
      ],
      "execution_count": 0,
      "outputs": []
    },
    {
      "cell_type": "code",
      "metadata": {
        "id": "s_RJcGnIp1xq",
        "colab_type": "code",
        "outputId": "aebd889b-1683-4b9e-fbb9-e269cc718f2b",
        "colab": {
          "base_uri": "https://localhost:8080/",
          "height": 202
        }
      },
      "source": [
        "!wget https://raw.githubusercontent.com/yandexdataschool/Practical_DL/35c067adcc1ab364c8803830cdb34d0d50eea37e/week01_backprop/mnist.py -O mnist.py"
      ],
      "execution_count": 0,
      "outputs": [
        {
          "output_type": "stream",
          "text": [
            "--2020-05-12 08:52:21--  https://raw.githubusercontent.com/yandexdataschool/Practical_DL/35c067adcc1ab364c8803830cdb34d0d50eea37e/week01_backprop/mnist.py\n",
            "Resolving raw.githubusercontent.com (raw.githubusercontent.com)... 151.101.0.133, 151.101.64.133, 151.101.128.133, ...\n",
            "Connecting to raw.githubusercontent.com (raw.githubusercontent.com)|151.101.0.133|:443... connected.\n",
            "HTTP request sent, awaiting response... 200 OK\n",
            "Length: 2697 (2.6K) [text/plain]\n",
            "Saving to: ‘mnist.py’\n",
            "\n",
            "\rmnist.py              0%[                    ]       0  --.-KB/s               \rmnist.py            100%[===================>]   2.63K  --.-KB/s    in 0s      \n",
            "\n",
            "2020-05-12 08:52:21 (44.5 MB/s) - ‘mnist.py’ saved [2697/2697]\n",
            "\n"
          ],
          "name": "stdout"
        }
      ]
    },
    {
      "cell_type": "code",
      "metadata": {
        "id": "1dyoNXZqp6Cy",
        "colab_type": "code",
        "colab": {}
      },
      "source": [
        "import mnist"
      ],
      "execution_count": 0,
      "outputs": []
    },
    {
      "cell_type": "code",
      "metadata": {
        "id": "I4_vIDl9p-SD",
        "colab_type": "code",
        "colab": {}
      },
      "source": [
        "X_train, y_train, X_val, y_val, X_test, y_test = mnist.load_dataset(flatten=True)"
      ],
      "execution_count": 0,
      "outputs": []
    },
    {
      "cell_type": "code",
      "metadata": {
        "id": "bHdEvLtvqA2O",
        "colab_type": "code",
        "colab": {}
      },
      "source": [
        "pic1 = X_train[0].reshape([28,28])\n",
        "pic2 = X_train[1].reshape([28,28])"
      ],
      "execution_count": 0,
      "outputs": []
    },
    {
      "cell_type": "code",
      "metadata": {
        "id": "gsnFXoRPqH63",
        "colab_type": "code",
        "outputId": "dd1eb321-2f82-4ce1-bf0c-24f2c06db5c7",
        "colab": {
          "base_uri": "https://localhost:8080/",
          "height": 233
        }
      },
      "source": [
        "ims = np.hstack((pic1,pic2))\n",
        "plt.imshow(ims,'gray')"
      ],
      "execution_count": 0,
      "outputs": [
        {
          "output_type": "execute_result",
          "data": {
            "text/plain": [
              "<matplotlib.image.AxesImage at 0x7f4eb43746d8>"
            ]
          },
          "metadata": {
            "tags": []
          },
          "execution_count": 6
        },
        {
          "output_type": "display_data",
          "data": {
            "image/png": "[encoded data removed]",
            "text/plain": [
              "<Figure size 432x288 with 1 Axes>"
            ]
          },
          "metadata": {
            "tags": [],
            "needs_background": "light"
          }
        }
      ]
    },
    {
      "cell_type": "code",
      "metadata": {
        "id": "8g_3ReQwSfVY",
        "colab_type": "code",
        "colab": {}
      },
      "source": [
        "np.savetxt(\"digit.csv\", ims, delimiter=\",\")"
      ],
      "execution_count": 0,
      "outputs": []
    },
    {
      "cell_type": "code",
      "metadata": {
        "id": "lrdBUvenw6Fr",
        "colab_type": "code",
        "colab": {}
      },
      "source": [
        "K = 10\n",
        "L = 1500\n",
        "N = 2*784"
      ],
      "execution_count": 0,
      "outputs": []
    },
    {
      "cell_type": "code",
      "metadata": {
        "id": "LC1XBv2Vw26T",
        "colab_type": "code",
        "colab": {}
      },
      "source": [
        "\n",
        "m = pic1.reshape((784,1))\n",
        "m2 = pic2.reshape((784,1))\n",
        "m1 = np.vstack((m,m2))"
      ],
      "execution_count": 0,
      "outputs": []
    },
    {
      "cell_type": "code",
      "metadata": {
        "id": "D2Uf3KS2sDsZ",
        "colab_type": "code",
        "colab": {}
      },
      "source": [
        "C = np.random.randn(L,N)\n",
        "h1 = np.random.randn(K,1)\n",
        "h2 = np.random.randn(K,1)\n",
        "#h3 = np.random.randn(K,1)\n",
        "#h4 = np.random.randn(K,1)\n",
        "#h5 = np.random.randn(K,1)\n",
        "B = np.random.randn(L,K)"
      ],
      "execution_count": 0,
      "outputs": []
    },
    {
      "cell_type": "code",
      "metadata": {
        "id": "DscVJ556w1Sg",
        "colab_type": "code",
        "colab": {}
      },
      "source": [
        "A = circulant(C[:,0]) @ B\n",
        "for iter in range(1,N):\n",
        "    elem = circulant(C[:,iter]) @ B\n",
        "    A = np.hstack((A,elem))"
      ],
      "execution_count": 0,
      "outputs": []
    },
    {
      "cell_type": "code",
      "metadata": {
        "id": "8pG6mfvmxImF",
        "colab_type": "code",
        "colab": {}
      },
      "source": [
        "X1 = h1 @ m1.reshape((1,N))\n",
        "X2 = h2 @ m1.reshape((1,N))\n",
        "#X3 = h3 @ m1.reshape((1,N))\n",
        "#X4 = h4 @ m1.reshape((1,N))\n",
        "#X5 = h5 @ m1.reshape((1,N))\n",
        "X = np.vstack((X1,X2))"
      ],
      "execution_count": 0,
      "outputs": []
    },
    {
      "cell_type": "code",
      "metadata": {
        "id": "BursdnFBCCTG",
        "colab_type": "code",
        "colab": {}
      },
      "source": [
        "A = block_diag(A,A)"
      ],
      "execution_count": 0,
      "outputs": []
    },
    {
      "cell_type": "code",
      "metadata": {
        "id": "nepngcdEx1h4",
        "colab_type": "code",
        "colab": {}
      },
      "source": [
        "y =  A @ X.reshape((2*N*K,1))"
      ],
      "execution_count": 0,
      "outputs": []
    },
    {
      "cell_type": "code",
      "metadata": {
        "id": "cXxFlIEQJvnw",
        "colab_type": "code",
        "outputId": "02203f21-c84c-4b96-891b-3fb4f0f49bf0",
        "colab": {
          "base_uri": "https://localhost:8080/",
          "height": 233
        }
      },
      "source": [
        "plt.imshow(y[:N].reshape(28,56),'gray')"
      ],
      "execution_count": 0,
      "outputs": [
        {
          "output_type": "execute_result",
          "data": {
            "text/plain": [
              "<matplotlib.image.AxesImage at 0x7f4eafbe1e48>"
            ]
          },
          "metadata": {
            "tags": []
          },
          "execution_count": 37
        },
        {
          "output_type": "display_data",
          "data": {
            "image/png": "[encoded data removed]",
            "text/plain": [
              "<Figure size 432x288 with 1 Axes>"
            ]
          },
          "metadata": {
            "tags": [],
            "needs_background": "light"
          }
        }
      ]
    },
    {
      "cell_type": "code",
      "metadata": {
        "id": "-xtuTGGGx4sB",
        "colab_type": "code",
        "colab": {}
      },
      "source": [
        "\n",
        "def prox_nuclear(A, lambd):\n",
        "    U, S, Vh = np.linalg.svd(A)\n",
        "    svp = np.sum(S > lambd)\n",
        "    if svp >= 1:\n",
        "        S = S[:svp] - lambd\n",
        "        X = U[:,:svp] @ np.diag(S) @ Vh[:svp]\n",
        "        nucnorm = np.sum(S)\n",
        "    else:\n",
        "        X = np.zeros(A.shape)\n",
        "        nucnorm = 0\n",
        "    return X, nucnorm"
      ],
      "execution_count": 0,
      "outputs": []
    },
    {
      "cell_type": "code",
      "metadata": {
        "id": "McnFD9TEx9a3",
        "colab_type": "code",
        "colab": {}
      },
      "source": [
        "def prox_l21(A,lambd):\n",
        "    X = np.zeros(A.shape)\n",
        "    for i in range(X.shape[1]):\n",
        "        nxi = np.linalg.norm(A[:,i])\n",
        "        if nxi > lambd:\n",
        "            X[:,i] = (1 - lambd/nxi) * A[:,i]\n",
        "    return X\n",
        "    "
      ],
      "execution_count": 0,
      "outputs": []
    },
    {
      "cell_type": "code",
      "metadata": {
        "id": "iov7Qf3Xx_ql",
        "colab_type": "code",
        "colab": {}
      },
      "source": [
        "def lrr(y, A, lambd):\n",
        "    tol = 1e-4\n",
        "    max_iter = 500\n",
        "    ro = 1.1\n",
        "    mu = 1e-4\n",
        "    max_mu = 1e10\n",
        "\n",
        "    d, na = y.shape\n",
        "    a, nb = A.shape\n",
        "    #X = np.zeros((nb, na))\n",
        "    X = np.zeros((2*K,N))\n",
        "    E = np.zeros((d, na))\n",
        "    J = X\n",
        "\n",
        "    Y1 = E\n",
        "    Y2 = X\n",
        "   \n",
        "    Ablock = A[:int(a/2),:int(nb/2)]\n",
        "\n",
        "    AtA = Ablock.T @ Ablock\n",
        "    Aty = A.T @ y\n",
        "    I = np.eye(int(nb/2))\n",
        "    invAtAIblock = np.linalg.inv(AtA + I)\n",
        "   \n",
        "    invAtAI = block_diag(invAtAIblock,invAtAIblock)\n",
        "  \n",
        "    errs = []\n",
        "    times = []\n",
        "    start = time.time()\n",
        "\n",
        "    for iter in range(max_iter):\n",
        "      \n",
        "\n",
        "        J, nuclearnormJ = prox_nuclear(X+Y2/mu, 1/mu)\n",
        "        E = prox_l21(y - A @ X.reshape((2*K*N,1)) + Y1/mu, lambd/mu)\n",
        "\n",
        "        X = (invAtAI @ ((A.T @ (Y1/mu -E) + Aty).reshape((2*K,N)) - Y2/mu + J).reshape((2*K*N,1))).reshape((2*K,N))\n",
        "        dY1 = y - A @ X.reshape((2*K*N,1)) - E\n",
        "        dY2 = X - J\n",
        "\n",
        "        Y1 += mu * dY1\n",
        "        Y2 += mu * dY2\n",
        "        mu = min(ro*mu, max_mu)\n",
        "        times.append(time.time() - start)\n",
        "       \n",
        "        metric = np.linalg.norm(y - A @ X.reshape((2*K*N,1)))\n",
        "        #print(metric)\n",
        "        errs.append(metric)\n",
        "        if metric < tol:\n",
        "            break\n",
        "    return J, E, errs, iter, times"
      ],
      "execution_count": 0,
      "outputs": []
    },
    {
      "cell_type": "code",
      "metadata": {
        "id": "fkjIV01D2Wol",
        "colab_type": "code",
        "colab": {}
      },
      "source": [
        "Xk, E, errs, iters, times = lrr(y, A, 100)"
      ],
      "execution_count": 0,
      "outputs": []
    },
    {
      "cell_type": "code",
      "metadata": {
        "id": "DRF-hZVe2aWE",
        "colab_type": "code",
        "colab": {}
      },
      "source": [
        "u, s, v = np.linalg.svd(Xk)"
      ],
      "execution_count": 0,
      "outputs": []
    },
    {
      "cell_type": "code",
      "metadata": {
        "id": "CJMh2Jss5WaW",
        "colab_type": "code",
        "outputId": "8e3ce4da-47c9-4343-f606-c25cb2ba0c05",
        "colab": {
          "base_uri": "https://localhost:8080/",
          "height": 101
        }
      },
      "source": [
        "s"
      ],
      "execution_count": 0,
      "outputs": [
        {
          "output_type": "execute_result",
          "data": {
            "text/plain": [
              "array([6.14057033e+01, 1.05841686e+00, 8.83265989e-01, 7.36369161e-01,\n",
              "       6.83024334e-01, 6.16749322e-01, 5.85626217e-01, 4.23177794e-01,\n",
              "       3.30577276e-01, 2.78551836e-01, 2.56242862e-01, 2.26508533e-01,\n",
              "       1.98108942e-01, 9.61485067e-02, 5.24663378e-02, 1.52502197e-02,\n",
              "       2.47472159e-03, 1.51671605e-03, 9.70135495e-04, 7.56708116e-04])"
            ]
          },
          "metadata": {
            "tags": []
          },
          "execution_count": 65
        }
      ]
    },
    {
      "cell_type": "code",
      "metadata": {
        "id": "NmAe1iMN5YO2",
        "colab_type": "code",
        "outputId": "ad2b667e-bbaf-4898-ee6b-a8289b2033be",
        "colab": {
          "base_uri": "https://localhost:8080/",
          "height": 233
        }
      },
      "source": [
        "\n",
        "im1 = (v[0,:784]).reshape((28,28))\n",
        "im2 = (v[0,784:]).reshape((28,28))\n",
        "im = np.hstack((im1,im2))\n",
        "plt.imshow(im,'gray')"
      ],
      "execution_count": 0,
      "outputs": [
        {
          "output_type": "execute_result",
          "data": {
            "text/plain": [
              "<matplotlib.image.AxesImage at 0x7f4eafbfca20>"
            ]
          },
          "metadata": {
            "tags": []
          },
          "execution_count": 67
        },
        {
          "output_type": "display_data",
          "data": {
            "image/png": "[encoded data removed]",
            "text/plain": [
              "<Figure size 432x288 with 1 Axes>"
            ]
          },
          "metadata": {
            "tags": [],
            "needs_background": "light"
          }
        }
      ]
    },
    {
      "cell_type": "code",
      "metadata": {
        "id": "SUrHZWNMbNha",
        "colab_type": "code",
        "outputId": "168c1079-b6fc-4d28-ae15-a5b385f21c20",
        "colab": {
          "base_uri": "https://localhost:8080/",
          "height": 282
        }
      },
      "source": [
        "plt.plot(u[:,0])"
      ],
      "execution_count": 0,
      "outputs": [
        {
          "output_type": "execute_result",
          "data": {
            "text/plain": [
              "[<matplotlib.lines.Line2D at 0x7f4e91632f28>]"
            ]
          },
          "metadata": {
            "tags": []
          },
          "execution_count": 76
        },
        {
          "output_type": "display_data",
          "data": {
            "image/png": "[encoded data removed]",
            "text/plain": [
              "<Figure size 432x288 with 1 Axes>"
            ]
          },
          "metadata": {
            "tags": [],
            "needs_background": "light"
          }
        }
      ]
    },
    {
      "cell_type": "code",
      "metadata": {
        "id": "6RksN34lbWbg",
        "colab_type": "code",
        "outputId": "9b7cf47b-8d4d-4327-ec0b-563452d52a64",
        "colab": {
          "base_uri": "https://localhost:8080/",
          "height": 282
        }
      },
      "source": [
        "plt.plot(np.vstack((h1,h2)))"
      ],
      "execution_count": 0,
      "outputs": [
        {
          "output_type": "execute_result",
          "data": {
            "text/plain": [
              "[<matplotlib.lines.Line2D at 0x7f4e97534208>]"
            ]
          },
          "metadata": {
            "tags": []
          },
          "execution_count": 77
        },
        {
          "output_type": "display_data",
          "data": {
            "image/png": "[encoded data removed]",
            "text/plain": [
              "<Figure size 432x288 with 1 Axes>"
            ]
          },
          "metadata": {
            "tags": [],
            "needs_background": "light"
          }
        }
      ]
    },
    {
      "cell_type": "code",
      "metadata": {
        "id": "7-DMEyXj5dMx",
        "colab_type": "code",
        "outputId": "cc10e1b0-3bd3-448e-a405-a40bf5cd8fab",
        "colab": {
          "base_uri": "https://localhost:8080/",
          "height": 34
        }
      },
      "source": [
        "times[-1]"
      ],
      "execution_count": 0,
      "outputs": [
        {
          "output_type": "execute_result",
          "data": {
            "text/plain": [
              "296.24458169937134"
            ]
          },
          "metadata": {
            "tags": []
          },
          "execution_count": 68
        }
      ]
    },
    {
      "cell_type": "code",
      "metadata": {
        "id": "3Oe5MheEKt4n",
        "colab_type": "code",
        "colab": {}
      },
      "source": [
        "def sae(s1, s2):\n",
        "    return np.arccos((s1 @ s2) / (np.linalg.norm(s1) * np.linalg.norm(s2))) ** 2"
      ],
      "execution_count": 0,
      "outputs": []
    },
    {
      "cell_type": "code",
      "metadata": {
        "id": "CgcIBsD6K40-",
        "colab_type": "code",
        "outputId": "3104f05e-0989-4529-f191-b3116a8e8ed1",
        "colab": {
          "base_uri": "https://localhost:8080/",
          "height": 34
        }
      },
      "source": [
        "sae(v[0,:],m1)"
      ],
      "execution_count": 0,
      "outputs": [
        {
          "output_type": "execute_result",
          "data": {
            "text/plain": [
              "array([0.01041559])"
            ]
          },
          "metadata": {
            "tags": []
          },
          "execution_count": 70
        }
      ]
    },
    {
      "cell_type": "code",
      "metadata": {
        "id": "Uml46nnebbjA",
        "colab_type": "code",
        "outputId": "cd6da6b0-d1bc-4f30-9e92-9de179a182ef",
        "colab": {
          "base_uri": "https://localhost:8080/",
          "height": 34
        }
      },
      "source": [
        "sae(u[:,0],np.vstack((h1,h2)))"
      ],
      "execution_count": 0,
      "outputs": [
        {
          "output_type": "execute_result",
          "data": {
            "text/plain": [
              "array([0.00050323])"
            ]
          },
          "metadata": {
            "tags": []
          },
          "execution_count": 78
        }
      ]
    },
    {
      "cell_type": "code",
      "metadata": {
        "id": "Ge21IG7-LFAt",
        "colab_type": "code",
        "colab": {}
      },
      "source": [
        "\n",
        "np.savetxt(\"imadmm1.csv\", v[0,:], delimiter=\",\")"
      ],
      "execution_count": 0,
      "outputs": []
    },
    {
      "cell_type": "code",
      "metadata": {
        "id": "FaZg0QO_N3Zf",
        "colab_type": "code",
        "colab": {}
      },
      "source": [
        "w1 = B @ h1"
      ],
      "execution_count": 0,
      "outputs": []
    },
    {
      "cell_type": "code",
      "metadata": {
        "id": "eyzd04pnLYcV",
        "colab_type": "code",
        "colab": {}
      },
      "source": [
        "g = np.convolve(m1.reshape(N,),w1.reshape(L,),'same')"
      ],
      "execution_count": 0,
      "outputs": []
    },
    {
      "cell_type": "code",
      "metadata": {
        "id": "6Bit_yndOVxe",
        "colab_type": "code",
        "outputId": "eb766ac7-5d18-4b14-e01c-ce23ec23f199",
        "colab": {
          "base_uri": "https://localhost:8080/",
          "height": 233
        }
      },
      "source": [
        "plt.imshow(g.reshape(28,56),'gray')"
      ],
      "execution_count": 0,
      "outputs": [
        {
          "output_type": "execute_result",
          "data": {
            "text/plain": [
              "<matplotlib.image.AxesImage at 0x7f4eafb20f98>"
            ]
          },
          "metadata": {
            "tags": []
          },
          "execution_count": 50
        },
        {
          "output_type": "display_data",
          "data": {
            "image/png": "[encoded data removed]",
            "text/plain": [
              "<Figure size 432x288 with 1 Axes>"
            ]
          },
          "metadata": {
            "tags": [],
            "needs_background": "light"
          }
        }
      ]
    },
    {
      "cell_type": "code",
      "metadata": {
        "id": "ZLwggq_iOiU6",
        "colab_type": "code",
        "colab": {}
      },
      "source": [
        "y =  A @ cvx.vec(X)"
      ],
      "execution_count": 0,
      "outputs": []
    },
    {
      "cell_type": "code",
      "metadata": {
        "id": "YQWJEh-DOyS0",
        "colab_type": "code",
        "outputId": "fca1f034-472a-464b-da8a-846d37905033",
        "colab": {
          "base_uri": "https://localhost:8080/",
          "height": 34
        }
      },
      "source": [
        "start = time.time()\n",
        "W1 = cvx.Variable((2*K,2*K), symmetric=True)\n",
        "W2 = cvx.Variable((N,N),  symmetric=True)\n",
        "Z = cvx.Variable((2*K,N))\n",
        "\n",
        "constraints = [cvx.bmat([[W1,Z],[Z.T,W2]]) >> 0,\n",
        "               y == A @ cvx.vec(Z)]\n",
        "obj = cvx.Minimize(1/2 * (cvx.trace(W1) + cvx.trace(W2)))\n",
        "problem = cvx.Problem(obj, constraints)\n",
        "problem.solve()\n",
        "print(start - time.time())"
      ],
      "execution_count": 0,
      "outputs": [
        {
          "output_type": "stream",
          "text": [
            "-1580.6863689422607\n"
          ],
          "name": "stdout"
        }
      ]
    },
    {
      "cell_type": "code",
      "metadata": {
        "id": "EotacuvOO5mo",
        "colab_type": "code",
        "colab": {}
      },
      "source": [
        "Xk = Z.value"
      ],
      "execution_count": 0,
      "outputs": []
    },
    {
      "cell_type": "code",
      "metadata": {
        "id": "ETSPJFljbrO7",
        "colab_type": "code",
        "colab": {}
      },
      "source": [
        "u, s, v = np.linalg.svd(Xk)"
      ],
      "execution_count": 0,
      "outputs": []
    },
    {
      "cell_type": "code",
      "metadata": {
        "id": "VQRh-E97bvao",
        "colab_type": "code",
        "outputId": "8247ace8-26e8-4c12-ca79-1df2681c5964",
        "colab": {
          "base_uri": "https://localhost:8080/",
          "height": 233
        }
      },
      "source": [
        "\n",
        "im1 = (v[0,:784]).reshape((28,28))\n",
        "im2 = (v[0,784:]).reshape((28,28))\n",
        "im = np.hstack((im1,im2))\n",
        "plt.imshow(im,'gray')"
      ],
      "execution_count": 0,
      "outputs": [
        {
          "output_type": "execute_result",
          "data": {
            "text/plain": [
              "<matplotlib.image.AxesImage at 0x7f4e9751b710>"
            ]
          },
          "metadata": {
            "tags": []
          },
          "execution_count": 81
        },
        {
          "output_type": "display_data",
          "data": {
            "image/png": "[encoded data removed]",
            "text/plain": [
              "<Figure size 432x288 with 1 Axes>"
            ]
          },
          "metadata": {
            "tags": [],
            "needs_background": "light"
          }
        }
      ]
    },
    {
      "cell_type": "code",
      "metadata": {
        "id": "-RF9V7Ktb_U9",
        "colab_type": "code",
        "outputId": "4691d598-2d66-4b6c-863c-3274ec57946a",
        "colab": {
          "base_uri": "https://localhost:8080/",
          "height": 34
        }
      },
      "source": [
        "sae(v[0,:],m1)"
      ],
      "execution_count": 0,
      "outputs": [
        {
          "output_type": "execute_result",
          "data": {
            "text/plain": [
              "array([0.02020709])"
            ]
          },
          "metadata": {
            "tags": []
          },
          "execution_count": 82
        }
      ]
    },
    {
      "cell_type": "code",
      "metadata": {
        "id": "7nmjJL-IcDAI",
        "colab_type": "code",
        "outputId": "273b29ec-6ae3-4710-a2ff-db71d7e0ef61",
        "colab": {
          "base_uri": "https://localhost:8080/",
          "height": 34
        }
      },
      "source": [
        "sae(u[:,0],np.vstack((h1,h2)))"
      ],
      "execution_count": 0,
      "outputs": [
        {
          "output_type": "execute_result",
          "data": {
            "text/plain": [
              "array([0.00042187])"
            ]
          },
          "metadata": {
            "tags": []
          },
          "execution_count": 83
        }
      ]
    },
    {
      "cell_type": "code",
      "metadata": {
        "id": "hadq-10OcGKG",
        "colab_type": "code",
        "colab": {}
      },
      "source": [
        "np.savetxt(\"imtrace.csv\", v[0,:], delimiter=\",\")"
      ],
      "execution_count": 0,
      "outputs": []
    },
    {
      "cell_type": "code",
      "metadata": {
        "id": "fMTNJzLTcMoK",
        "colab_type": "code",
        "colab": {}
      },
      "source": [
        ""
      ],
      "execution_count": 0,
      "outputs": []
    }
  ]
}