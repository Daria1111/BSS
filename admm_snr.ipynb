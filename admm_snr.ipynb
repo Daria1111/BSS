{
  "nbformat": 4,
  "nbformat_minor": 0,
  "metadata": {
    "colab": {
      "name": "admm_snr.ipynb",
      "provenance": [],
      "collapsed_sections": []
    },
    "kernelspec": {
      "name": "python3",
      "display_name": "Python 3"
    }
  },
  "cells": [
    {
      "cell_type": "code",
      "metadata": {
        "id": "Btz-xHfcSFte",
        "colab_type": "code",
        "colab": {}
      },
      "source": [
        "from google.colab import drive\n",
        "import numpy as np\n",
        "from scipy.linalg import circulant\n",
        "import matplotlib.pyplot as plt\n",
        "import time"
      ],
      "execution_count": 233,
      "outputs": []
    },
    {
      "cell_type": "code",
      "metadata": {
        "id": "fsJjS-QkSO5l",
        "colab_type": "code",
        "colab": {
          "base_uri": "https://localhost:8080/",
          "height": 34
        },
        "outputId": "790c1745-4eff-49cf-d2bc-26a86e8f1811"
      },
      "source": [
        "drive.mount('/content/drive')"
      ],
      "execution_count": 33,
      "outputs": [
        {
          "output_type": "stream",
          "text": [
            "Drive already mounted at /content/drive; to attempt to forcibly remount, call drive.mount(\"/content/drive\", force_remount=True).\n"
          ],
          "name": "stdout"
        }
      ]
    },
    {
      "cell_type": "code",
      "metadata": {
        "id": "nQdFCYIKSTUv",
        "colab_type": "code",
        "colab": {}
      },
      "source": [
        "f = open('/content/drive/My Drive/pim.txt')\n",
        "pim = f.readline()\n",
        "pim = pim.split('\\t')\n",
        "pim = np.array(list(map(lambda x: float(x), pim)))\n",
        "f.close()\n",
        "f = open('/content/drive/My Drive/nf.txt')\n",
        "nf = f.readline()\n",
        "nf = nf.split('\\t')\n",
        "nf = np.array(list(map(lambda x: float(x), nf)))\n",
        "f.close()\n",
        "f = open('/content/drive/My Drive/u1.txt')\n",
        "u1 = f.readline()\n",
        "u1 = u1.split('\\t')\n",
        "u1 = np.array(list(map(lambda x: float(x), u1)))\n",
        "f.close()"
      ],
      "execution_count": 34,
      "outputs": []
    },
    {
      "cell_type": "code",
      "metadata": {
        "id": "dO4Q9evjSdLb",
        "colab_type": "code",
        "colab": {}
      },
      "source": [
        "K = 10\n",
        "L = 900\n",
        "N = 900"
      ],
      "execution_count": 183,
      "outputs": []
    },
    {
      "cell_type": "code",
      "metadata": {
        "id": "epwU2PO_SlYs",
        "colab_type": "code",
        "colab": {}
      },
      "source": [
        "m1 = pim[:N].reshape((N,1))\n",
        "m2 = u1[:N].reshape((N,1))"
      ],
      "execution_count": 184,
      "outputs": []
    },
    {
      "cell_type": "code",
      "metadata": {
        "id": "Wp6aQUdziiG3",
        "colab_type": "code",
        "colab": {}
      },
      "source": [
        "def snr(sig, noise,dt=1e-4):\n",
        "    Signal = np.sum(np.abs(np.fft.fft(sig)*dt)**2)/len(np.fft.fft(sig))\n",
        "    Noise = np.sum(np.abs(np.fft.fft(noise)*dt)**2)/len(np.fft.fft(noise))\n",
        "    return (10 * np.log10(Signal/Noise))\n"
      ],
      "execution_count": 185,
      "outputs": []
    },
    {
      "cell_type": "code",
      "metadata": {
        "id": "92cj_PfrZMj4",
        "colab_type": "code",
        "colab": {}
      },
      "source": [
        "\n",
        "C = np.random.randn(L,N)\n",
        "\n",
        "\n",
        "\n",
        "\n",
        "B = np.random.randn(L,K) "
      ],
      "execution_count": 186,
      "outputs": []
    },
    {
      "cell_type": "code",
      "metadata": {
        "id": "9mZkPItCBWaL",
        "colab_type": "code",
        "colab": {}
      },
      "source": [
        "h1 = np.random.randn(K,1) \n",
        "h2 = np.random.randn(K,1) \n",
        "h3 = np.random.randn(K,1)\n",
        "h4 = np.random.randn(K,1)"
      ],
      "execution_count": 241,
      "outputs": []
    },
    {
      "cell_type": "code",
      "metadata": {
        "id": "_NW1U8xYnoVv",
        "colab_type": "code",
        "colab": {}
      },
      "source": [
        "A = circulant(C[:,0]) @ B\n",
        "for iter in range(1,N):\n",
        "    elem = circulant(C[:,iter]) @ B\n",
        "    A = np.hstack((A,elem))"
      ],
      "execution_count": 242,
      "outputs": []
    },
    {
      "cell_type": "code",
      "metadata": {
        "id": "Q6wl7YvYnqnQ",
        "colab_type": "code",
        "colab": {}
      },
      "source": [
        "\n",
        "X11 = h1 @ m1.reshape((1,N))\n",
        "X12 = h2 @ m1.reshape((1,N))\n",
        "\n",
        "X1 = np.vstack((X11,X12))\n",
        "\n",
        "X21 = h3 @ m2.reshape((1,N))\n",
        "X22 = h4 @ m2.reshape((1,N))\n",
        "\n",
        "X2 = np.vstack((X21,X22))"
      ],
      "execution_count": 243,
      "outputs": []
    },
    {
      "cell_type": "code",
      "metadata": {
        "id": "7F7tgp9Pn9vL",
        "colab_type": "code",
        "colab": {}
      },
      "source": [
        "a, b = A.shape\n",
        "A0 = np.zeros((a,b))\n",
        "A1 = np.hstack((A,A0))\n",
        "A2 = np.hstack((A0,A))\n",
        "A = np.vstack((A1,A2))"
      ],
      "execution_count": 244,
      "outputs": []
    },
    {
      "cell_type": "code",
      "metadata": {
        "id": "KEVbnG3J7_R-",
        "colab_type": "code",
        "colab": {}
      },
      "source": [
        "y1 = A @ X1.reshape((2*N*K,1))"
      ],
      "execution_count": 245,
      "outputs": []
    },
    {
      "cell_type": "code",
      "metadata": {
        "id": "1igjPOy888hb",
        "colab_type": "code",
        "colab": {}
      },
      "source": [
        "y2 = A @ X2.reshape((2*N*K,1))"
      ],
      "execution_count": 246,
      "outputs": []
    },
    {
      "cell_type": "code",
      "metadata": {
        "id": "LvkctEml9DIF",
        "colab_type": "code",
        "colab": {
          "base_uri": "https://localhost:8080/",
          "height": 34
        },
        "outputId": "c1f7049d-6d3a-45b0-f9be-3c0681b95804"
      },
      "source": [
        "snr(y1[:L],1000*nf[:L].reshape((L,1)))"
      ],
      "execution_count": 249,
      "outputs": [
        {
          "output_type": "execute_result",
          "data": {
            "text/plain": [
              "26.33749587721349"
            ]
          },
          "metadata": {
            "tags": []
          },
          "execution_count": 249
        }
      ]
    },
    {
      "cell_type": "code",
      "metadata": {
        "id": "xDBFo2T49cM_",
        "colab_type": "code",
        "colab": {
          "base_uri": "https://localhost:8080/",
          "height": 34
        },
        "outputId": "2c689fa1-1a0a-41a8-a8b6-63551273998d"
      },
      "source": [
        "snr(y1[L:],1000*nf[L:2*L].reshape((L,1)))"
      ],
      "execution_count": 250,
      "outputs": [
        {
          "output_type": "execute_result",
          "data": {
            "text/plain": [
              "28.340802142407604"
            ]
          },
          "metadata": {
            "tags": []
          },
          "execution_count": 250
        }
      ]
    },
    {
      "cell_type": "code",
      "metadata": {
        "id": "q03jAlN-9nmF",
        "colab_type": "code",
        "colab": {
          "base_uri": "https://localhost:8080/",
          "height": 34
        },
        "outputId": "f96a6c94-0a10-4e46-c883-117e2dbc6bd7"
      },
      "source": [
        "snr(y2[:L],1000*nf[:L].reshape((L,1)))"
      ],
      "execution_count": 251,
      "outputs": [
        {
          "output_type": "execute_result",
          "data": {
            "text/plain": [
              "12.105506743230237"
            ]
          },
          "metadata": {
            "tags": []
          },
          "execution_count": 251
        }
      ]
    },
    {
      "cell_type": "code",
      "metadata": {
        "id": "zuCSzB_j93D0",
        "colab_type": "code",
        "colab": {
          "base_uri": "https://localhost:8080/",
          "height": 34
        },
        "outputId": "e432d675-25cb-42bf-e427-da059cfd631c"
      },
      "source": [
        "snr(y2[L:],1000*nf[L:2*L].reshape((L,1)))"
      ],
      "execution_count": 252,
      "outputs": [
        {
          "output_type": "execute_result",
          "data": {
            "text/plain": [
              "11.343564670846211"
            ]
          },
          "metadata": {
            "tags": []
          },
          "execution_count": 252
        }
      ]
    },
    {
      "cell_type": "code",
      "metadata": {
        "id": "1BQpLeoNCnQ8",
        "colab_type": "code",
        "colab": {}
      },
      "source": [
        "y = y1 + y2 + 1000*nf[:2*L].reshape((2*L,1))"
      ],
      "execution_count": 253,
      "outputs": []
    },
    {
      "cell_type": "code",
      "metadata": {
        "id": "Bc4yimF2DM6n",
        "colab_type": "code",
        "colab": {
          "base_uri": "https://localhost:8080/",
          "height": 284
        },
        "outputId": "5f88826b-d809-43ba-d457-de01f61ae950"
      },
      "source": [
        "plt.plot(y[:N])"
      ],
      "execution_count": 254,
      "outputs": [
        {
          "output_type": "execute_result",
          "data": {
            "text/plain": [
              "[<matplotlib.lines.Line2D at 0x7feb9ab7d908>]"
            ]
          },
          "metadata": {
            "tags": []
          },
          "execution_count": 254
        },
        {
          "output_type": "display_data",
          "data": {
            "image/png": "[encoded data removed]",
            "text/plain": [
              "<Figure size 432x288 with 1 Axes>"
            ]
          },
          "metadata": {
            "tags": [],
            "needs_background": "light"
          }
        }
      ]
    },
    {
      "cell_type": "code",
      "metadata": {
        "id": "lbFjuQ3iDagQ",
        "colab_type": "code",
        "colab": {}
      },
      "source": [
        "\n",
        "def prox_nuclear(A, lambd):\n",
        "    U, S, Vh = np.linalg.svd(A)\n",
        "    svp = np.sum(S > lambd)\n",
        "    if svp >= 1:\n",
        "        S = S[:svp] - lambd\n",
        "        X = U[:,:svp] @ np.diag(S) @ Vh[:svp]\n",
        "        nucnorm = np.sum(S)\n",
        "    else:\n",
        "        X = np.zeros(A.shape)\n",
        "        nucnorm = 0\n",
        "    return X, nucnorm"
      ],
      "execution_count": 231,
      "outputs": []
    },
    {
      "cell_type": "code",
      "metadata": {
        "id": "f2J-eCb0Di8u",
        "colab_type": "code",
        "colab": {}
      },
      "source": [
        "def prox_l21(A,lambd):\n",
        "    X = np.zeros(A.shape)\n",
        "    for i in range(X.shape[1]):\n",
        "        nxi = np.linalg.norm(A[:,i])\n",
        "        if nxi > lambd:\n",
        "            X[:,i] = (1 - lambd/nxi) * A[:,i]\n",
        "    return X\n",
        "    "
      ],
      "execution_count": 232,
      "outputs": []
    },
    {
      "cell_type": "code",
      "metadata": {
        "id": "B8EtEX2_DlSx",
        "colab_type": "code",
        "colab": {}
      },
      "source": [
        "def lrr(y, A, lambd):\n",
        "    tol = 6e-4\n",
        "    max_iter = 500\n",
        "    ro = 1.1\n",
        "    mu = 1e-4\n",
        "    max_mu = 1e10\n",
        "\n",
        "    d, na = y.shape\n",
        "    a, nb = A.shape\n",
        "    #X = np.zeros((nb, na))\n",
        "    X = np.zeros((2*K,N))\n",
        "    E = np.zeros((d, na))\n",
        "    J = X\n",
        "\n",
        "    Y1 = E\n",
        "    Y2 = X\n",
        "   \n",
        "    Ablock = A[:int(a/2),:int(nb/2)]\n",
        "\n",
        "    AtA = Ablock.T @ Ablock\n",
        "    Aty = A.T @ y\n",
        "    I = np.eye(int(nb/2))\n",
        "    invAtAIblock = np.linalg.inv(AtA + I)\n",
        "    zeros = np.zeros((int(nb/2),int(nb/2)))\n",
        "   # print(invAtAIblock.shape, zeros.shape)\n",
        "    invAtAI = np.vstack((np.hstack((invAtAIblock,zeros)), np.hstack((zeros,invAtAIblock))))\n",
        "  \n",
        "    errs = []\n",
        "    times = []\n",
        "    start = time.time()\n",
        "\n",
        "    for iter in range(max_iter):\n",
        "      \n",
        "\n",
        "        J, nuclearnormJ = prox_nuclear(X+Y2/mu, 1/mu)\n",
        "        E = prox_l21(y - A @ X.reshape((2*K*N,1)) + Y1/mu, lambd/mu)\n",
        "\n",
        "        X = (invAtAI @ ((A.T @ (Y1/mu -E) + Aty).reshape((2*K,N)) - Y2/mu + J).reshape((2*K*N,1))).reshape((2*K,N))\n",
        "        dY1 = y - A @ X.reshape((2*K*N,1)) - E\n",
        "        dY2 = X - J\n",
        "\n",
        "        Y1 += mu * dY1\n",
        "        Y2 += mu * dY2\n",
        "        mu = min(ro*mu, max_mu)\n",
        "        times.append(time.time() - start)\n",
        "       \n",
        "        metric = np.linalg.norm(y - A @ X.reshape((2*K*N,1)))\n",
        "        #print(metric)\n",
        "        errs.append(metric)\n",
        "        if metric < tol:\n",
        "            break\n",
        "    return J, E, errs, iter, times"
      ],
      "execution_count": 234,
      "outputs": []
    },
    {
      "cell_type": "code",
      "metadata": {
        "id": "Ys4megznDs13",
        "colab_type": "code",
        "colab": {}
      },
      "source": [
        "Xk, E, errs, iters, times = lrr(y, A, 0.01)"
      ],
      "execution_count": 255,
      "outputs": []
    },
    {
      "cell_type": "code",
      "metadata": {
        "id": "pRMMJnAWDv31",
        "colab_type": "code",
        "colab": {}
      },
      "source": [
        "u, s, v = np.linalg.svd(Xk)"
      ],
      "execution_count": 256,
      "outputs": []
    },
    {
      "cell_type": "code",
      "metadata": {
        "id": "f2Aie8PVD0UH",
        "colab_type": "code",
        "colab": {
          "base_uri": "https://localhost:8080/",
          "height": 101
        },
        "outputId": "1f27ecfb-b339-4fd2-97a9-dbbf7bdcc565"
      },
      "source": [
        "s"
      ],
      "execution_count": 257,
      "outputs": [
        {
          "output_type": "execute_result",
          "data": {
            "text/plain": [
              "array([9.58934895e-01, 7.62354384e-02, 4.99590323e-02, 4.22411780e-02,\n",
              "       3.88038390e-02, 2.93289932e-02, 2.48653630e-02, 2.30437078e-02,\n",
              "       1.74447075e-02, 1.20193511e-02, 1.13871040e-02, 8.53508856e-03,\n",
              "       3.06949606e-03, 2.95594818e-04, 1.90440285e-05, 1.27114333e-05,\n",
              "       6.40939512e-06, 4.15479961e-06, 2.95448536e-06, 2.52655524e-06])"
            ]
          },
          "metadata": {
            "tags": []
          },
          "execution_count": 257
        }
      ]
    },
    {
      "cell_type": "code",
      "metadata": {
        "id": "YH9uxt6pD0tU",
        "colab_type": "code",
        "colab": {}
      },
      "source": [
        "signal1 = v[0,:]"
      ],
      "execution_count": 258,
      "outputs": []
    },
    {
      "cell_type": "code",
      "metadata": {
        "id": "3I5Q5ny8D3jE",
        "colab_type": "code",
        "colab": {
          "base_uri": "https://localhost:8080/",
          "height": 282
        },
        "outputId": "9a75273e-30a0-4be9-b419-eb263c913599"
      },
      "source": [
        "plt.plot(signal1)"
      ],
      "execution_count": 259,
      "outputs": [
        {
          "output_type": "execute_result",
          "data": {
            "text/plain": [
              "[<matplotlib.lines.Line2D at 0x7feb9ab66780>]"
            ]
          },
          "metadata": {
            "tags": []
          },
          "execution_count": 259
        },
        {
          "output_type": "display_data",
          "data": {
            "image/png": "[encoded data removed]",
            "text/plain": [
              "<Figure size 432x288 with 1 Axes>"
            ]
          },
          "metadata": {
            "tags": [],
            "needs_background": "light"
          }
        }
      ]
    },
    {
      "cell_type": "code",
      "metadata": {
        "id": "WLpcRhu0D5YZ",
        "colab_type": "code",
        "colab": {
          "base_uri": "https://localhost:8080/",
          "height": 284
        },
        "outputId": "6a5968ea-97cf-4922-e7ed-ed2f446f2451"
      },
      "source": [
        "plt.plot(pim[:N])"
      ],
      "execution_count": 261,
      "outputs": [
        {
          "output_type": "execute_result",
          "data": {
            "text/plain": [
              "[<matplotlib.lines.Line2D at 0x7feb9aaa76d8>]"
            ]
          },
          "metadata": {
            "tags": []
          },
          "execution_count": 261
        },
        {
          "output_type": "display_data",
          "data": {
            "image/png": "[encoded data removed]",
            "text/plain": [
              "<Figure size 432x288 with 1 Axes>"
            ]
          },
          "metadata": {
            "tags": [],
            "needs_background": "light"
          }
        }
      ]
    },
    {
      "cell_type": "code",
      "metadata": {
        "id": "U-lKQ--1D9Bc",
        "colab_type": "code",
        "colab": {}
      },
      "source": [
        "signal2 = v[1,:]"
      ],
      "execution_count": 262,
      "outputs": []
    },
    {
      "cell_type": "code",
      "metadata": {
        "id": "NUgx1YZfGZu3",
        "colab_type": "code",
        "colab": {
          "base_uri": "https://localhost:8080/",
          "height": 282
        },
        "outputId": "5b20fa9d-b26a-4aa7-e5fc-a1936860c5a2"
      },
      "source": [
        "plt.plot(signal2)"
      ],
      "execution_count": 263,
      "outputs": [
        {
          "output_type": "execute_result",
          "data": {
            "text/plain": [
              "[<matplotlib.lines.Line2D at 0x7feb9aa067f0>]"
            ]
          },
          "metadata": {
            "tags": []
          },
          "execution_count": 263
        },
        {
          "output_type": "display_data",
          "data": {
            "image/png": "[encoded data removed]",
            "text/plain": [
              "<Figure size 432x288 with 1 Axes>"
            ]
          },
          "metadata": {
            "tags": [],
            "needs_background": "light"
          }
        }
      ]
    },
    {
      "cell_type": "code",
      "metadata": {
        "id": "IiMP-JJpGb7A",
        "colab_type": "code",
        "colab": {
          "base_uri": "https://localhost:8080/",
          "height": 282
        },
        "outputId": "e61154aa-364d-43b5-a5f3-9cef06965c27"
      },
      "source": [
        "plt.plot(u1[:900])"
      ],
      "execution_count": 264,
      "outputs": [
        {
          "output_type": "execute_result",
          "data": {
            "text/plain": [
              "[<matplotlib.lines.Line2D at 0x7feb9a9f1710>]"
            ]
          },
          "metadata": {
            "tags": []
          },
          "execution_count": 264
        },
        {
          "output_type": "display_data",
          "data": {
            "image/png": "[encoded data removed]",
            "text/plain": [
              "<Figure size 432x288 with 1 Axes>"
            ]
          },
          "metadata": {
            "tags": [],
            "needs_background": "light"
          }
        }
      ]
    },
    {
      "cell_type": "code",
      "metadata": {
        "id": "CYx81TY8Ge61",
        "colab_type": "code",
        "colab": {
          "base_uri": "https://localhost:8080/",
          "height": 34
        },
        "outputId": "9af0f6ea-d8c1-41d6-b72c-83a094561515"
      },
      "source": [
        "times[-1]"
      ],
      "execution_count": 265,
      "outputs": [
        {
          "output_type": "execute_result",
          "data": {
            "text/plain": [
              "200.50316381454468"
            ]
          },
          "metadata": {
            "tags": []
          },
          "execution_count": 265
        }
      ]
    },
    {
      "cell_type": "code",
      "metadata": {
        "id": "lHJQuDxjGhOk",
        "colab_type": "code",
        "colab": {}
      },
      "source": [
        "def sae(s1, s2):\n",
        "    return np.arccos((s1 @ s2) / (np.linalg.norm(s1) * np.linalg.norm(s2))) ** 2"
      ],
      "execution_count": 266,
      "outputs": []
    },
    {
      "cell_type": "code",
      "metadata": {
        "id": "Jm8--5oWGlMs",
        "colab_type": "code",
        "colab": {
          "base_uri": "https://localhost:8080/",
          "height": 34
        },
        "outputId": "2b2edf99-8f4b-4a56-886e-da774b96173f"
      },
      "source": [
        "sae(u1[:900], v[1,:])"
      ],
      "execution_count": 269,
      "outputs": [
        {
          "output_type": "execute_result",
          "data": {
            "text/plain": [
              "1.1100431469618675"
            ]
          },
          "metadata": {
            "tags": []
          },
          "execution_count": 269
        }
      ]
    },
    {
      "cell_type": "code",
      "metadata": {
        "id": "hKA1bRymGpUb",
        "colab_type": "code",
        "colab": {
          "base_uri": "https://localhost:8080/",
          "height": 34
        },
        "outputId": "e7c663ea-61b9-4f8c-a9c8-82100e26d471"
      },
      "source": [
        "sae(pim[:900], -v[0,:])"
      ],
      "execution_count": 271,
      "outputs": [
        {
          "output_type": "execute_result",
          "data": {
            "text/plain": [
              "0.05374343655880168"
            ]
          },
          "metadata": {
            "tags": []
          },
          "execution_count": 271
        }
      ]
    },
    {
      "cell_type": "code",
      "metadata": {
        "id": "5fKKjdw3HpAJ",
        "colab_type": "code",
        "colab": {}
      },
      "source": [
        ""
      ],
      "execution_count": null,
      "outputs": []
    }
  ]
}