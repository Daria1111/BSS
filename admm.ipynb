{
  "nbformat": 4,
  "nbformat_minor": 0,
  "metadata": {
    "colab": {
      "name": "admmMultiMulti.ipynb",
      "provenance": [],
      "collapsed_sections": [],
      "machine_shape": "hm"
    },
    "kernelspec": {
      "name": "python3",
      "display_name": "Python 3"
    },
    "accelerator": "GPU"
  },
  "cells": [
    {
      "cell_type": "code",
      "metadata": {
        "id": "8FNmZKhUA9-5",
        "colab_type": "code",
        "colab": {}
      },
      "source": [
        "from google.colab import files\n",
        "import matplotlib.pyplot as plt\n",
        "from scipy.linalg import circulant\n",
        "import numpy as np\n",
        "import time\n",
        "from sklearn.decomposition import FastICA, PCA\n",
        "from google.colab import drive\n",
        "import imageio"
      ],
      "execution_count": null,
      "outputs": []
    },
    {
      "cell_type": "code",
      "metadata": {
        "id": "Xk_sFCNpBDym",
        "colab_type": "code",
        "colab": {
          "base_uri": "https://localhost:8080/",
          "height": 282
        },
        "outputId": "b4ca0271-6049-41b7-d591-8a3defc2ff7e"
      },
      "source": [
        "pic1 = np.zeros((10,10))\n",
        "pic1[2:7,3:9] = 1\n",
        "\n",
        "pic1[5:7, 3:9] = 0.5\n",
        "plt.imshow(pic1,'gray')"
      ],
      "execution_count": null,
      "outputs": [
        {
          "output_type": "execute_result",
          "data": {
            "text/plain": [
              "<matplotlib.image.AxesImage at 0x7f90e3a15ef0>"
            ]
          },
          "metadata": {
            "tags": []
          },
          "execution_count": 4
        },
        {
          "output_type": "display_data",
          "data": {
            "image/png": "[encoded data removed]",
            "text/plain": [
              "<Figure size 432x288 with 1 Axes>"
            ]
          },
          "metadata": {
            "tags": [],
            "needs_background": "light"
          }
        }
      ]
    },
    {
      "cell_type": "code",
      "metadata": {
        "id": "wf1KChrrBPAW",
        "colab_type": "code",
        "colab": {
          "base_uri": "https://localhost:8080/",
          "height": 282
        },
        "outputId": "44bf0244-77a4-40b0-e160-ffb3ccb305ed"
      },
      "source": [
        "\n",
        "pic2 = np.zeros((10,10))\n",
        "pic2[3:9,2:7] = 0.5\n",
        "\n",
        "pic2[3:9, 5:7] = 1\n",
        "plt.imshow(pic2,'gray')"
      ],
      "execution_count": null,
      "outputs": [
        {
          "output_type": "execute_result",
          "data": {
            "text/plain": [
              "<matplotlib.image.AxesImage at 0x7fd11014ee48>"
            ]
          },
          "metadata": {
            "tags": []
          },
          "execution_count": 3
        },
        {
          "output_type": "display_data",
          "data": {
            "image/png": "[encoded data removed]",
            "text/plain": [
              "<Figure size 432x288 with 1 Axes>"
            ]
          },
          "metadata": {
            "tags": [],
            "needs_background": "light"
          }
        }
      ]
    },
    {
      "cell_type": "code",
      "metadata": {
        "id": "ybSSFoPuGRdu",
        "colab_type": "code",
        "colab": {
          "base_uri": "https://localhost:8080/",
          "height": 202
        },
        "outputId": "386d9e85-459a-40de-e25e-86c3dbf40612"
      },
      "source": [
        "!wget https://raw.githubusercontent.com/yandexdataschool/Practical_DL/35c067adcc1ab364c8803830cdb34d0d50eea37e/week01_backprop/mnist.py -O mnist.py"
      ],
      "execution_count": null,
      "outputs": [
        {
          "output_type": "stream",
          "text": [
            "--2020-06-12 13:33:36--  https://raw.githubusercontent.com/yandexdataschool/Practical_DL/35c067adcc1ab364c8803830cdb34d0d50eea37e/week01_backprop/mnist.py\n",
            "Resolving raw.githubusercontent.com (raw.githubusercontent.com)... 151.101.0.133, 151.101.64.133, 151.101.128.133, ...\n",
            "Connecting to raw.githubusercontent.com (raw.githubusercontent.com)|151.101.0.133|:443... connected.\n",
            "HTTP request sent, awaiting response... 200 OK\n",
            "Length: 2697 (2.6K) [text/plain]\n",
            "Saving to: ‘mnist.py’\n",
            "\n",
            "\rmnist.py              0%[                    ]       0  --.-KB/s               \rmnist.py            100%[===================>]   2.63K  --.-KB/s    in 0s      \n",
            "\n",
            "2020-06-12 13:33:36 (35.3 MB/s) - ‘mnist.py’ saved [2697/2697]\n",
            "\n"
          ],
          "name": "stdout"
        }
      ]
    },
    {
      "cell_type": "code",
      "metadata": {
        "id": "BfCwp2FBGXPD",
        "colab_type": "code",
        "colab": {}
      },
      "source": [
        "import mnist"
      ],
      "execution_count": null,
      "outputs": []
    },
    {
      "cell_type": "code",
      "metadata": {
        "id": "qKQ2vtVVGapc",
        "colab_type": "code",
        "colab": {}
      },
      "source": [
        "X_train, y_train, X_val, y_val, X_test, y_test = mnist.load_dataset(flatten=True)"
      ],
      "execution_count": null,
      "outputs": []
    },
    {
      "cell_type": "code",
      "metadata": {
        "id": "8OSJqvT3Gex9",
        "colab_type": "code",
        "colab": {
          "base_uri": "https://localhost:8080/",
          "height": 265
        },
        "outputId": "68533df4-1825-40a3-8cab-cc23b043002a"
      },
      "source": [
        "plt.imshow(X_train[1][400:500].reshape([10,10]),cmap='gray');"
      ],
      "execution_count": null,
      "outputs": [
        {
          "output_type": "display_data",
          "data": {
            "image/png": "[encoded data removed]",
            "text/plain": [
              "<Figure size 432x288 with 1 Axes>"
            ]
          },
          "metadata": {
            "tags": [],
            "needs_background": "light"
          }
        }
      ]
    },
    {
      "cell_type": "code",
      "metadata": {
        "id": "RtBl-digGmPt",
        "colab_type": "code",
        "colab": {}
      },
      "source": [
        "pic1 = X_train[0].reshape([28,28])\n",
        "pic2 = X_train[1].reshape([28,28])"
      ],
      "execution_count": null,
      "outputs": []
    },
    {
      "cell_type": "code",
      "metadata": {
        "id": "Y0XBGBxgCSru",
        "colab_type": "code",
        "colab": {
          "base_uri": "https://localhost:8080/",
          "height": 121
        },
        "outputId": "023cf51a-52d0-4202-a7ab-844773503d93"
      },
      "source": [
        "drive.mount('/content/drive')"
      ],
      "execution_count": null,
      "outputs": [
        {
          "output_type": "stream",
          "text": [
            "Go to this URL in a browser: https://accounts.google.com/o/oauth2/auth?client_id=947318989803-6bn6qk8qdgf4n4g3pfee6491hc0brc4i.apps.googleusercontent.com&redirect_uri=urn%3aietf%3awg%3aoauth%3a2.0%3aoob&response_type=code&scope=email%20https%3a%2f%2fwww.googleapis.com%2fauth%2fdocs.test%20https%3a%2f%2fwww.googleapis.com%2fauth%2fdrive%20https%3a%2f%2fwww.googleapis.com%2fauth%2fdrive.photos.readonly%20https%3a%2f%2fwww.googleapis.com%2fauth%2fpeopleapi.readonly\n",
            "\n",
            "Enter your authorization code:\n",
            "··········\n",
            "Mounted at /content/drive\n"
          ],
          "name": "stdout"
        }
      ]
    },
    {
      "cell_type": "code",
      "metadata": {
        "id": "5HCEU7M4_YHT",
        "colab_type": "code",
        "colab": {
          "resources": {
            "http://localhost:8080/nbextensions/google.colab/files.js": {
              "data": "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",
              "ok": true,
              "headers": [
                [
                  "content-type",
                  "application/javascript"
                ]
              ],
              "status": 200,
              "status_text": ""
            }
          },
          "base_uri": "https://localhost:8080/",
          "height": 111
        },
        "outputId": "3b9e88cc-c13f-44aa-9e4d-156e55635e3c"
      },
      "source": [
        "files.upload()"
      ],
      "execution_count": null,
      "outputs": [
        {
          "output_type": "display_data",
          "data": {
            "text/html": [
              "\n",
              "     <input type=\"file\" id=\"files-4711be29-d19b-49ca-8eb7-50e42da4f0aa\" name=\"files[]\" multiple disabled />\n",
              "     <output id=\"result-4711be29-d19b-49ca-8eb7-50e42da4f0aa\">\n",
              "      Upload widget is only available when the cell has been executed in the\n",
              "      current browser session. Please rerun this cell to enable.\n",
              "      </output>\n",
              "      <script src=\"/nbextensions/google.colab/files.js\"></script> "
            ],
            "text/plain": [
              "<IPython.core.display.HTML object>"
            ]
          },
          "metadata": {
            "tags": []
          }
        },
        {
          "output_type": "stream",
          "text": [
            "Saving n01644900_0.JPEG to n01644900_0.JPEG\n"
          ],
          "name": "stdout"
        },
        {
          "output_type": "execute_result",
          "data": {
            "text/plain": [
              "{'n01644900_0.JPEG': b'\\xff\\xd8\\xff\\xe0\\x00\\x10JFIF\\x00\\x01\\x01\\x00\\x00\\x01\\x00\\x01\\x00\\x00\\xff\\xdb\\x00C\\x00\\x08\\x06\\x06\\x07\\x06\\x05\\x08\\x07\\x07\\x07\\t\\t\\x08\\n\\x0c\\x14\\r\\x0c\\x0b\\x0b\\x0c\\x19\\x12\\x13\\x0f\\x14\\x1d\\x1a\\x1f\\x1e\\x1d\\x1a\\x1c\\x1c $.\\' \",#\\x1c\\x1c(7),01444\\x1f\\'9=82<.342\\xff\\xdb\\x00C\\x01\\t\\t\\t\\x0c\\x0b\\x0c\\x18\\r\\r\\x182!\\x1c!22222222222222222222222222222222222222222222222222\\xff\\xc0\\x00\\x11\\x08\\x00@\\x00@\\x03\\x01\"\\x00\\x02\\x11\\x01\\x03\\x11\\x01\\xff\\xc4\\x00\\x1f\\x00\\x00\\x01\\x05\\x01\\x01\\x01\\x01\\x01\\x01\\x00\\x00\\x00\\x00\\x00\\x00\\x00\\x00\\x01\\x02\\x03\\x04\\x05\\x06\\x07\\x08\\t\\n\\x0b\\xff\\xc4\\x00\\xb5\\x10\\x00\\x02\\x01\\x03\\x03\\x02\\x04\\x03\\x05\\x05\\x04\\x04\\x00\\x00\\x01}\\x01\\x02\\x03\\x00\\x04\\x11\\x05\\x12!1A\\x06\\x13Qa\\x07\"q\\x142\\x81\\x91\\xa1\\x08#B\\xb1\\xc1\\x15R\\xd1\\xf0$3br\\x82\\t\\n\\x16\\x17\\x18\\x19\\x1a%&\\'()*456789:CDEFGHIJSTUVWXYZcdefghijstuvwxyz\\x83\\x84\\x85\\x86\\x87\\x88\\x89\\x8a\\x92\\x93\\x94\\x95\\x96\\x97\\x98\\x99\\x9a\\xa2\\xa3\\xa4\\xa5\\xa6\\xa7\\xa8\\xa9\\xaa\\xb2\\xb3\\xb4\\xb5\\xb6\\xb7\\xb8\\xb9\\xba\\xc2\\xc3\\xc4\\xc5\\xc6\\xc7\\xc8\\xc9\\xca\\xd2\\xd3\\xd4\\xd5\\xd6\\xd7\\xd8\\xd9\\xda\\xe1\\xe2\\xe3\\xe4\\xe5\\xe6\\xe7\\xe8\\xe9\\xea\\xf1\\xf2\\xf3\\xf4\\xf5\\xf6\\xf7\\xf8\\xf9\\xfa\\xff\\xc4\\x00\\x1f\\x01\\x00\\x03\\x01\\x01\\x01\\x01\\x01\\x01\\x01\\x01\\x01\\x00\\x00\\x00\\x00\\x00\\x00\\x01\\x02\\x03\\x04\\x05\\x06\\x07\\x08\\t\\n\\x0b\\xff\\xc4\\x00\\xb5\\x11\\x00\\x02\\x01\\x02\\x04\\x04\\x03\\x04\\x07\\x05\\x04\\x04\\x00\\x01\\x02w\\x00\\x01\\x02\\x03\\x11\\x04\\x05!1\\x06\\x12AQ\\x07aq\\x13\"2\\x81\\x08\\x14B\\x91\\xa1\\xb1\\xc1\\t#3R\\xf0\\x15br\\xd1\\n\\x16$4\\xe1%\\xf1\\x17\\x18\\x19\\x1a&\\'()*56789:CDEFGHIJSTUVWXYZcdefghijstuvwxyz\\x82\\x83\\x84\\x85\\x86\\x87\\x88\\x89\\x8a\\x92\\x93\\x94\\x95\\x96\\x97\\x98\\x99\\x9a\\xa2\\xa3\\xa4\\xa5\\xa6\\xa7\\xa8\\xa9\\xaa\\xb2\\xb3\\xb4\\xb5\\xb6\\xb7\\xb8\\xb9\\xba\\xc2\\xc3\\xc4\\xc5\\xc6\\xc7\\xc8\\xc9\\xca\\xd2\\xd3\\xd4\\xd5\\xd6\\xd7\\xd8\\xd9\\xda\\xe2\\xe3\\xe4\\xe5\\xe6\\xe7\\xe8\\xe9\\xea\\xf2\\xf3\\xf4\\xf5\\xf6\\xf7\\xf8\\xf9\\xfa\\xff\\xda\\x00\\x0c\\x03\\x01\\x00\\x02\\x11\\x03\\x11\\x00?\\x00\\xf2u\\xbb\\xb9\\xb5\\x9dv31,\\x067\\x1c\\x1a\\xbbr\\xb0\\xde\\x15\\x96\\xd1\\xa5\\x8e_\\xf9k\\x0b\\x13\\xf2\\x9fj\\xcb\\xb1\\xba\\x8d\\x81K\\xc7\\x03#(\\xe3\\x9a\\xf4\\x9d\\x1b\\xc3\\xf0\\xb6\\x99eqs\\x18-p\\x86M\\xc3\\xa0N6\\xf3\\xd3\\xd0\\x9c\\xe3\\xae=k\\xcc\\xab?g\\xba*\\x9577dp\\x81&\\x86\\xea\\xc24\\x91\\xb6\\x8d\\xc4\\xe4\\x9f\\xf3\\xde\\xa4\\xbf\\x92\\xea\\xd6\\xc9\\xe5*\\xe03\\x98\\xa2\\x19?trMuz\\xd7\\x87\\x12\\xde\\xe8\\\\@\\x83r.\\n\\xaf^{\\x85\\xc9\\xc7\\xaf\\xff\\x00\\xae\\xa8]I\\xa7O\\xa5@\\xf77Lo\\x14\\x84XLeUGRx\\x079\\xff\\x00\\x1a\\x98\\xcf\\x9b[\\\\*R\\x947(hZ&\\xa9\\xae4\\x16V\\x88\\xcc\\x10o\\xb8\\x91\\x98\\xaaF=Y\\xbbq\\xdb\\xadwWW\\x1a\\x1e\\x8a\\x96\\xfa}\\xa1\\xfbv\\xa4\\x83\\xcb3&B\\xc5\\x9e\\t\\x03\\xd7\\xdc\\xf3\\\\,\\xbe1\\xb8\\xb6\\xb3\\x92\\xda\\xdd\\xa2H\\x0f\\xca\\n\\x02\\x01\\xf5\\xe0\\x81\\xcfJ\\x93\\xc2:\\x94\\x11Ouy>\\x19A\\n\\x83\\x14\\xea\\xb9B\\x9b\\x95\\x85J\\x9f\\xb4\\x95\\x99\\xb5\\xa9\\x19\\xa1\\xb9\\x1eC\\xb0\\x81\\xe3\\xc1\\xf9\\xb3\\xcf|\\xd6\\x13j\\xa6\\xd8\\xdc\\xc0\\x18\\xf9\\x8e\\x0b\\xa9\\x07\\xd2\\xb7%\\x81\\xef\\x1a\\xe1\\xd0\\xe6)>h\\xc7\\xa1\\xaeCM\\xb9a\\xaa\\xdcZ\\xcf\\x08i\\xf0p\\xd8\\xe9\\x8e\\xd5\\x8ci)\\'+\\x16\\xaa8\\xfb\\xbd\\x8c\\x9b\\x9b\\x08\\x9dM\\xc4R\\xff\\x00\\xac?\"\\x95\\xef\\xdc{W\\xa2xz\\xd6\\xe6\\xdb\\xc3\\x96R\\xdc\\xddN\\x81<\\xd5\\x86\\x10rY\\xb7\\x10HQ\\xcbp\\x14\\x01\\xdb\\x93\\xd0\\xf1\\xcfivS-\\xd8\\x89W\\xf7\\xc5\\xff\\x00q\\x83\\x92\\xcex\\xdd\\x8fA\\x9ek\\xd1m4\\xfb\\xbd&\\xc9\\x85\\x840\\xad\\xc4\\x12\\xac3\\t\\x14r\\xa0rC\\x15\\xc0\\xc9\\xcf\\x1f\\xed\\x0eI\\x19=\\x15j\\xf3.S\\\\<l\\xb9\\x8c(\\xee\\xee\\xec$WK+\\x95\\xdc0\\xc4\\xaf\\xcay\\x1dA#\\x19=s\\xd7\\xebS\\xc9\\xa3\\xc3tXL\\xb1\\xda\\x9c\\x16\\x8e\\xde]\\xceCt\\xe3fv\\x8e\\xbf\\x97~\\xb5\\xd8\\\\Ci\\xab\\xd8\\xc1\\xe6\\x86\\x84\\xbeU\\x84d\\x06\\x8f\\xe6\\x00\\x85\\'=p\\xbe\\xb9\\xc9\\x1d+\\xcd\\xb5\\x8dbm?\\xc4Ri\\xb1\\xebK\\xa7y!Q\\xee<\\xb7`\\xdc\\x03\\xd9X\\x9221\\xdb\\x8e\\xc3\\x02\\xb3\\xa7\\x17Q\\xda:X\\xdar\\x8cc\\xa9\\x16\\xa3\\xe0\\xb8R)$\\x92x\\\\ \\xde\\xc8\\xbb\\x95\\x80?P9\\xf5\\x1d\\xba\\xd5=6\\xd6;%\\xdf\\x1cHQ\\xc8\\xe0\\xca\\t\\xe7\\x8e\\x98\\x1c\\xe7<pEi\\xe8\\x1e2\\xb9\\xfe\\xd7\\xb4\\xd3\\xae5!\\xa9\\xad\\xd4\\xab\\x017\\x10\\x7f\\xab$\\xe0`\\x928\\xc9\\x1c\\xf6\\x19\\xe2\\xb5|A\\xa6D-\\xec\\xee\\x83\\x06\\x96T>l\\x99\\x05\\xb8\\x03i rN\\x0e\\x0f\\xaf\\x1d\\xfa\\xeb5%\\xeeT\\xd9\\x99\\xc3\\x96Z\\xc3r\\xae\\x9fu\\n\\t\\xa3\\x13\\x98\\xc2\\xb0x\\xc4\\xe3\\xcb?\\xcc\\x8f\\xc8\\x9a\\xaf{\\xa3\\xa0\\xf1\\x1bjq\\xc4O\\x9a\\x9c\\xed\\xe88\\xe4\\xd5H\"\\xb8\\x8e\\xdeE\\xb8\\xb2\\xccN\\xad\\xe5K\\x0bc=\\x063\\xe9\\xd7\\xf2\\xedN\\x11=\\xd4\\xc95\\xa2\\x98^\\'\\xc0\\x89X\\xb3\\xa9=\\xd4\\x13\\x929\\xc7\\x1e\\x9f\\x8dC\\x86\\x8dE\\x98\\xca\\x8e\\xb7F^\\x8b\\xa9\\x9b=OO\\xd4\\xccS[\\xd8\\x87\\xdb\\xbd\\x8e\\xec\\xa2\\x95\\xce>\\xbc\\xfeg\\xf0\\xf7[\\x13\\x0byr\\xdaMo0\\x11y\\xa5\\xf7\\xed\\n\\xbf7$g=\\xc8=G\\xeb^\\x1c\\xd0\\xdf\\xbe\\xa2%\\xd4\\xb4\\xa9\\xbe\\xcf\\n\\xfc\\xf6\\xbe[yqF1\\xc7\\x18\\xea;\\x82:\\x8c\\x11\\xc5uZW\\xdat\\x1b\\x04\\xd5<;\\xa9Kw`\\x17/k:\\x12\\xb1\\xe7\\x1b\\xb2\\xf8\\xf9q\\xbb\\xa9\\xe3\\xe5<\\xf6\\xa5^\\n\\xa2\\xd3sl<\\xd2V:\\xe0/\\xecg\\x92F\\x8d\\xae\\xa2\\xde@Pr\\x11\\x0f-\\xc0<a\\xb1\\xf5\\xc7z\\xc2\\xf1\\xff\\x00\\x82\\xaf5\\x8dw\\xfbkA\\x89n\\x1a\\xe25k\\x88\\xc0V\\x05\\xb1\\xf7\\xb66r\\x08\\xc1\\xc6\\x0fCZ\\xdao\\x88\\xa1\\xd4nP]\\xdf.\\x97z\\xea\\x1d!\\xbb\\x18\\x8epI$\\xab\\x82Q\\x87\\x04\\x020x\\xeb\\x9a\\xe9\\x02][\\xec\\x8aEMET4\\x8c\\xe8\\xdbv\\xf6\\x00\\x02pG\\xa6\\x18p?<)\\xd5\\x9d\\x07\\xaa7\\x9d8\\xd4Z\\x1eM\\xa0x\"\\xfa\\x1dQ5\\x1dq\\x05\\xba!\\xdd\\x14\\x18Ti[\\xa8\\n\\xa0\\r\\xa0u\\xce\\x00\\x02\\xb7\\xbcQ\\x146\\xe5\\x15\\x9d$\\x90\\xae\\xc8\\xcc`\\x11\\x1a\\x8c\\x93\\x81\\xdb-\\xf9\\x0c\\x0e\\xdc\\xf7SiV\\x9a\\x85\\xb6\\xcbA\\x142\\x0c<\\xa5\\x08&Lu\\x07\\x80H\\x1e\\xbe\\xfd\\xab\\x92\\xf1\\x16\\x89\\x13Cj\\xaa\\x18J\\xf2!\\x04\\x7f\\x0fb1\\xd0\\xf5\\xecq\\xc5T\\xf1*\\xa3W3\\x8d.D\\xcb\\xff\\x00g\\x87\\xfb\\x0b\\xfb2\"\\'1\\xc8\\x05\\xc1\\xda\\x08\\x8f\\x03\\r\\xc9\\xf5\\'<\\xfa\\xf1\\xed\\xc8\\xdeh\\xa9\\x14\\x8c\\xb6\\x92\\xa2#\\xee\\xf2\\xd5\\xd8\\x80\\xc0q\\x821\\xeb\\xc7\\xe2=r:\\x18\\xb3\\x16\\xb6\\xd23yq\\xf9`\\xccI\\xeaNrx\\xeb\\xe9\\xf55\\x9bu\\xf6o\\xb4\\xabH\\x123\\x13m\\xda\\xccA\\xc1Rr\\xa7#\\x1c*\\xf3\\xeb\\x8e\\x9c\\xe1\\xb5gx\\x97\\x16\\xb9l\\xce*}SR\\xb9\\xbc\\x92\\x03pH)\\xb5\\xd6\\x16!f\\xde>\\xf8P\\x07U*1\\xcf9#\\xada\\x0b\\xa9\\xedd\\x8d\\xad\\xa610\\xe8\\xf1\\xb1\\r\\xd3\\xa6k\\xae\\xf1\\r\\x9a\\xf8s]\\xb1k8\\x84\\x06\\xdcm@\\xddY\\xd3i\\x18=\\xc7#\\x9e\\xfc\\xfe\\x1c\\xd7\\x8a\\xb4\\x97\\xb3\\xb8[\\xa8\\xc3\\xa0\\xb8\\x9aEX\\xb6`\\x04\\x01\\n\\xb0\\xf5\\xdc\\x1f5\\xdb\\x05\\x17+-\\x8f:\\xce\\xc6\\xdf\\x865+I\\xd5\\xac\\xa3\\xd5E\\x9d\\xc4\\x99\\xca\\\\\\xa0\\x92\\xd6\\xe4g\\xa3!\\xce\\x1f\\x928\\x1e\\x98\\xe4\\xf1\\xd7\\xbd\\xd6\\xab\\xe1\\xf6\\x13\\xcbms\\xa5C\\xc02\\xd9\\x83uc\\'L\\x92\\t\\xde\\x9e\\xf8\\'\\xe9^;c\\xa3_]\\xdf\\xdb\\xdb\\x08\\x1e6\\x9d\\xc2!\\x95J\\x82ONq^\\x9b\\xe1]?\\xc6\\xda1\\x9e4\\x95BA\\xff\\x00.\\xd3\\xdc8,\\xbc|\\xcb\\x83\\x829\\xff\\x00\\xebQZ0\\xb6\\xba\\x9d4\\xa7&m\\xc7\\xe2}KP\\xbeF\\xb1kY\\xcb.\\xe6\\x1at\\xbex\\x93\\x1d\\t\\x84\\xe2E\\xe0\\x81\\xf7\\x7f\\x0fM\\xcd/\\xc4\\xbaN\\xb5<j\\xf6\\xd7\"\\xfd\\x01\\x1ff\\x03\\xab\\xe3\\x9e\\xa7\\x83\\x90:\\xd64\\xfa%\\xce\\xb4\\xca\\xd7z:Y\\xcc\\x08\\xcd\\xc4\\x11\\x8c\\xaf\\x07\\x93\"\\xf2\\xdd:c\\xf1\\xeb\\x9d\\xbb\\x8f\\tj:u\\x83=\\xcf\\x88n\\xee\\xb0A\\x99\\xa4\\x18fB@\\xd8\\x0es\\x8e\\xacNy\\xdb\\x8e\\xe6\\xb8%J\\x9c\\xb5ZX\\xe9\\xf6\\x8e\\xd6f\\\\\\xca\\xd7-\\xf6\\x8cy\\xa9 \\n<\\xb6\\'(2\\x0fB3\\xceG\\x15\\x95uj\\xb1<R\\x142\\xa2\\xab\\x1d\\xe0n\\x01A\\xda\\xb9\\xe3\\x91\\xcb\\x13\\x8fN:\\xd6\\xa1\\xb5D\\xb6\\x8cy\\xde[YG\\xb1\\xfc\\xc9\\x0e\\x0f\\xcc[<\\x15\\'\\xd8\\x03\\xce\\xe1\\x91\\xd6\\xa2mQ\\xec\"_\\xb54\\x93aC4\\xe4/\\xcb\\x91\\xc2\\x82\\x06\\t\\xe2\\xa5\\xcei{\\xba\\x99\\xdd\\xa4\\x7f\\xff\\xd9'}"
            ]
          },
          "metadata": {
            "tags": []
          },
          "execution_count": 4
        }
      ]
    },
    {
      "cell_type": "code",
      "metadata": {
        "id": "5iVuozk_CDwL",
        "colab_type": "code",
        "colab": {}
      },
      "source": [
        "f = open('/content/drive/My Drive/pim.txt')\n",
        "pim = f.readline()\n",
        "pim = pim.split('\\t')\n",
        "pim = np.array(list(map(lambda x: float(x), pim)))\n",
        "f.close()\n",
        "f = open('/content/drive/My Drive/nf.txt')\n",
        "nf = f.readline()\n",
        "nf = nf.split('\\t')\n",
        "nf = np.array(list(map(lambda x: float(x), nf)))\n",
        "f.close()\n",
        "f = open('/content/drive/My Drive/u1.txt')\n",
        "u1 = f.readline()\n",
        "u1 = u1.split('\\t')\n",
        "u1 = np.array(list(map(lambda x: float(x), u1)))\n",
        "f.close()"
      ],
      "execution_count": null,
      "outputs": []
    },
    {
      "cell_type": "code",
      "metadata": {
        "id": "49NPlYHlW64A",
        "colab_type": "code",
        "colab": {}
      },
      "source": [
        "K = 10\n",
        "L = 900\n",
        "N = 900"
      ],
      "execution_count": null,
      "outputs": []
    },
    {
      "cell_type": "code",
      "metadata": {
        "id": "fJvLwCECXYPu",
        "colab_type": "code",
        "colab": {}
      },
      "source": [
        "m1 = pim[:N].reshape((N,1))\n",
        "m2 = u1[:N].reshape((N,1))"
      ],
      "execution_count": null,
      "outputs": []
    },
    {
      "cell_type": "code",
      "metadata": {
        "id": "bYzmZavCXe7s",
        "colab_type": "code",
        "colab": {}
      },
      "source": [
        "\n",
        "C = np.random.randn(L,N)\n",
        "\n",
        "\n",
        "h1 = np.random.randn(K,1)\n",
        "h2 = np.random.randn(K,1)\n",
        "h3 = np.random.randn(K,1)\n",
        "h4 = np.random.randn(K,1)\n",
        "\n",
        "B = np.random.randn(L,K)\n",
        "#B = np.eye(L,K)\n",
        "#B2 = np.random.randn(L,K)"
      ],
      "execution_count": null,
      "outputs": []
    },
    {
      "cell_type": "code",
      "metadata": {
        "id": "JxBcdaHqXndK",
        "colab_type": "code",
        "colab": {}
      },
      "source": [
        "A = circulant(C[:,0]) @ B\n",
        "for iter in range(1,N):\n",
        "    elem = circulant(C[:,iter]) @ B\n",
        "    A = np.hstack((A,elem))\n",
        "#    print(iter)"
      ],
      "execution_count": null,
      "outputs": []
    },
    {
      "cell_type": "code",
      "metadata": {
        "id": "K6Lko_dwfDAf",
        "colab_type": "code",
        "colab": {}
      },
      "source": [
        "X11 = h1 @ m1.reshape((1,N))\n",
        "X12 = h2 @ m1.reshape((1,N))\n",
        "\n",
        "X1 = np.vstack((X11,X12))\n",
        "\n",
        "X21 = h3 @ m2.reshape((1,N))\n",
        "X22 = h4 @ m2.reshape((1,N))\n",
        "\n",
        "X2 = np.vstack((X21,X22))"
      ],
      "execution_count": null,
      "outputs": []
    },
    {
      "cell_type": "code",
      "metadata": {
        "id": "2Eewj63sQwq6",
        "colab_type": "code",
        "colab": {}
      },
      "source": [
        "\n",
        "X = X1 + X2"
      ],
      "execution_count": null,
      "outputs": []
    },
    {
      "cell_type": "code",
      "metadata": {
        "id": "1uKgvo8hYlJX",
        "colab_type": "code",
        "colab": {}
      },
      "source": [
        "a, b = A.shape\n",
        "A0 = np.zeros((a,b))\n",
        "A1 = np.hstack((A,A0))\n",
        "A2 = np.hstack((A0,A))\n",
        "A = np.vstack((A1,A2))"
      ],
      "execution_count": null,
      "outputs": []
    },
    {
      "cell_type": "code",
      "metadata": {
        "id": "WLnFil2Rnlmj",
        "colab_type": "code",
        "colab": {}
      },
      "source": [
        "A = np.genfromtxt('/content/drive/My Drive/Anoise.csv', delimiter=',')"
      ],
      "execution_count": null,
      "outputs": []
    },
    {
      "cell_type": "code",
      "metadata": {
        "id": "iaROq4phnqsM",
        "colab_type": "code",
        "colab": {}
      },
      "source": [
        "X = np.genfromtxt('/content/drive/My Drive/X.csv', delimiter=',')"
      ],
      "execution_count": null,
      "outputs": []
    },
    {
      "cell_type": "code",
      "metadata": {
        "id": "qp_LCl99Q2xO",
        "colab_type": "code",
        "colab": {}
      },
      "source": [
        "\n",
        "y =  A @ X.reshape((2*N*K,1)) + 40000*nf[:2*L].reshape((2*L,1))"
      ],
      "execution_count": null,
      "outputs": []
    },
    {
      "cell_type": "code",
      "metadata": {
        "id": "dMPVqZWZvPTA",
        "colab_type": "code",
        "colab": {
          "base_uri": "https://localhost:8080/",
          "height": 283
        },
        "outputId": "a3f48552-51c0-4da0-ead3-9e44201a4de6"
      },
      "source": [
        "plt.plot(y[:N])"
      ],
      "execution_count": null,
      "outputs": [
        {
          "output_type": "execute_result",
          "data": {
            "text/plain": [
              "[<matplotlib.lines.Line2D at 0x7f90e1c87d68>]"
            ]
          },
          "metadata": {
            "tags": []
          },
          "execution_count": 72
        },
        {
          "output_type": "display_data",
          "data": {
            "image/png": "[encoded data removed]",
            "text/plain": [
              "<Figure size 432x288 with 1 Axes>"
            ]
          },
          "metadata": {
            "tags": [],
            "needs_background": "light"
          }
        }
      ]
    },
    {
      "cell_type": "code",
      "metadata": {
        "id": "tZZLcv3XfbuF",
        "colab_type": "code",
        "colab": {}
      },
      "source": [
        "\n",
        "def prox_nuclear(A, lambd):\n",
        "    U, S, Vh = np.linalg.svd(A)\n",
        "    svp = np.sum(S > lambd)\n",
        "    if svp >= 1:\n",
        "        S = S[:svp] - lambd\n",
        "        X = U[:,:svp] @ np.diag(S) @ Vh[:svp]\n",
        "        nucnorm = np.sum(S)\n",
        "    else:\n",
        "        X = np.zeros(A.shape)\n",
        "        nucnorm = 0\n",
        "    return X, nucnorm"
      ],
      "execution_count": null,
      "outputs": []
    },
    {
      "cell_type": "code",
      "metadata": {
        "id": "YcYfdcCQfels",
        "colab_type": "code",
        "colab": {}
      },
      "source": [
        "def prox_l21(A,lambd):\n",
        "    X = np.zeros(A.shape)\n",
        "    for i in range(X.shape[1]):\n",
        "        nxi = np.linalg.norm(A[:,i])\n",
        "        if nxi > lambd:\n",
        "            X[:,i] = (1 - lambd/nxi) * A[:,i]\n",
        "    return X\n",
        "    "
      ],
      "execution_count": null,
      "outputs": []
    },
    {
      "cell_type": "code",
      "metadata": {
        "id": "c8mlFUA1fhUN",
        "colab_type": "code",
        "colab": {}
      },
      "source": [
        "\n",
        "\n",
        "def lrr(y, A, lambd):\n",
        "    tol = 6e-4\n",
        "    max_iter = 500\n",
        "    ro = 1.1\n",
        "    mu = 1e-4\n",
        "    max_mu = 1e10\n",
        "\n",
        "    d, na = y.shape\n",
        "    a, nb = A.shape\n",
        "    #X = np.zeros((nb, na))\n",
        "    X = np.zeros((2*K,N))\n",
        "    E = np.zeros((d, na))\n",
        "    J = X\n",
        "\n",
        "    Y1 = E\n",
        "    Y2 = X\n",
        "   \n",
        "    Ablock = A[:int(a/2),:int(nb/2)]\n",
        "\n",
        "    AtA = Ablock.T @ Ablock\n",
        "    Aty = A.T @ y\n",
        "    I = np.eye(int(nb/2))\n",
        "    invAtAIblock = np.linalg.inv(AtA + I)\n",
        "    zeros = np.zeros((int(nb/2),int(nb/2)))\n",
        "   # print(invAtAIblock.shape, zeros.shape)\n",
        "    invAtAI = np.vstack((np.hstack((invAtAIblock,zeros)), np.hstack((zeros,invAtAIblock))))\n",
        "  \n",
        "    errs = []\n",
        "    times = []\n",
        "    start = time.time()\n",
        "\n",
        "    for iter in range(max_iter):\n",
        "      \n",
        "\n",
        "        J, nuclearnormJ = prox_nuclear(X+Y2/mu, 1/mu)\n",
        "        E = prox_l21(y - A @ X.reshape((2*K*N,1)) + Y1/mu, lambd/mu)\n",
        "\n",
        "        X = (invAtAI @ ((A.T @ (Y1/mu -E) + Aty).reshape((2*K,N)) - Y2/mu + J).reshape((2*K*N,1))).reshape((2*K,N))\n",
        "        dY1 = y - A @ X.reshape((2*K*N,1)) - E\n",
        "        dY2 = X - J\n",
        "\n",
        "        Y1 += mu * dY1\n",
        "        Y2 += mu * dY2\n",
        "        mu = min(ro*mu, max_mu)\n",
        "        times.append(time.time() - start)\n",
        "       \n",
        "        metric = np.linalg.norm(y - A @ X.reshape((2*K*N,1)))\n",
        "        #print(metric)\n",
        "        errs.append(metric)\n",
        "        if metric < tol:\n",
        "            break\n",
        "    return J, E, errs, iter, times"
      ],
      "execution_count": null,
      "outputs": []
    },
    {
      "cell_type": "code",
      "metadata": {
        "id": "QqY4NmJNfj5D",
        "colab_type": "code",
        "colab": {}
      },
      "source": [
        "Xk, E, errs, iters, times = lrr(y, A, 0.01)"
      ],
      "execution_count": null,
      "outputs": []
    },
    {
      "cell_type": "code",
      "metadata": {
        "id": "KWWQcIb2fmTu",
        "colab_type": "code",
        "colab": {}
      },
      "source": [
        "u, s, v = np.linalg.svd(Xk)"
      ],
      "execution_count": null,
      "outputs": []
    },
    {
      "cell_type": "code",
      "metadata": {
        "id": "guXj07O-vUoq",
        "colab_type": "code",
        "colab": {
          "base_uri": "https://localhost:8080/",
          "height": 101
        },
        "outputId": "819f6bb1-6eae-485b-b8de-642047aebe4b"
      },
      "source": [
        "\n",
        "s"
      ],
      "execution_count": null,
      "outputs": [
        {
          "output_type": "execute_result",
          "data": {
            "text/plain": [
              "array([9.06391164e-01, 9.89763649e-02, 6.54325046e-02, 4.25922252e-02,\n",
              "       4.12944274e-02, 3.37365856e-02, 2.49752177e-02, 2.25180731e-02,\n",
              "       1.98732398e-02, 1.49742037e-02, 1.26842271e-02, 9.12385495e-03,\n",
              "       5.07851041e-03, 1.26296487e-03, 2.65034706e-04, 2.18775606e-05,\n",
              "       7.65562003e-06, 6.15559683e-06, 3.00426210e-06, 2.24945391e-06])"
            ]
          },
          "metadata": {
            "tags": []
          },
          "execution_count": 88
        }
      ]
    },
    {
      "cell_type": "code",
      "metadata": {
        "id": "Dc2aP0LAvhai",
        "colab_type": "code",
        "colab": {
          "base_uri": "https://localhost:8080/",
          "height": 279
        },
        "outputId": "0cb1d9c3-2ef2-4215-c4df-8250bc30d1f3"
      },
      "source": [
        "y_pos = np.arange(len(s))\n",
        "performance = s\n",
        "\n",
        "plt.bar(y_pos, performance, align='center', alpha=0.5)\n",
        "plt.xticks(y_pos)\n",
        "plt.ylabel('Value')\n",
        "plt.xlabel('Number of the eigenvalue')\n",
        "\n",
        "plt.show()"
      ],
      "execution_count": null,
      "outputs": [
        {
          "output_type": "display_data",
          "data": {
            "image/png": "[encoded data removed]",
            "text/plain": [
              "<Figure size 432x288 with 1 Axes>"
            ]
          },
          "metadata": {
            "tags": [],
            "needs_background": "light"
          }
        }
      ]
    },
    {
      "cell_type": "code",
      "metadata": {
        "id": "0ckpSuZyEY-h",
        "colab_type": "code",
        "colab": {}
      },
      "source": [
        "signal1 = v[0,:]"
      ],
      "execution_count": null,
      "outputs": []
    },
    {
      "cell_type": "code",
      "metadata": {
        "id": "CaMGyQCzEeNR",
        "colab_type": "code",
        "colab": {
          "base_uri": "https://localhost:8080/",
          "height": 282
        },
        "outputId": "553ff003-ca3e-48e0-8ad1-630a05982cdd"
      },
      "source": [
        "plt.plot(signal1)"
      ],
      "execution_count": null,
      "outputs": [
        {
          "output_type": "execute_result",
          "data": {
            "text/plain": [
              "[<matplotlib.lines.Line2D at 0x7f62fed1c518>]"
            ]
          },
          "metadata": {
            "tags": []
          },
          "execution_count": 51
        },
        {
          "output_type": "display_data",
          "data": {
            "image/png": "[encoded data removed]",
            "text/plain": [
              "<Figure size 432x288 with 1 Axes>"
            ]
          },
          "metadata": {
            "tags": [],
            "needs_background": "light"
          }
        }
      ]
    },
    {
      "cell_type": "code",
      "metadata": {
        "id": "M9a4nc1oHZiD",
        "colab_type": "code",
        "colab": {
          "base_uri": "https://localhost:8080/",
          "height": 282
        },
        "outputId": "4f3cf119-f57c-4959-a280-02c9bd2985da"
      },
      "source": [
        "plt.plot(pim)"
      ],
      "execution_count": null,
      "outputs": [
        {
          "output_type": "execute_result",
          "data": {
            "text/plain": [
              "[<matplotlib.lines.Line2D at 0x7f57c0c43ef0>]"
            ]
          },
          "metadata": {
            "tags": []
          },
          "execution_count": 5
        },
        {
          "output_type": "display_data",
          "data": {
            "image/png": "[encoded data removed]",
            "text/plain": [
              "<Figure size 432x288 with 1 Axes>"
            ]
          },
          "metadata": {
            "tags": [],
            "needs_background": "light"
          }
        }
      ]
    },
    {
      "cell_type": "code",
      "metadata": {
        "id": "BNpL-tV5hKBy",
        "colab_type": "code",
        "colab": {
          "base_uri": "https://localhost:8080/",
          "height": 293
        },
        "outputId": "a63b2252-7039-402b-cccd-d2e9c5c9c91f"
      },
      "source": [
        "plt.plot(0.0001*nf[:900])"
      ],
      "execution_count": null,
      "outputs": [
        {
          "output_type": "execute_result",
          "data": {
            "text/plain": [
              "[<matplotlib.lines.Line2D at 0x7fc5dea0c6d8>]"
            ]
          },
          "metadata": {
            "tags": []
          },
          "execution_count": 31
        },
        {
          "output_type": "display_data",
          "data": {
            "image/png": "[encoded data removed]",
            "text/plain": [
              "<Figure size 432x288 with 1 Axes>"
            ]
          },
          "metadata": {
            "tags": [],
            "needs_background": "light"
          }
        }
      ]
    },
    {
      "cell_type": "code",
      "metadata": {
        "id": "_c-sIlPiEhoR",
        "colab_type": "code",
        "colab": {}
      },
      "source": [
        "signal2 = v[1,:]"
      ],
      "execution_count": null,
      "outputs": []
    },
    {
      "cell_type": "code",
      "metadata": {
        "id": "mhJK_bvHEknB",
        "colab_type": "code",
        "colab": {
          "base_uri": "https://localhost:8080/",
          "height": 282
        },
        "outputId": "919a02f7-6c94-4e8c-9612-26af28f96669"
      },
      "source": [
        "plt.plot(signal2)"
      ],
      "execution_count": null,
      "outputs": [
        {
          "output_type": "execute_result",
          "data": {
            "text/plain": [
              "[<matplotlib.lines.Line2D at 0x7f62ff30ff60>]"
            ]
          },
          "metadata": {
            "tags": []
          },
          "execution_count": 49
        },
        {
          "output_type": "display_data",
          "data": {
            "image/png": "[encoded data removed]",
            "text/plain": [
              "<Figure size 432x288 with 1 Axes>"
            ]
          },
          "metadata": {
            "tags": [],
            "needs_background": "light"
          }
        }
      ]
    },
    {
      "cell_type": "code",
      "metadata": {
        "id": "ezt2L1NSZnU_",
        "colab_type": "code",
        "colab": {
          "base_uri": "https://localhost:8080/",
          "height": 282
        },
        "outputId": "f864a165-b894-4490-e7d6-ea216b6799b7"
      },
      "source": [
        "plt.plot(u1[:900])"
      ],
      "execution_count": null,
      "outputs": [
        {
          "output_type": "execute_result",
          "data": {
            "text/plain": [
              "[<matplotlib.lines.Line2D at 0x7f62ff1fb8d0>]"
            ]
          },
          "metadata": {
            "tags": []
          },
          "execution_count": 48
        },
        {
          "output_type": "display_data",
          "data": {
            "image/png": "[encoded data removed]",
            "text/plain": [
              "<Figure size 432x288 with 1 Axes>"
            ]
          },
          "metadata": {
            "tags": [],
            "needs_background": "light"
          }
        }
      ]
    },
    {
      "cell_type": "code",
      "metadata": {
        "id": "zmL-7BwBEngp",
        "colab_type": "code",
        "colab": {
          "base_uri": "https://localhost:8080/",
          "height": 34
        },
        "outputId": "56cb88e7-7a20-4d4a-cc2c-04ccaad274f4"
      },
      "source": [
        "times[-1]"
      ],
      "execution_count": null,
      "outputs": [
        {
          "output_type": "execute_result",
          "data": {
            "text/plain": [
              "78.54267454147339"
            ]
          },
          "metadata": {
            "tags": []
          },
          "execution_count": 19
        }
      ]
    },
    {
      "cell_type": "code",
      "metadata": {
        "id": "Zfj6FzKUEuBR",
        "colab_type": "code",
        "colab": {}
      },
      "source": [
        "def sae(s1, s2):\n",
        "    return np.arccos((s1 @ s2) / (np.linalg.norm(s1) * np.linalg.norm(s2))) ** 2"
      ],
      "execution_count": null,
      "outputs": []
    },
    {
      "cell_type": "code",
      "metadata": {
        "id": "9bVDNMAJEyLC",
        "colab_type": "code",
        "colab": {
          "base_uri": "https://localhost:8080/",
          "height": 34
        },
        "outputId": "6aa341eb-6574-449b-aeb7-e530adae51ed"
      },
      "source": [
        "\n",
        "sae(u1[:900], v[1,:])"
      ],
      "execution_count": null,
      "outputs": [
        {
          "output_type": "execute_result",
          "data": {
            "text/plain": [
              "0.8910228272004368"
            ]
          },
          "metadata": {
            "tags": []
          },
          "execution_count": 26
        }
      ]
    },
    {
      "cell_type": "code",
      "metadata": {
        "id": "UAI0dIKKE4nx",
        "colab_type": "code",
        "colab": {
          "base_uri": "https://localhost:8080/",
          "height": 34
        },
        "outputId": "b6e4be6d-96c3-4120-8314-d41dfe687ea9"
      },
      "source": [
        "\n",
        "sae(pim[:900], v[0,:])"
      ],
      "execution_count": null,
      "outputs": [
        {
          "output_type": "execute_result",
          "data": {
            "text/plain": [
              "0.07514775196373703"
            ]
          },
          "metadata": {
            "tags": []
          },
          "execution_count": 24
        }
      ]
    },
    {
      "cell_type": "code",
      "metadata": {
        "id": "yxFgwTyrY-jS",
        "colab_type": "code",
        "colab": {}
      },
      "source": [
        "np.savetxt(\"v0.csv\", v[0,:], delimiter=\",\")\n",
        "#np.savetxt(\"v1.csv\", v[1,:], delimiter=\",\")"
      ],
      "execution_count": null,
      "outputs": []
    },
    {
      "cell_type": "code",
      "metadata": {
        "id": "Lg-xKXwN1NN7",
        "colab_type": "code",
        "colab": {}
      },
      "source": [
        "np.savetxt(\"A.csv\", A, delimiter=\",\")"
      ],
      "execution_count": null,
      "outputs": []
    },
    {
      "cell_type": "code",
      "metadata": {
        "id": "JT-tpzEDRIGl",
        "colab_type": "code",
        "colab": {}
      },
      "source": [
        "np.savetxt(\"X.csv\", X, delimiter=\",\")"
      ],
      "execution_count": null,
      "outputs": []
    },
    {
      "cell_type": "markdown",
      "metadata": {
        "id": "1E_YKoptc2EO",
        "colab_type": "text"
      },
      "source": [
        "**channels**"
      ]
    },
    {
      "cell_type": "code",
      "metadata": {
        "id": "8Nj8b4aQr9Vb",
        "colab_type": "code",
        "colab": {}
      },
      "source": [
        "from google.colab import drive, files\n",
        "import numpy as np\n",
        "from scipy.linalg import circulant, block_diag\n",
        "import time\n",
        "import matplotlib.pyplot as plt"
      ],
      "execution_count": null,
      "outputs": []
    },
    {
      "cell_type": "code",
      "metadata": {
        "id": "dn1wZHI7c6m1",
        "colab_type": "code",
        "colab": {
          "base_uri": "https://localhost:8080/",
          "height": 34
        },
        "outputId": "d401213d-4158-4798-bf4a-0430eeca094e"
      },
      "source": [
        "drive.mount('/content/drive')"
      ],
      "execution_count": null,
      "outputs": [
        {
          "output_type": "stream",
          "text": [
            "Drive already mounted at /content/drive; to attempt to forcibly remount, call drive.mount(\"/content/drive\", force_remount=True).\n"
          ],
          "name": "stdout"
        }
      ]
    },
    {
      "cell_type": "code",
      "metadata": {
        "id": "JLzIsSyjc8wI",
        "colab_type": "code",
        "colab": {}
      },
      "source": [
        "f = open('/content/drive/My Drive/pim.txt')\n",
        "pim = f.readline()\n",
        "pim = pim.split('\\t')\n",
        "pim = np.array(list(map(lambda x: float(x), pim)))\n",
        "f.close()\n",
        "f = open('/content/drive/My Drive/nf.txt')\n",
        "nf = f.readline()\n",
        "nf = nf.split('\\t')\n",
        "nf = np.array(list(map(lambda x: float(x), nf)))\n",
        "f.close()"
      ],
      "execution_count": null,
      "outputs": []
    },
    {
      "cell_type": "code",
      "metadata": {
        "id": "iJnJS7_HdGaW",
        "colab_type": "code",
        "colab": {}
      },
      "source": [
        "K = 10\n",
        "L = 784\n",
        "N = 784"
      ],
      "execution_count": null,
      "outputs": []
    },
    {
      "cell_type": "code",
      "metadata": {
        "id": "iwYF0pMSomHq",
        "colab_type": "code",
        "colab": {}
      },
      "source": [
        "m = []\n",
        "for i in range(2500):\n",
        "    m.append(X_train[i])"
      ],
      "execution_count": null,
      "outputs": []
    },
    {
      "cell_type": "code",
      "metadata": {
        "id": "pPP28gKddJb6",
        "colab_type": "code",
        "colab": {}
      },
      "source": [
        "\n",
        "\n",
        "m = []\n",
        "for i in range (2500):\n",
        " \n",
        "    m.append(pim[i*N:(i+1)*N].reshape((N,1)))"
      ],
      "execution_count": null,
      "outputs": []
    },
    {
      "cell_type": "code",
      "metadata": {
        "id": "3onCckXWdLvD",
        "colab_type": "code",
        "colab": {}
      },
      "source": [
        "C = np.random.randn(L,N)\n",
        "B = np.random.randn(L,K)"
      ],
      "execution_count": null,
      "outputs": []
    },
    {
      "cell_type": "code",
      "metadata": {
        "id": "-cfGvvdydOGb",
        "colab_type": "code",
        "colab": {}
      },
      "source": [
        "A = circulant(C[:,0]) @ B\n",
        "for iter in range(1,N):\n",
        "    elem = circulant(C[:,iter]) @ B\n",
        "    A = np.hstack((A,elem))"
      ],
      "execution_count": null,
      "outputs": []
    },
    {
      "cell_type": "code",
      "metadata": {
        "id": "eE4ZZbABdRXM",
        "colab_type": "code",
        "colab": {}
      },
      "source": [
        "\n",
        "H = np.zeros((25000,2500))\n",
        "for i in range(100):\n",
        "    for j in range(100):\n",
        "        h = np.random.randn(K,)\n",
        "        H[i*K:(i+1)*K,j] = h"
      ],
      "execution_count": null,
      "outputs": []
    },
    {
      "cell_type": "code",
      "metadata": {
        "id": "IVK2os1NdTpD",
        "colab_type": "code",
        "colab": {}
      },
      "source": [
        "def prox_nuclear(A, lambd):\n",
        "    U, S, Vh = np.linalg.svd(A)\n",
        "    svp = np.sum(S > lambd)\n",
        "    if svp >= 1:\n",
        "        S = S[:svp] - lambd\n",
        "        X = U[:,:svp] @ np.diag(S) @ Vh[:svp]\n",
        "        nucnorm = np.sum(S)\n",
        "    else:\n",
        "        X = np.zeros(A.shape)\n",
        "        nucnorm = 0\n",
        "    return X, nucnorm"
      ],
      "execution_count": null,
      "outputs": []
    },
    {
      "cell_type": "code",
      "metadata": {
        "id": "KJnwslmSdWIH",
        "colab_type": "code",
        "colab": {}
      },
      "source": [
        "def prox_l21(A,lambd):\n",
        "    X = np.zeros(A.shape)\n",
        "    for i in range(X.shape[1]):\n",
        "        nxi = np.linalg.norm(A[:,i])\n",
        "        if nxi > lambd:\n",
        "            X[:,i] = (1 - lambd/nxi) * A[:,i]\n",
        "    return X"
      ],
      "execution_count": null,
      "outputs": []
    },
    {
      "cell_type": "code",
      "metadata": {
        "id": "PUxGS2gidYqv",
        "colab_type": "code",
        "colab": {}
      },
      "source": [
        "def lrr(y, A, lambd,p):\n",
        "    tol = 1e-4\n",
        "    max_iter = 500\n",
        "    ro = 1.1\n",
        "    mu = 1e-4\n",
        "    max_mu = 1e10\n",
        "\n",
        "    d, na = y.shape\n",
        "    a, nb = A.shape\n",
        "    #X = np.zeros((nb, na))\n",
        "    X = np.zeros((p*K,N))\n",
        "    E = np.zeros((d, na))\n",
        "    J = X\n",
        "\n",
        "    Y1 = E\n",
        "    Y2 = X\n",
        "   \n",
        "    Ablock = A[:int(a/p),:int(nb/p)]\n",
        "\n",
        "    AtA = Ablock.T @ Ablock\n",
        "    Aty = A.T @ y\n",
        "    I = np.eye(int(nb/p))\n",
        "    invAtAIblock = np.linalg.inv(AtA + I)\n",
        "   \n",
        "    invAtAI = block_diag(invAtAIblock,invAtAIblock)\n",
        "    for i in range(2,p):\n",
        "        invAtAI = block_diag(invAtAI,invAtAIblock)\n",
        "  \n",
        "    #errs = []\n",
        "    times = []\n",
        "    start = time.time()\n",
        "\n",
        "    for iter in range(max_iter):\n",
        "      \n",
        "\n",
        "        J, nuclearnormJ = prox_nuclear(X+Y2/mu, 1/mu)\n",
        "        E = prox_l21(y - A @ X.reshape((p*K*N,1)) + Y1/mu, lambd/mu)\n",
        "      #  print(invAtAI.shape, A.T.shape, Y1.shape, E.shape, Aty.shape, Y2.shape, J.shape)\n",
        "        X = (invAtAI @ ((A.T @ (Y1/mu -E) + Aty).reshape((p*K,N)) - Y2/mu + J).reshape((p*K*N,1))).reshape((p*K,N))\n",
        "        \n",
        "        dY1 = y - A @ X.reshape((p*K*N,1)) - E\n",
        "        dY2 = X - J\n",
        "\n",
        "        Y1 += mu * dY1\n",
        "        Y2 += mu * dY2\n",
        "        mu = min(ro*mu, max_mu)\n",
        "        times.append(time.time() - start)\n",
        "       \n",
        "        metric = np.linalg.norm(y - A @ X.reshape((p*K*N,1)))\n",
        "        #print(metric)\n",
        "       # errs.append(metric)\n",
        "        if metric < tol:\n",
        "            break\n",
        "    return J, E,  iter, times"
      ],
      "execution_count": null,
      "outputs": []
    },
    {
      "cell_type": "code",
      "metadata": {
        "id": "zx9onC_Ydbp1",
        "colab_type": "code",
        "colab": {}
      },
      "source": [
        "def sae(s1, s2):\n",
        "    return min(np.arccos((s1 @ s2) / (np.linalg.norm(s1) * np.linalg.norm(s2))) ** 2, np.arccos((s1 @ -s2) / (np.linalg.norm(s1) * np.linalg.norm(s2))) ** 2)"
      ],
      "execution_count": null,
      "outputs": []
    },
    {
      "cell_type": "code",
      "metadata": {
        "id": "lydPIjZ7deP8",
        "colab_type": "code",
        "colab": {}
      },
      "source": [
        "#for p in range(2,2500):\n",
        "p = 6\n",
        "X = np.zeros((10*p,1))\n",
        "A0 = A\n",
        "for i in range(p):\n",
        "    x0 = H[:K,i].reshape((K,1)) @ m[i].reshape((1,N))\n",
        "    for j in range(1,p):\n",
        "        x = H[j*K:(j+1)*K,i].reshape((K,1)) @ m[i].reshape((1,N))  \n",
        "        x0 = np.vstack((x0,x))               \n",
        "    X = X + x0\n",
        "    # print(i)\n",
        "    if i > 0:\n",
        "        A0 = block_diag(A0,A)\n",
        "# print(A0.shape, X.shape)\n",
        "y =  A0 @ X.reshape((p*N*K,1)) #+ nf[:p*L].reshape((p*L,1))\n",
        "\n",
        "Xk, E,  iters, times = lrr(y, A0, 0.01, p)\n",
        "\n",
        "u, s, v = np.linalg.svd(Xk)\n",
        "\n",
        "name = \"vectors\" + str(p) + \".csv\"\n",
        "np.savetxt(name, v[:p,:], delimiter=\",\")\n",
        "files.download(name)\n",
        "\n",
        "saes = []\n",
        "for i in range(p):\n",
        "    angle = sae(v[i,:], m[i])\n",
        "    saes.append(angle)\n",
        "name = \"sae\" + str(p) + \".csv\"\n",
        "np.savetxt(name, np.array(saes), delimiter=\",\")\n",
        "files.download(name)"
      ],
      "execution_count": null,
      "outputs": []
    },
    {
      "cell_type": "code",
      "metadata": {
        "id": "xDb_iAxPdldk",
        "colab_type": "code",
        "colab": {}
      },
      "source": [
        "saes = []\n",
        "for i in range(p):\n",
        "    angle = sae(v[i,:], m[i])\n",
        "    saes.append(angle)\n",
        "name = \"sae\" + str(p) + \".csv\"\n",
        "np.savetxt(name, np.array(saes), delimiter=\",\")"
      ],
      "execution_count": null,
      "outputs": []
    },
    {
      "cell_type": "code",
      "metadata": {
        "id": "EeZPb3mXegaQ",
        "colab_type": "code",
        "colab": {}
      },
      "source": [
        ""
      ],
      "execution_count": null,
      "outputs": []
    }
  ]
}